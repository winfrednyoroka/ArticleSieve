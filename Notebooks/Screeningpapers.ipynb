{
 "cells": [
  {
   "cell_type": "markdown",
   "id": "7dc727d7-a066-4a63-a63c-7295dbe153ec",
   "metadata": {
    "editable": true,
    "slideshow": {
     "slide_type": ""
    },
    "tags": []
   },
   "source": [
    "###### Table of contents\n",
    "1. [Automating screening of papers](#Automating-screening-of-papers)\n",
    "2. [Workflow using BERT embeddings implementations](#I.-Title-and-abstract-only-classification-using-BERT-implementations:)\n",
    "3. [BERT based text classification](#BERT-Embeddings-for-text-classification)\n",
    "4. [Titles only](#Titles-only)\n",
    "5. [Titles and abstract](#Titles-and-abstracts)\n",
    "6. [BioBERT based text classification](#BioBERT-Embeddings-for-text-classification)\n",
    "7. [Titles only](#Titles-only-BioBERT)\n",
    "5. [Titles and abstract](#Titles-and-abstracts-BioBERT)\n",
    "8. [Summary](#Summary)\n",
    "9. [BioBERT-dmis-lab](#BioBERT-dmis-lab/biobert-base-cased-v1.1)\n",
    "10. [Titles only](#Text-classification,-titles-only-using-BioBERT-dmis-lab)\n",
    "11. [Titles and abstract](#Text-classification-Title-and-abstract-using-BioBERT-dmis-lab)\n",
    "12. [Predict category from ref centroid](#Calculate-the-Euclidean-distance-of-other-papers-from-the-accepted/include-centroid)"
   ]
  },
  {
   "cell_type": "markdown",
   "id": "fa8e82a2-802f-425d-ba9f-cf86c9b3c0c1",
   "metadata": {},
   "source": [
    "# Automating screening of papers\n",
    "\n",
    "Try and test different approaches and evaluate which one of these is better.\n",
    "\n",
    "**I) Use text classification using embeddings**\n",
    "\n",
    "    a) Titles only\n",
    "    b) Titles and abstracts only\n",
    "    \n",
    "Use Linear or non-linear methods for dimension reduction.\n",
    "\n",
    "**II) Prompt engineering using Llama 🦙 (open source), ChatGPT (paid version) etc**\n",
    "\n",
    "    a) Eligibility criteria (inclusion and exclusion criteria).\n",
    "    b) Extract PICO and other necessary terms from the text (relevant features) and these can be used alongside the score to determine whether to include or not."
   ]
  },
  {
   "cell_type": "markdown",
   "id": "ab27e36c-431c-43e0-890f-8731af794f51",
   "metadata": {},
   "source": [
    "# I. Title and abstract only classification using BERT implementations:\n",
    "\n",
    "Getting started with [BERT](https://mccormickml.com/2020/06/22/domain-specific-bert-tutorial/)\n",
    "* **BERT regular**\n",
    "* **BioBERT**\n",
    "\n",
    "The workflow below details my strategy of classifying articles by title and title and abstract only using BERT implementations.\n",
    "\n",
    "![Autoscreeningstrategy](../Images/Screening_usingBERT.png)\n"
   ]
  },
  {
   "cell_type": "markdown",
   "id": "3bb4bbe4-9f01-466d-b865-684388d8a5c6",
   "metadata": {},
   "source": [
    "# Install and load libraries"
   ]
  },
  {
   "cell_type": "code",
   "execution_count": null,
   "id": "97453376-98cc-40b5-9d7f-59c6ce9e1c06",
   "metadata": {},
   "outputs": [],
   "source": [
    "#Install libraries\n",
    "\n",
    "# !pip install scikit-learn\n",
    "# !pip install transformers\n",
    "# !pip install torch torchvision\n",
    "# !pip install matplotlib\n",
    "# !pip install pandas\n",
    "# !pip install numpy\n",
    "# !pip install altair\n",
    "# !pip install ipywidgets\n",
    "# !conda install pytorch torchvision -c pytorch - has worked"
   ]
  },
  {
   "cell_type": "code",
   "execution_count": null,
   "id": "06e122c3-b74f-4541-b85c-66853e372522",
   "metadata": {},
   "outputs": [],
   "source": [
    "# Import libraries\n",
    "import pandas as pd\n",
    "import numpy as np\n",
    "import altair as alt\n",
    "from sklearn.decomposition import PCA\n",
    "from sklearn.metrics.pairwise import cosine_similarity\n",
    "from sklearn.cluster import KMeans\n",
    "\n",
    "from transformers import AutoTokenizer, AutoModel\n",
    "import torch\n",
    "import numpy as np\n",
    "import warnings\n",
    "warnings.filterwarnings('ignore')\n",
    "# TOKENIZERS_PARALLELISM =True | False"
   ]
  },
  {
   "cell_type": "markdown",
   "id": "3c59820c-9ae8-48ff-aaa2-74ac8011ba59",
   "metadata": {},
   "source": [
    "# BERT Embeddings for text classification"
   ]
  },
  {
   "cell_type": "markdown",
   "id": "ae70566c-3581-45e9-a46b-65cf331d6b5c",
   "metadata": {},
   "source": [
    "## Titles only "
   ]
  },
  {
   "cell_type": "markdown",
   "id": "d4817c86-7f28-4b82-85cf-eb6209e78d76",
   "metadata": {},
   "source": [
    "### Calculate embeddings and calculate the centroids."
   ]
  },
  {
   "cell_type": "code",
   "execution_count": null,
   "id": "274a9466-e59d-4eec-8c78-37c89eb87c87",
   "metadata": {},
   "outputs": [],
   "source": [
    "# Using BERT a pre-trained model to generate embeddings\n",
    "# Load a pre-trained model tokenizer\n",
    "\n",
    "tokenizer = AutoTokenizer.from_pretrained('bert-base-uncased')\n",
    "model = AutoModel.from_pretrained('bert-base-uncased')\n",
    "\n",
    "# Print out the type of tokenizer and model in use\n",
    "print(f'The tokenizer in use is {tokenizer}')\n",
    "print(f'The model in use is {model}')\n",
    "# Func\n",
    "def  get_embedding(sentence):\n",
    "    inputs = tokenizer(sentence, return_tensors='pt',padding=True,truncation=True)\n",
    "    outputs = model(**inputs)\n",
    "    return outputs.last_hidden_state.mean(dim=1).detach().numpy()\n",
    "\n",
    "def calculate_centroid(embeddings):\n",
    "    return np.mean(embeddings,axis=0)\n",
    "\n"
   ]
  },
  {
   "cell_type": "code",
   "execution_count": null,
   "id": "58a59796-1823-4b6d-a32c-9b9caeefb98e",
   "metadata": {},
   "outputs": [],
   "source": [
    "# Input\n",
    "# Pre-classified sentences\n",
    "accept_titles = ['The role of adiposity in cardiometabolic traits: a Mendelian randomization analysis','Age- and sex-specific causal effects of adiposity on cardiovascular risk factors','Causal Effect of Adiposity Measures on Blood Pressure Traits in 2 Urban Swedish Cohorts: A Mendelian Randomization Study'\n",
    "]\n",
    "reject_titles = ['The causal effects of health conditions and risk factors on social and socioeconomic outcomes: Mendelian randomization in UK Biobank','Association of serum HDL-cholesterol and apolipoprotein A1 levels with risk of severe SARS-CoV-2 infection','Effect of Systolic Blood Pressure on Left Ventricular Structure and Function: A Mendelian Randomization Study']\n",
    "# Getting embeddings\n",
    "accept_embeddings = [get_embedding(sent)for sent in accept_titles]\n",
    "\n",
    "reject_embeddings = [get_embedding(sent)for sent in reject_titles]\n",
    "# Calculate the average locations (centroids)\n",
    "accept_centroid = calculate_centroid(accept_embeddings)\n",
    "reject_centroid = calculate_centroid(reject_embeddings)\n",
    "print(accept_centroid)\n"
   ]
  },
  {
   "cell_type": "markdown",
   "id": "3817f499-c589-4baa-a804-8482399d8aef",
   "metadata": {},
   "source": [
    "## Predict new title using BERT"
   ]
  },
  {
   "cell_type": "code",
   "execution_count": null,
   "id": "16ff7687-1229-4860-acda-51b9820c6859",
   "metadata": {},
   "outputs": [],
   "source": [
    "# Classify a new title\n",
    "\n",
    "new_title = 'Association between alcohol and cardiovascular disease: Mendelian randomisation analysis based on individual participant data.'\n",
    "new_embedding = get_embedding(new_title)\n",
    "print(new_embedding)\n",
    "# Measure distance to the centroids\n",
    "\n",
    "distance_to_accept = np.linalg.norm(new_embedding - accept_centroid)\n",
    "distance_to_reject = np.linalg.norm(new_embedding - reject_centroid)\n",
    "print(distance_to_accept)\n",
    "print(distance_to_reject)\n",
    "# Classification\n",
    "if distance_to_accept < distance_to_reject:\n",
    "    classification = 'Accept'\n",
    "else:\n",
    "    classification = 'Reject'\n",
    "\n",
    "print(classification)"
   ]
  },
  {
   "cell_type": "markdown",
   "id": "d0fd3ddc-cef4-4e9a-aa6f-f235d61b37bd",
   "metadata": {},
   "source": [
    "BERT with title only, new title misclassified. The new article is on alcohol and CVD as opposed to obesity and hypertension, blood opressure etc."
   ]
  },
  {
   "cell_type": "markdown",
   "id": "81d10593-952f-4fc0-97e3-7fcbfc6dd1ec",
   "metadata": {},
   "source": [
    "## Use a dimensionality reduction to visualise the embeddings\n",
    "\n",
    "Use t-SNE to reduce the embeddings from 768D to 2D\n"
   ]
  },
  {
   "cell_type": "code",
   "execution_count": null,
   "id": "e5b66e45-ef59-4227-9695-b75f05ae45ef",
   "metadata": {},
   "outputs": [],
   "source": [
    "import numpy as np\n",
    "import matplotlib.pyplot as plt\n",
    "\n",
    "from sklearn.manifold import TSNE\n",
    "\n",
    "# Concatenate all embeddings\n",
    "all_embeddings = np.concatenate((accept_embeddings,reject_embeddings),axis=0)\n",
    "\n",
    "all_embeddings = np.squeeze(all_embeddings,axis=1)\n",
    "\n",
    "print(all_embeddings.shape)\n",
    "\n",
    "# Reduce the dimensionality\n",
    "# Set the perplexity to a value less than the number of samples\n",
    "perplexity_value = min(30, len(all_embeddings)-1)\n",
    "\n",
    "#Apply t-SNE for dimensionality reduction\n",
    "tsne = TSNE(n_components=2,random_state=42,perplexity=perplexity_value)\n",
    "embeddings_2d = tsne.fit_transform(all_embeddings)\n",
    "\n",
    "# Visualise the embeddings\n",
    "num_accept = len(accept_embeddings)\n",
    "# Plotting\n",
    "plt.figure(figsize=(10,6))\n",
    "plt.scatter(embeddings_2d[:num_accept,0],embeddings_2d[:num_accept,1],color='b',label='Accept')\n",
    "plt.scatter(embeddings_2d[num_accept:,0],embeddings_2d[num_accept:,1],color='r',label='Reject')\n",
    "\n",
    "plt.title(\"2D t-SNE of Title Embeddings - BERT\")\n",
    "\n",
    "plt.xlabel('t-SNE Dimension 1')\n",
    "plt.ylabel('t-SNE Dimension 2')\n",
    "plt.legend()\n",
    "plt.grid(True)\n",
    "plt.show()"
   ]
  },
  {
   "cell_type": "markdown",
   "id": "03bec45a-6e53-414f-a16b-fd9867d94ed0",
   "metadata": {},
   "source": [
    "## Titles and abstracts BERT"
   ]
  },
  {
   "cell_type": "markdown",
   "id": "966d4aad-23a5-451e-9ad6-ebe273e92a2c",
   "metadata": {},
   "source": [
    "### Calculate embeddings and calculate the centroid"
   ]
  },
  {
   "cell_type": "code",
   "execution_count": null,
   "id": "19eafd8b-f6dc-4a25-a72e-8c31d45a2a97",
   "metadata": {},
   "outputs": [],
   "source": [
    "from transformers import AutoTokenizer, AutoModel\n",
    "import torch\n",
    "import numpy as np\n",
    "\n",
    "# Load a BERT model tokenizer\n",
    "tokenizer = AutoTokenizer.from_pretrained('bert-base-uncased')\n",
    "model = AutoModel.from_pretrained('bert-base-uncased')\n",
    "\n",
    "# Write two functions (get_embeddings and calculate_centroid)\n",
    "def get_embeddings(text):\n",
    "    '''\n",
    "    This function takes in a piece of text, tokenized using the autotokenizer.\n",
    "    The tokezer output is fed to the model to generate the embeddings of that given text.\n",
    "    '''\n",
    "    inputs = tokenizer(text, truncation= True, return_tensors='pt',padding=True)\n",
    "    outputs= model(**inputs)\n",
    "    return outputs.last_hidden_state.mean(dim=1).detach().numpy()\n",
    "\n",
    "# Calculate the centroid - we calculate this by getting the mean of embeddings using numpy\n",
    "def centroid_calculator(embeddings):\n",
    "    '''\n",
    "    This function takes in embeddings and returns the mean of the embeddings which is also average location\n",
    "    '''\n",
    "    return np.mean(embeddings, axis=0)\n",
    "\n",
    "# Input - UPDATED WITH ABSTRACTS, titles separated from the abstract by a full stop\n",
    "# Annotated dataset from Reviewer 1 (WNG), Accepted for included and rejected for excluded\n",
    "Accepted = ['''The role of adiposity in cardiometabolic traits: a Mendelian randomization analysis. Background: The association between adiposity and cardiometabolic traits is well known from epidemiological studies. Whilst the causal relationship is clear for some of these traits, for others it is not. We aimed to determine whether adiposity is causally related to various cardiometabolic traits using the Mendelian randomization approach.\n",
    "\n",
    "Methods and findings: We used the adiposity-associated variant rs9939609 at the FTO locus as an instrumental variable (IV) for body mass index (BMI) in a Mendelian randomization design. Thirty-six population-based studies of individuals of European descent contributed to the analyses. Age- and sex-adjusted regression models were fitted to test for association between (i) rs9939609 and BMI (n = 198,502), (ii) rs9939609 and 24 traits, and (iii) BMI and 24 traits. The causal effect of BMI on the outcome measures was quantified by IV estimators. The estimators were compared to the BMI-trait associations derived from the same individuals. In the IV analysis, we demonstrated novel evidence for a causal relationship between adiposity and incident heart failure (hazard ratio, 1.19 per BMI-unit increase; 95% CI, 1.03-1.39) and replicated earlier reports of a causal association with type 2 diabetes, metabolic syndrome, dyslipidemia, and hypertension (odds ratio for IV estimator, 1.1-1.4; all p < 0.05). For quantitative traits, our results provide novel evidence for a causal effect of adiposity on the liver enzymes alanine aminotransferase and gamma-glutamyl transferase and confirm previous reports of a causal effect of adiposity on systolic and diastolic blood pressure, fasting insulin, 2-h post-load glucose from the oral glucose tolerance test, C-reactive protein, triglycerides, and high-density lipoprotein cholesterol levels (all p < 0.05). The estimated causal effects were in agreement with traditional observational measures in all instances except for type 2 diabetes, where the causal estimate was larger than the observational estimate (p = 0.001).\n",
    "\n",
    "Conclusions: We provide novel evidence for a causal relationship between adiposity and heart failure as well as between adiposity and increased liver enzymes.''',\n",
    "\n",
    "            '''Age- and sex-specific causal effects of adiposity on cardiovascular risk factors.Observational studies have reported different effects of adiposity on cardiovascular risk factors across age and sex. Since cardiovascular risk factors are enriched in obese individuals, it has not been easy to dissect the effects of adiposity from those of other risk factors. We used a Mendelian randomization approach, applying a set of 32 genetic markers to estimate the causal effect of adiposity on blood pressure, glycemic indices, circulating lipid levels, and markers of inflammation and liver disease in up to 67,553 individuals. All analyses were stratified by age (cutoff 55 years of age) and sex. The genetic score was associated with BMI in both nonstratified analysis (P = 2.8 × 10−107) and stratified analyses (all P < 3.3 × 10−30). We found evidence of a causal effect of adiposity on blood pressure, fasting levels of insulin, C-reactive protein, interleukin-6, HDL cholesterol, and triglycerides in a nonstratified analysis and in the <55-year stratum. Further, we found evidence of a smaller causal effect on total cholesterol (P for difference = 0.015) in the ≥55-year stratum than in the <55-year stratum, a finding that could be explained by biology, survival bias, or differential medication. In conclusion, this study extends previous knowledge of the effects of adiposity by providing sex- and age-specific causal estimates on cardiovascular risk factors.''',\n",
    "            '''Causal Effect of Adiposity Measures on Blood Pressure Traits in 2 Urban Swedish Cohorts: A Mendelian Randomization Study.Background Different adiposity traits may be causally related to hypertension in different ways. By using genetic variants as randomly allocated proxies for studying the effect of modifying adiposity traits, the Mendelian randomization approach can be used to investigate this. Methods and Results In this study, we used 4 different genetic risk scores (GRS; GRS-BMI565, GRS-WHR324, GRS-VAT208, GRS-BF81) including hundreds of single nucleotide polymorphisms associated with body mass index, waist-to-hip ratio, visceral adipose tissue, and body fat, respectively. These were applied as instrumental variables in Mendelian randomization analyses. Two Swedish urban-based cohort studies, the Malmö Diet and Cancer, and the Malmö Preventive 795Projects were used to obtain genetic association estimates with blood pressure (BP). In both the Malmö Preventive Projects and Malmö Diet and Cancer studies, except for that for body fat, all of the genetic risk scores were significantly associated with systolic BP and diastolic BP, but with different magnitudes. In particular, in both cohorts, each standard deviation increase in the genetic risk score made up by the 324 single nucleotide polymorphisms associated with waist-to-hip ratio was associated with doubling of the likelihood of hypertension prevalence at baseline. However, only the genetic risk score made up by the 565 SNPs associated with body mass index was significantly associated with hypertension incidence during 23.6±4.3 years of follow-up in the Malmö Preventive Project. Conclusions We support a causal link between genetically mediated adiposity, especially waist-to-hip ratio and body mass index, and BP traits including hypertension prevalence and, for the first time to our knowledge, hypertension incidence. The differences in magnitude between these associations might suggest different mechanisms by which different adiposity affects BP/hypertension and consequently may indicate that tailored interventions are needed to reduce cardiovascular risk. ''']\n",
    "\n",
    "Rejected  = ['''The causal effects of health conditions and risk factors on social and socioeconomic outcomes: Mendelian randomization in UK Biobank.Background\n",
    "We aimed to estimate the causal effect of health conditions and risk factors on social and socioeconomic outcomes in UK Biobank. Evidence on socioeconomic impacts is important to understand because it can help governments, policy makers and decision makers allocate resources efficiently and effectively.\n",
    "Methods\n",
    "We used Mendelian randomization to estimate the causal effects of eight health conditions (asthma, breast cancer, coronary heart disease, depression, eczema, migraine, osteoarthritis, type 2 diabetes) and five health risk factors [alcohol intake, body mass index (BMI), cholesterol, systolic blood pressure, smoking] on 19 social and socioeconomic outcomes in 336 997 men and women of White British ancestry in UK Biobank, aged between 39 and 72 years. Outcomes included annual household income, employment, deprivation [measured by the Townsend deprivation index (TDI)], degree-level education, happiness, loneliness and 13 other social and socioeconomic outcomes.\n",
    "Results\n",
    "Results suggested that BMI, smoking and alcohol intake affect many socioeconomic outcomes. For example, smoking was estimated to reduce household income [mean difference = -£22 838, 95% confidence interval (CI): -£31 354 to -£14 321] and the chance of owning accommodation [absolute percentage change (APC) = -20.8%, 95% CI: -28.2% to -13.4%], of being satisfied with health (APC = -35.4%, 95% CI: -51.2% to -19.5%) and of obtaining a university degree (APC = -65.9%, 95% CI: -81.4% to -50.4%), while also increasing deprivation (mean difference in TDI = 1.73, 95% CI: 1.02 to 2.44, approximately 216% of a decile of TDI). There was evidence that asthma decreased household income, the chance of obtaining a university degree and the chance of cohabiting, and migraine reduced the chance of having a weekly leisure or social activity, especially in men. For other associations, estimates were null.\n",
    "Conclusions\n",
    "Higher BMI, alcohol intake and smoking were all estimated to adversely affect multiple social and socioeconomic outcomes. Effects were not detected between health conditions and socioeconomic outcomes using Mendelian randomization, with the exceptions of depression, asthma and migraines. This may reflect true null associations, selection bias given the relative health and age of participants in UK Biobank, and/or lack of power to detect effects.''',\n",
    "             '''Association of serum HDL-cholesterol and apolipoprotein A1 levels with risk of severe SARS-CoV-2 infection. Individuals with features of metabolic syndrome are particularly susceptible to severe acute respiratory syndrome coronavirus 2 (SARS-CoV-2), a novel coronavirus associated with the severe respiratory disease, coronavirus disease 2019 (COVID-19). Despite considerable attention dedicated to COVID-19, the link between metabolic syndrome and SARS-CoV-2 infection remains unclear. Using data from the UK Biobank, we investigated the relationship between severity of COVID-19 and metabolic syndrome-related serum biomarkers measured prior to SARS-CoV-2 infection. Logistic regression analyses were used to test biomarker levels and biomarker-associated genetic variants with SARS-CoV-2-related outcomes. Among SARS-CoV-2-positive cases and negative controls, a 10 mg/dl increase in serum HDL-cholesterol or apolipoprotein A1 levels was associated with ∼10% reduced risk of SARS-CoV-2 infection, after adjustment for age, sex, obesity, hypertension, type 2 diabetes, and coronary artery disease. Evaluation of known genetic variants for HDL-cholesterol revealed that individuals homozygous for apolipoprotein E4 alleles had ∼2- to 3-fold higher risk of SARS-CoV-2 infection or mortality from COVID-19 compared with apolipoprotein E3 homozygotes, even after adjustment for HDL-cholesterol levels. However, cumulative effects of all evaluated HDL-cholesterol-raising alleles and Mendelian randomization analyses did not reveal association of genetically higher HDL-cholesterol levels with decreased risk of SARS-CoV-2 infection. These results implicate serum HDL-cholesterol and apolipoprotein A1 levels measured prior to SAR-CoV-2 exposure as clinical risk factors for severe COVID-19 infection but do not provide evidence that genetically elevated HDL-cholesterol levels are associated with SAR-CoV-2 infection.''',\n",
    "             '''Effect of Systolic Blood Pressure on Left Ventricular Structure and Function: A Mendelian Randomization Study.We aimed to estimate the effects of a lifelong exposure to high systolic blood pressure (SBP) on left ventricular (LV) structure and function using Mendelian randomization. A total of 5596 participants of the UK Biobank were included for whom cardiovascular magnetic resonance imaging and genetic data were available. Major exclusion criteria included nonwhite ethnicity, major cardiovascular disease, and body mass index >30 or <18.5 kg/m2. A genetic risk score to estimate genetically predicted SBP (gSBP) was constructed based on 107 previously established genetic variants. Manual cardiovascular magnetic resonance imaging postprocessing analyses were performed in 300 individuals at the extremes of gSBP (150 highest and lowest). Multivariable linear regression analyses of imaging biomarkers were performed using gSBP as continuous independent variable. All analyses except myocardial strain were validated using previously derived imaging parameters in 2530 subjects. The mean (SD) age of the study population was 62 (7) years, and 52% of subjects were female. Corrected for age, sex, and body surface area, each 10 mm Hg increase in gSBP was significantly (P<0.0056) associated with 4.01 g (SE, 1.28; P=0.002) increase in LV mass and with 2.80% (SE, 0.97; P=0.004) increase in LV global radial strain. In the validation cohort, after correction for age, sex, and body surface area, each 10 mm Hg increase in gSBP was associated with 5.27 g (SE, 1.50; P<0.001) increase in LV mass. Our study provides a novel line of evidence for a causal relationship between SBP and increased LV mass and with increased LV global radial strain.''']\n",
    "\n",
    "# Get the embeddings for accepted and rejected\n",
    "# Using the concept of list comrehension, loop through the titles and abstracts and generate embeddings\n",
    "accept_embeddings =[get_embeddings(text) for text in Accepted]\n",
    "reject_embeddings =[get_embeddings(text) for text in Rejected]\n",
    "\n",
    "# Centroid /average location calculator\n",
    "accepted_centroid = centroid_calculator(accept_embeddings)\n",
    "rejected_centroid = centroid_calculator(reject_embeddings)\n",
    "    \n"
   ]
  },
  {
   "cell_type": "markdown",
   "id": "efa0d1c2-7d98-4364-a54c-21e76a417911",
   "metadata": {},
   "source": [
    "## Predict new title with abstract using BERT"
   ]
  },
  {
   "cell_type": "code",
   "execution_count": null,
   "id": "44538faa-a3ec-4e70-a462-31766e8e7192",
   "metadata": {},
   "outputs": [],
   "source": [
    "# Classify a new title and abstract\n",
    "\n",
    "new_title_abs = '''Association between alcohol and cardiovascular disease: Mendelian randomisation analysis based on individual participant data.Objective: To use the rs1229984 variant in the alcohol dehydrogenase 1B gene (ADH1B) as an instrument to investigate the causal role of alcohol in cardiovascular disease.\n",
    "\n",
    "Design: Mendelian randomisation meta-analysis of 56 epidemiological studies.\n",
    "\n",
    "Participants: 261 991 individuals of European descent, including 20 259 coronary heart disease cases and 10 164 stroke events. Data were available on ADH1B rs1229984 variant, alcohol phenotypes, and cardiovascular biomarkers.\n",
    "\n",
    "Main outcome measures: Odds ratio for coronary heart disease and stroke associated with the ADH1B variant in all individuals and by categories of alcohol consumption.\n",
    "\n",
    "Results: Carriers of the A-allele of ADH1B rs1229984 consumed 17.2% fewer units of alcohol per week (95% confidence interval 15.6% to 18.9%), had a lower prevalence of binge drinking (odds ratio 0.78 (95% CI 0.73 to 0.84)), and had higher abstention (odds ratio 1.27 (1.21 to 1.34)) than non-carriers. Rs1229984 A-allele carriers had lower systolic blood pressure (-0.88 (-1.19 to -0.56) mm Hg), interleukin-6 levels (-5.2% (-7.8 to -2.4%)), waist circumference (-0.3 (-0.6 to -0.1) cm), and body mass index (-0.17 (-0.24 to -0.10) kg/m(2)). Rs1229984 A-allele carriers had lower odds of coronary heart disease (odds ratio 0.90 (0.84 to 0.96)). The protective association of the ADH1B rs1229984 A-allele variant remained the same across all categories of alcohol consumption (P=0.83 for heterogeneity). Although no association of rs1229984 was identified with the combined subtypes of stroke, carriers of the A-allele had lower odds of ischaemic stroke (odds ratio 0.83 (0.72 to 0.95)).\n",
    "\n",
    "Conclusions: Individuals with a genetic variant associated with non-drinking and lower alcohol consumption had a more favourable cardiovascular profile and a reduced risk of coronary heart disease than those without the genetic variant. This suggests that reduction of alcohol consumption, even for light to moderate drinkers, is beneficial for cardiovascular health.'''\n",
    "new_title_abs_embeddings = get_embeddings(new_title_abs)\n",
    "\n",
    "# Measure distance from the centroids\n",
    "distance_to_accept = np.linalg.norm(new_title_abs_embeddings - accepted_centroid)\n",
    "distance_to_reject = np.linalg.norm(new_title_abs_embeddings - rejected_centroid)\n",
    "\n",
    "print(distance_to_accept)\n",
    "print(distance_to_reject)\n",
    "\n",
    "# Classify based on how close they are to \n",
    "if distance_to_accept < distance_to_reject:\n",
    "    classification = 'Accept'\n",
    "else:\n",
    "    classification = 'Reject'\n",
    "\n",
    "print(classification)"
   ]
  },
  {
   "cell_type": "markdown",
   "id": "e160b1e4-31d8-4a67-8b8b-3cc84144fa22",
   "metadata": {},
   "source": [
    "BERT with title and abstract despite truncating tokens to 512, it classifies the new article in the correct category."
   ]
  },
  {
   "cell_type": "code",
   "execution_count": null,
   "id": "47cfa845-6b49-4b58-9e4c-63310b866243",
   "metadata": {},
   "outputs": [],
   "source": [
    "# Visualise\n",
    "\n",
    "import numpy as np\n",
    "import matplotlib.pyplot as plt\n",
    "\n",
    "from sklearn.manifold import TSNE\n",
    "\n",
    "# Concatenate all embeddings\n",
    "all_embeddings = np.concatenate((accept_embeddings,reject_embeddings),axis=0)\n",
    "\n",
    "all_embeddings = np.squeeze(all_embeddings,axis=1)\n",
    "\n",
    "print(all_embeddings.shape)\n",
    "\n",
    "# Reduce the dimensionality\n",
    "# Set the perplexity to a value less than the number of samples\n",
    "perplexity_value = min(30, len(all_embeddings)-1)\n",
    "\n",
    "#Apply t-SNE for dimensionality reduction\n",
    "tsne = TSNE(n_components=2,random_state=42,perplexity=perplexity_value)\n",
    "embeddings_2d = tsne.fit_transform(all_embeddings)\n",
    "\n",
    "# Visualise the embeddings\n",
    "num_accepted = len(accept_embeddings)\n",
    "# Plotting\n",
    "plt.figure(figsize=(10,6))\n",
    "plt.scatter(embeddings_2d[:num_accepted,0],embeddings_2d[:num_accepted,1],color='b',label='Accept')\n",
    "plt.scatter(embeddings_2d[num_accepted:,0],embeddings_2d[num_accepted:,1],color='r',label='Reject')\n",
    "\n",
    "plt.title(\"2D t-SNE of Title and Abstract Embeddings - BERT\")\n",
    "\n",
    "plt.xlabel('t-SNE Dimension 1')\n",
    "plt.ylabel('t-SNE Dimension 2')\n",
    "plt.legend()\n",
    "plt.grid(True)\n",
    "plt.show()"
   ]
  },
  {
   "cell_type": "markdown",
   "id": "9248995d-e8a3-488e-b464-9b64e6490fba",
   "metadata": {},
   "source": [
    "# BioBERT Embeddings for text classification"
   ]
  },
  {
   "cell_type": "markdown",
   "id": "9266509b-ad2d-4564-9941-15c3f1696491",
   "metadata": {},
   "source": [
    "## Titles only BioBERT\n"
   ]
  },
  {
   "cell_type": "markdown",
   "id": "b2b9d2e1-0706-4fb1-a01c-1500bbcc6ee7",
   "metadata": {},
   "source": [
    "### Calculate embeddings and calculate the centroids.\n"
   ]
  },
  {
   "cell_type": "code",
   "execution_count": null,
   "id": "67e96c7a-95c3-4f99-9847-01c1978a2c48",
   "metadata": {},
   "outputs": [],
   "source": [
    "# Calculate the embeddings\n",
    "# Load libraries as before\n",
    "from transformers import AutoTokenizer, AutoModel\n",
    "import torch\n",
    "import numpy as np\n",
    "# Load a pre-trained tokenizer\n",
    "tokenizer = AutoTokenizer.from_pretrained('monologg/biobert_v1.1_pubmed')\n",
    "model = AutoModel.from_pretrained('monologg/biobert_v1.1_pubmed')\n",
    "# Func\n",
    "def  get_embedding(sentence):\n",
    "    inputs = tokenizer(sentence, return_tensors='pt',padding=True)\n",
    "    outputs = model(**inputs)\n",
    "    return outputs.last_hidden_state.mean(dim=1).detach().numpy()\n",
    "\n",
    "def calculate_centroid(embeddings):\n",
    "    return np.mean(embeddings,axis=0)\n",
    "\n",
    "\n",
    "#Get embeddings\n",
    "# input\n",
    "#Pre-classified sentences\n",
    "accept_titles = ['The role of adiposity in cardiometabolic traits: a Mendelian randomization analysis','Age- and sex-specific causal effects of adiposity on cardiovascular risk factors','Causal Effect of Adiposity Measures on Blood Pressure Traits in 2 Urban Swedish Cohorts: A Mendelian Randomization Study'\n",
    "]\n",
    "reject_titles = ['The causal effects of health conditions and risk factors on social and socioeconomic outcomes: Mendelian randomization in UK Biobank','Association of serum HDL-cholesterol and apolipoprotein A1 levels with risk of severe SARS-CoV-2 infection','Effect of Systolic Blood Pressure on Left Ventricular Structure and Function: A Mendelian Randomization Study']\n",
    "# Getting embeddings\n",
    "accept_embeddings = [get_embedding(sent)for sent in accept_titles]\n",
    "\n",
    "reject_embeddings = [get_embedding(sent)for sent in reject_titles]\n",
    "\n",
    "# Calculate the average locations (centroids)\n",
    "accept_centroid = calculate_centroid(accept_embeddings)\n",
    "reject_centroid = calculate_centroid(reject_embeddings)"
   ]
  },
  {
   "cell_type": "markdown",
   "id": "f581dc0a-f536-4251-822e-e089df55b660",
   "metadata": {},
   "source": [
    "## Predict new title using BioBERT"
   ]
  },
  {
   "cell_type": "code",
   "execution_count": null,
   "id": "652fd3d5-dba8-4582-b5c8-c2d73ba46458",
   "metadata": {},
   "outputs": [],
   "source": [
    "# Predict the category of a new title\n",
    "new_title = 'Association between alcohol and cardiovascular disease: Mendelian randomisation analysis based on individual participant data.'\n",
    "new_embedding = get_embedding(new_title)\n",
    "\n",
    "# Measure distance to the centroids\n",
    "\n",
    "distance_to_accept = np.linalg.norm(new_embedding - accept_centroid)\n",
    "distance_to_reject = np.linalg.norm(new_embedding - reject_centroid)\n",
    "print(distance_to_accept)\n",
    "print(distance_to_reject)\n",
    "# Classification\n",
    "if distance_to_accept < distance_to_reject:\n",
    "    classification = 'Accept'\n",
    "else:\n",
    "    classification = 'Reject'\n",
    "\n",
    "print(classification)"
   ]
  },
  {
   "cell_type": "markdown",
   "id": "5f6a92be-c196-4dc2-95ea-7a6e86091556",
   "metadata": {},
   "source": [
    "When using BioBERT with Titles only it misclassifies the new title."
   ]
  },
  {
   "cell_type": "code",
   "execution_count": null,
   "id": "0cf13f1c-0815-40ea-a45d-f349c96687c3",
   "metadata": {},
   "outputs": [],
   "source": [
    "import numpy as np\n",
    "import matplotlib.pyplot as plt\n",
    "\n",
    "from sklearn.manifold import TSNE\n",
    "\n",
    "# Concatenate all embeddings\n",
    "all_embeddings = np.concatenate((accept_embeddings,reject_embeddings),axis=0)\n",
    "\n",
    "all_embeddings = np.squeeze(all_embeddings,axis=1)\n",
    "\n",
    "print(all_embeddings.shape)\n",
    "\n",
    "# Reduce the dimensionality\n",
    "# Set the perplexity to a value less than the number of samples\n",
    "perplexity_value = min(30, len(all_embeddings)-1)\n",
    "\n",
    "#Apply t-SNE for dimensionality reduction\n",
    "tsne = TSNE(n_components=2,random_state=42,perplexity=perplexity_value)\n",
    "embeddings_2d = tsne.fit_transform(all_embeddings)\n",
    "\n",
    "# Visualise the embeddings\n",
    "num_accept = len(accept_embeddings)\n",
    "# Plotting\n",
    "plt.figure(figsize=(10,6))\n",
    "plt.scatter(embeddings_2d[:num_accept,0],embeddings_2d[:num_accept,1],color='b',label='Accept')\n",
    "plt.scatter(embeddings_2d[num_accept:,0],embeddings_2d[num_accept:,1],color='r',label='Reject')\n",
    "\n",
    "plt.title(\"2D t-SNE of Title Embeddings - BioBERT- monologg\")\n",
    "\n",
    "plt.xlabel('t-SNE Dimension 1')\n",
    "plt.ylabel('t-SNE Dimension 2')\n",
    "plt.legend()\n",
    "plt.grid(True)\n",
    "plt.show()"
   ]
  },
  {
   "cell_type": "markdown",
   "id": "d00a0fc2-895e-4388-84fa-306c5a525c5f",
   "metadata": {},
   "source": [
    "## Titles and abstracts BioBERT"
   ]
  },
  {
   "cell_type": "markdown",
   "id": "a005c704-9497-4198-bad2-a4bb04eefa89",
   "metadata": {},
   "source": [
    "### Calculate embeddings and calculate the centroids."
   ]
  },
  {
   "cell_type": "code",
   "execution_count": null,
   "id": "672da76e-9c33-41a5-ad26-64d1d9491646",
   "metadata": {},
   "outputs": [],
   "source": [
    "# Load a BERT model tokenizer\n",
    "tokenizer = AutoTokenizer.from_pretrained('monologg/biobert_v1.1_pubmed')\n",
    "model = AutoModel.from_pretrained('monologg/biobert_v1.1_pubmed')\n",
    "\n",
    "# Write two functions (get_embeddings and calculate_centroid)\n",
    "def get_embeddings(text):\n",
    "    '''\n",
    "    This function takes in a piece of text, tokenized using the autotokenizer.\n",
    "    The tokezer output is fed to the model to generate the embeddings of that given text.\n",
    "    '''\n",
    "    inputs = tokenizer(text, return_tensors='pt',truncation=True, max_length = 512,padding=True)\n",
    "    outputs= model(**inputs)\n",
    "    return outputs.last_hidden_state.mean(dim=1).detach().numpy()\n",
    "\n",
    "# Calculate the centroid - we calculate this by getting the mean of embeddings using numpy\n",
    "def centroid_calculator(embeddings):\n",
    "    '''\n",
    "    This function takes in embeddings and returns the mean of the embeddings which is also average location\n",
    "    '''\n",
    "    return np.mean(embeddings, axis=0)\n",
    "\n",
    "# Input - UPDATED WITH ABSTRACTS, titles separated from the abstract by a full stop\n",
    "# Annotated dataset from Reviewer 1 (WNG), Accepted for included and rejected for excluded\n",
    "Accepted = ['''The role of adiposity in cardiometabolic traits: a Mendelian randomization analysis. Background: The association between adiposity and cardiometabolic traits is well known from epidemiological studies. Whilst the causal relationship is clear for some of these traits, for others it is not. We aimed to determine whether adiposity is causally related to various cardiometabolic traits using the Mendelian randomization approach.\n",
    "\n",
    "Methods and findings: We used the adiposity-associated variant rs9939609 at the FTO locus as an instrumental variable (IV) for body mass index (BMI) in a Mendelian randomization design. Thirty-six population-based studies of individuals of European descent contributed to the analyses. Age- and sex-adjusted regression models were fitted to test for association between (i) rs9939609 and BMI (n = 198,502), (ii) rs9939609 and 24 traits, and (iii) BMI and 24 traits. The causal effect of BMI on the outcome measures was quantified by IV estimators. The estimators were compared to the BMI-trait associations derived from the same individuals. In the IV analysis, we demonstrated novel evidence for a causal relationship between adiposity and incident heart failure (hazard ratio, 1.19 per BMI-unit increase; 95% CI, 1.03-1.39) and replicated earlier reports of a causal association with type 2 diabetes, metabolic syndrome, dyslipidemia, and hypertension (odds ratio for IV estimator, 1.1-1.4; all p < 0.05). For quantitative traits, our results provide novel evidence for a causal effect of adiposity on the liver enzymes alanine aminotransferase and gamma-glutamyl transferase and confirm previous reports of a causal effect of adiposity on systolic and diastolic blood pressure, fasting insulin, 2-h post-load glucose from the oral glucose tolerance test, C-reactive protein, triglycerides, and high-density lipoprotein cholesterol levels (all p < 0.05). The estimated causal effects were in agreement with traditional observational measures in all instances except for type 2 diabetes, where the causal estimate was larger than the observational estimate (p = 0.001).\n",
    "\n",
    "Conclusions: We provide novel evidence for a causal relationship between adiposity and heart failure as well as between adiposity and increased liver enzymes.''',\n",
    "\n",
    "            '''Age- and sex-specific causal effects of adiposity on cardiovascular risk factors.Observational studies have reported different effects of adiposity on cardiovascular risk factors across age and sex. Since cardiovascular risk factors are enriched in obese individuals, it has not been easy to dissect the effects of adiposity from those of other risk factors. We used a Mendelian randomization approach, applying a set of 32 genetic markers to estimate the causal effect of adiposity on blood pressure, glycemic indices, circulating lipid levels, and markers of inflammation and liver disease in up to 67,553 individuals. All analyses were stratified by age (cutoff 55 years of age) and sex. The genetic score was associated with BMI in both nonstratified analysis (P = 2.8 × 10−107) and stratified analyses (all P < 3.3 × 10−30). We found evidence of a causal effect of adiposity on blood pressure, fasting levels of insulin, C-reactive protein, interleukin-6, HDL cholesterol, and triglycerides in a nonstratified analysis and in the <55-year stratum. Further, we found evidence of a smaller causal effect on total cholesterol (P for difference = 0.015) in the ≥55-year stratum than in the <55-year stratum, a finding that could be explained by biology, survival bias, or differential medication. In conclusion, this study extends previous knowledge of the effects of adiposity by providing sex- and age-specific causal estimates on cardiovascular risk factors.''',\n",
    "            '''Causal Effect of Adiposity Measures on Blood Pressure Traits in 2 Urban Swedish Cohorts: A Mendelian Randomization Study.Background Different adiposity traits may be causally related to hypertension in different ways. By using genetic variants as randomly allocated proxies for studying the effect of modifying adiposity traits, the Mendelian randomization approach can be used to investigate this. Methods and Results In this study, we used 4 different genetic risk scores (GRS; GRS-BMI565, GRS-WHR324, GRS-VAT208, GRS-BF81) including hundreds of single nucleotide polymorphisms associated with body mass index, waist-to-hip ratio, visceral adipose tissue, and body fat, respectively. These were applied as instrumental variables in Mendelian randomization analyses. Two Swedish urban-based cohort studies, the Malmö Diet and Cancer, and the Malmö Preventive 795Projects were used to obtain genetic association estimates with blood pressure (BP). In both the Malmö Preventive Projects and Malmö Diet and Cancer studies, except for that for body fat, all of the genetic risk scores were significantly associated with systolic BP and diastolic BP, but with different magnitudes. In particular, in both cohorts, each standard deviation increase in the genetic risk score made up by the 324 single nucleotide polymorphisms associated with waist-to-hip ratio was associated with doubling of the likelihood of hypertension prevalence at baseline. However, only the genetic risk score made up by the 565 SNPs associated with body mass index was significantly associated with hypertension incidence during 23.6±4.3 years of follow-up in the Malmö Preventive Project. Conclusions We support a causal link between genetically mediated adiposity, especially waist-to-hip ratio and body mass index, and BP traits including hypertension prevalence and, for the first time to our knowledge, hypertension incidence. The differences in magnitude between these associations might suggest different mechanisms by which different adiposity affects BP/hypertension and consequently may indicate that tailored interventions are needed to reduce cardiovascular risk. ''']\n",
    "\n",
    "Rejected  = ['''The causal effects of health conditions and risk factors on social and socioeconomic outcomes: Mendelian randomization in UK Biobank.Background\n",
    "We aimed to estimate the causal effect of health conditions and risk factors on social and socioeconomic outcomes in UK Biobank. Evidence on socioeconomic impacts is important to understand because it can help governments, policy makers and decision makers allocate resources efficiently and effectively.\n",
    "Methods: We used Mendelian randomization to estimate the causal effects of eight health conditions (asthma, breast cancer, coronary heart disease, depression, eczema, migraine, osteoarthritis, type 2 diabetes) and five health risk factors [alcohol intake, body mass index (BMI), cholesterol, systolic blood pressure, smoking] on 19 social and socioeconomic outcomes in 336 997 men and women of White British ancestry in UK Biobank, aged between 39 and 72 years. Outcomes included annual household income, employment, deprivation [measured by the Townsend deprivation index (TDI)], degree-level education, happiness, loneliness and 13 other social and socioeconomic outcomes.\n",
    "Results: Results suggested that BMI, smoking and alcohol intake affect many socioeconomic outcomes. For example, smoking was estimated to reduce household income [mean difference = -£22 838, 95% confidence interval (CI): -£31 354 to -£14 321] and the chance of owning accommodation [absolute percentage change (APC) = -20.8%, 95% CI: -28.2% to -13.4%], of being satisfied with health (APC = -35.4%, 95% CI: -51.2% to -19.5%) and of obtaining a university degree (APC = -65.9%, 95% CI: -81.4% to -50.4%), while also increasing deprivation (mean difference in TDI = 1.73, 95% CI: 1.02 to 2.44, approximately 216% of a decile of TDI). There was evidence that asthma decreased household income, the chance of obtaining a university degree and the chance of cohabiting, and migraine reduced the chance of having a weekly leisure or social activity, especially in men. For other associations, estimates were null.\n",
    "Conclusions :Higher BMI, alcohol intake and smoking were all estimated to adversely affect multiple social and socioeconomic outcomes. Effects were not detected between health conditions and socioeconomic outcomes using Mendelian randomization, with the exceptions of depression, asthma and migraines. This may reflect true null associations, selection bias given the relative health and age of participants in UK Biobank, and/or lack of power to detect effects.''',\n",
    "             '''Association of serum HDL-cholesterol and apolipoprotein A1 levels with risk of severe SARS-CoV-2 infection. Individuals with features of metabolic syndrome are particularly susceptible to severe acute respiratory syndrome coronavirus 2 (SARS-CoV-2), a novel coronavirus associated with the severe respiratory disease, coronavirus disease 2019 (COVID-19). Despite considerable attention dedicated to COVID-19, the link between metabolic syndrome and SARS-CoV-2 infection remains unclear. Using data from the UK Biobank, we investigated the relationship between severity of COVID-19 and metabolic syndrome-related serum biomarkers measured prior to SARS-CoV-2 infection. Logistic regression analyses were used to test biomarker levels and biomarker-associated genetic variants with SARS-CoV-2-related outcomes. Among SARS-CoV-2-positive cases and negative controls, a 10 mg/dl increase in serum HDL-cholesterol or apolipoprotein A1 levels was associated with ∼10% reduced risk of SARS-CoV-2 infection, after adjustment for age, sex, obesity, hypertension, type 2 diabetes, and coronary artery disease. Evaluation of known genetic variants for HDL-cholesterol revealed that individuals homozygous for apolipoprotein E4 alleles had ∼2- to 3-fold higher risk of SARS-CoV-2 infection or mortality from COVID-19 compared with apolipoprotein E3 homozygotes, even after adjustment for HDL-cholesterol levels. However, cumulative effects of all evaluated HDL-cholesterol-raising alleles and Mendelian randomization analyses did not reveal association of genetically higher HDL-cholesterol levels with decreased risk of SARS-CoV-2 infection. These results implicate serum HDL-cholesterol and apolipoprotein A1 levels measured prior to SAR-CoV-2 exposure as clinical risk factors for severe COVID-19 infection but do not provide evidence that genetically elevated HDL-cholesterol levels are associated with SAR-CoV-2 infection.''',\n",
    "             '''Effect of Systolic Blood Pressure on Left Ventricular Structure and Function: A Mendelian Randomization Study.We aimed to estimate the effects of a lifelong exposure to high systolic blood pressure (SBP) on left ventricular (LV) structure and function using Mendelian randomization. A total of 5596 participants of the UK Biobank were included for whom cardiovascular magnetic resonance imaging and genetic data were available. Major exclusion criteria included nonwhite ethnicity, major cardiovascular disease, and body mass index >30 or <18.5 kg/m2. A genetic risk score to estimate genetically predicted SBP (gSBP) was constructed based on 107 previously established genetic variants. Manual cardiovascular magnetic resonance imaging postprocessing analyses were performed in 300 individuals at the extremes of gSBP (150 highest and lowest). Multivariable linear regression analyses of imaging biomarkers were performed using gSBP as continuous independent variable. All analyses except myocardial strain were validated using previously derived imaging parameters in 2530 subjects. The mean (SD) age of the study population was 62 (7) years, and 52% of subjects were female. Corrected for age, sex, and body surface area, each 10 mm Hg increase in gSBP was significantly (P<0.0056) associated with 4.01 g (SE, 1.28; P=0.002) increase in LV mass and with 2.80% (SE, 0.97; P=0.004) increase in LV global radial strain. In the validation cohort, after correction for age, sex, and body surface area, each 10 mm Hg increase in gSBP was associated with 5.27 g (SE, 1.50; P<0.001) increase in LV mass. Our study provides a novel line of evidence for a causal relationship between SBP and increased LV mass and with increased LV global radial strain.''']\n",
    "\n"
   ]
  },
  {
   "cell_type": "code",
   "execution_count": null,
   "id": "49a5b752-73e7-444c-8d21-1a7bae9ccbdd",
   "metadata": {},
   "outputs": [],
   "source": [
    "#Get the embeddings for accepted and rejected\n",
    "#Using the concept of list comrehension, loop through the titles and abstracts and generate embeddings\n",
    "accept_embeddings =[get_embeddings(text) for text in Accepted]\n",
    "reject_embeddings =[get_embeddings(text) for text in Rejected]\n",
    "\n",
    "# Centroid /average location calculator\n",
    "accepted_centroid = centroid_calculator(accept_embeddings)\n",
    "rejected_centroid = centroid_calculator(reject_embeddings)"
   ]
  },
  {
   "cell_type": "markdown",
   "id": "d8e1a0fd-f333-487c-8497-2b3c5c04ef50",
   "metadata": {},
   "source": [
    "## Predict new title with abstract using BioBERT"
   ]
  },
  {
   "cell_type": "code",
   "execution_count": null,
   "id": "ad8dd1f0-df6f-4c2d-8133-cac929f4da06",
   "metadata": {},
   "outputs": [],
   "source": [
    "# Predict a category for new title and abstract\n",
    "# Classify a new title and abstract\n",
    "\n",
    "new_title_abs = '''Association between alcohol and cardiovascular disease: Mendelian randomisation analysis based on individual participant data.Objective: To use the rs1229984 variant in the alcohol dehydrogenase 1B gene (ADH1B) as an instrument to investigate the causal role of alcohol in cardiovascular disease.\n",
    "\n",
    "Design: Mendelian randomisation meta-analysis of 56 epidemiological studies.\n",
    "\n",
    "Participants: 261 991 individuals of European descent, including 20 259 coronary heart disease cases and 10 164 stroke events. Data were available on ADH1B rs1229984 variant, alcohol phenotypes, and cardiovascular biomarkers.\n",
    "\n",
    "Main outcome measures: Odds ratio for coronary heart disease and stroke associated with the ADH1B variant in all individuals and by categories of alcohol consumption.\n",
    "\n",
    "Results: Carriers of the A-allele of ADH1B rs1229984 consumed 17.2% fewer units of alcohol per week (95% confidence interval 15.6% to 18.9%), had a lower prevalence of binge drinking (odds ratio 0.78 (95% CI 0.73 to 0.84)), and had higher abstention (odds ratio 1.27 (1.21 to 1.34)) than non-carriers. Rs1229984 A-allele carriers had lower systolic blood pressure (-0.88 (-1.19 to -0.56) mm Hg), interleukin-6 levels (-5.2% (-7.8 to -2.4%)), waist circumference (-0.3 (-0.6 to -0.1) cm), and body mass index (-0.17 (-0.24 to -0.10) kg/m(2)). Rs1229984 A-allele carriers had lower odds of coronary heart disease (odds ratio 0.90 (0.84 to 0.96)). The protective association of the ADH1B rs1229984 A-allele variant remained the same across all categories of alcohol consumption (P=0.83 for heterogeneity). Although no association of rs1229984 was identified with the combined subtypes of stroke, carriers of the A-allele had lower odds of ischaemic stroke (odds ratio 0.83 (0.72 to 0.95)).\n",
    "\n",
    "Conclusions: Individuals with a genetic variant associated with non-drinking and lower alcohol consumption had a more favourable cardiovascular profile and a reduced risk of coronary heart disease than those without the genetic variant. This suggests that reduction of alcohol consumption, even for light to moderate drinkers, is beneficial for cardiovascular health.'''\n",
    "new_title_abs_embeddings = get_embeddings(new_title_abs)\n",
    "\n",
    "# Measure distance from the centroids\n",
    "distance_to_accept = np.linalg.norm(new_title_abs_embeddings - accepted_centroid)\n",
    "distance_to_reject = np.linalg.norm(new_title_abs_embeddings - rejected_centroid)\n",
    "\n",
    "print(distance_to_accept)\n",
    "print(distance_to_reject)\n",
    "\n",
    "# Classify based on how close they are to \n",
    "if distance_to_accept < distance_to_reject:\n",
    "    classification = 'Accept'\n",
    "else:\n",
    "    classification = 'Reject'\n",
    "\n",
    "print(classification)"
   ]
  },
  {
   "cell_type": "markdown",
   "id": "8effbf50-0e11-4db4-a5c7-098e90d3b30e",
   "metadata": {},
   "source": [
    "BioBERT with title and abstract gave similar prediction as expert evaluation."
   ]
  },
  {
   "cell_type": "code",
   "execution_count": null,
   "id": "f5f33edb-899f-4863-8949-5004ef480da4",
   "metadata": {},
   "outputs": [],
   "source": [
    "# Visualise\n",
    "\n",
    "import numpy as np\n",
    "import matplotlib.pyplot as plt\n",
    "\n",
    "from sklearn.manifold import TSNE\n",
    "\n",
    "# Concatenate all embeddings\n",
    "all_embeddings = np.concatenate((accept_embeddings,reject_embeddings),axis=0)\n",
    "\n",
    "all_embeddings = np.squeeze(all_embeddings,axis=1)\n",
    "\n",
    "print(all_embeddings.shape)\n",
    "\n",
    "# Reduce the dimensionality\n",
    "# Set the perplexity to a value less than the number of samples\n",
    "perplexity_value = min(30, len(all_embeddings)-1)\n",
    "\n",
    "#Apply t-SNE for dimensionality reduction\n",
    "tsne = TSNE(n_components=2,random_state=42,perplexity=perplexity_value)\n",
    "embeddings_2d = tsne.fit_transform(all_embeddings)\n",
    "\n",
    "# Visualise the embeddings\n",
    "num_accepted = len(accept_embeddings)\n",
    "# Plotting\n",
    "plt.figure(figsize=(10,6))\n",
    "plt.scatter(embeddings_2d[:num_accepted,0],embeddings_2d[:num_accepted,1],color='b',label='Accept')\n",
    "plt.scatter(embeddings_2d[num_accepted:,0],embeddings_2d[num_accepted:,1],color='r',label='Reject')\n",
    "\n",
    "plt.title(\"2D t-SNE of Title and abstract Embeddings - BioBERT - monollog\")\n",
    "\n",
    "plt.xlabel('t-SNE Dimension 1')\n",
    "plt.ylabel('t-SNE Dimension 2')\n",
    "plt.legend()\n",
    "plt.grid(True)\n",
    "plt.show()"
   ]
  },
  {
   "cell_type": "markdown",
   "id": "405cbc03-1083-4206-9cc9-b71b1cb37604",
   "metadata": {},
   "source": [
    "# Summary\n",
    "\n",
    "## Input\n",
    "* Three included papers\n",
    "\n",
    "* Three excluded papers\n",
    "\n",
    "## New article - to be classified\n",
    "Title and abstract - expert view the paper should be exlcuded (reject).\n",
    "\n",
    "## Opportunities, challenges and solutions\n",
    "Title only easy to process short text.\n",
    "\n",
    "Title and abstract, the tokens exceed the allowed limit of 512; *Error message*.\n",
    "\n",
    "Ideally I should clean the data before tokenizing it i.e removing stop words and stemming, however tokenization with BERT ensures generation of contextually meaningful embeddings. [Comparison of BERT implementation in medical Docs](https://www.sciencedirect.com/science/article/pii/S2352914822002763)\n",
    "\n",
    "How did I approach the problem of >512 tokens?\n",
    "\n",
    "I have used the truncation argument within the function and set the limit of maximum length to 512, when the number of tokens exceed 512, we truncate the rest of the tokens. The danger here is I will lose some relevant information. Nevertheless, currently the model seem to be doing all fine but in coming weeks I will explore other strategies including:\n",
    "\n",
    "I) Chunk the title and abstract to bits of up to 512 tokens.\n",
    "\n",
    "II) Preprocessing of the titles and abstracts before tokenizing (Not sure how useful this will be).\n",
    "\n",
    "\n",
    "# Implementation\n",
    "\n",
    "1. Classifying a new article by title only, by measuring how far or close it is to the embeddings centroids, the prediction is **wrong** using **BERT** and **BIOBERT**.\n",
    "\n",
    "   [BERT title only](#Predict-new-title-using-BERT)\n",
    "\n",
    "   [BioBERT title only](#Predict-new-title-using-BioBERT)\n",
    "\n",
    "3. Classifying a new article by title and abstract, by measuring how far or close it is to the embeddings centroids, the prediction is **correct** using **BERT** and **BIOBERT**.\n",
    "\n",
    "   [BERT title abstract](#Predict-new-title-with-abstract-using-BERT)\n",
    "\n",
    "   [BioBERT title abstract](#Predict-new-title-with-abstract-using-BioBERT)\n",
    "\n",
    "\n",
    "\n",
    "## Visualisation - Interpretation \n",
    "\n",
    "Title only and title with abstract visualisation from BERT (regular) and BioBERT-monologg/biobert_v1.1_pubmed the two categories are nearly indistinguishable.\n",
    "\n",
    "BERT - Regular/base, this is expected since training is solely on English corpus and wikipedia text. \n",
    "\n",
    "BioBERT-monologg/biobert_v1.1_pubmed for some reason this does not give unique results despite containing pubmed abstracts during training. The next step is exploring other BioBERT implementations; `dmis-lab/biobert-base-cased-v1.1`.\n"
   ]
  },
  {
   "cell_type": "markdown",
   "id": "b57769e6-7abd-45c5-bb2f-58a156f4da1c",
   "metadata": {},
   "source": [
    "# Next steps\n",
    "\n",
    "1. Instead of truncating the text to 512 tokens, try and process the data in chunks of 512.\n",
    "\n",
    "2. Use a different version of BioBERT `dmis-lab/biobert-base-cased-v1.1` - **Done**, others : dmis-lab/biobert-large-cased-v1.1-mnli\n",
    "\n",
    "3. My datasets is small, some examples I have seen implementing BERT model, have training set and hold-out validation set (Access to big datasets). Any thoughts?\n",
    "\n",
    "4. Start exploring prompt engineering after Tom and Yi looks at the piece of work."
   ]
  },
  {
   "cell_type": "markdown",
   "id": "971a7f5a-d707-4f7f-b47f-86819908c07e",
   "metadata": {},
   "source": [
    "# BioBERT dmis-lab/biobert-base-cased-v1.1"
   ]
  },
  {
   "cell_type": "markdown",
   "id": "9c5a02d2-2741-420d-8327-ff9813d34c23",
   "metadata": {},
   "source": [
    "# Text classification, titles only using BioBERT-dmis-lab"
   ]
  },
  {
   "cell_type": "markdown",
   "id": "977b8263-b6ee-4624-9fb2-2293ef04dd09",
   "metadata": {},
   "source": [
    "## Calculate embedding and centroids."
   ]
  },
  {
   "cell_type": "code",
   "execution_count": null,
   "id": "60011f1c-9e19-48ac-a6a8-088199432e5a",
   "metadata": {},
   "outputs": [],
   "source": [
    "# Calculate the embeddings\n",
    "\n",
    "# Load libraries as before\n",
    "from transformers import AutoTokenizer, AutoModel\n",
    "import torch\n",
    "import numpy as np\n",
    "# Load a pre-trained tokenizer\n",
    "tokenizer = AutoTokenizer.from_pretrained('dmis-lab/biobert-base-cased-v1.1')\n",
    "model = AutoModel.from_pretrained('dmis-lab/biobert-base-cased-v1.1')\n",
    "# Func\n",
    "def  get_embedding(sentence):\n",
    "    inputs = tokenizer(sentence, return_tensors='pt',padding=True)\n",
    "    outputs = model(**inputs)\n",
    "    return outputs.last_hidden_state.mean(dim=1).detach().numpy()\n",
    "\n",
    "def calculate_centroid(embeddings):\n",
    "    return np.mean(embeddings,axis=0)\n",
    "\n",
    "\n",
    "#Get embeddings\n",
    "# input\n",
    "#Pre-classified sentences\n",
    "accept_titles = ['The role of adiposity in cardiometabolic traits: a Mendelian randomization analysis','Age- and sex-specific causal effects of adiposity on cardiovascular risk factors','Causal Effect of Adiposity Measures on Blood Pressure Traits in 2 Urban Swedish Cohorts: A Mendelian Randomization Study'\n",
    "]\n",
    "reject_titles = ['The causal effects of health conditions and risk factors on social and socioeconomic outcomes: Mendelian randomization in UK Biobank','Association of serum HDL-cholesterol and apolipoprotein A1 levels with risk of severe SARS-CoV-2 infection','Effect of Systolic Blood Pressure on Left Ventricular Structure and Function: A Mendelian Randomization Study']\n",
    "# Getting embeddings\n",
    "accept_embeddings = [get_embedding(sent)for sent in accept_titles]\n",
    "\n",
    "reject_embeddings = [get_embedding(sent)for sent in reject_titles]\n",
    "\n",
    "# Calculate the average locations (centroids)\n",
    "accept_centroid = calculate_centroid(accept_embeddings)\n",
    "reject_centroid = calculate_centroid(reject_embeddings)"
   ]
  },
  {
   "cell_type": "markdown",
   "id": "6cbb0c1b-4fab-437b-b2a9-209c759c4cc4",
   "metadata": {},
   "source": [
    "## Predict category of new title using biobert dmis-lab"
   ]
  },
  {
   "cell_type": "code",
   "execution_count": null,
   "id": "d5ef762c-b857-425e-95cb-bdd526531c40",
   "metadata": {},
   "outputs": [],
   "source": [
    "# Predict the category of a new title\n",
    "new_title = 'Association between alcohol and cardiovascular disease: Mendelian randomisation analysis based on individual participant data.'\n",
    "new_embedding = get_embedding(new_title)\n",
    "\n",
    "# Measure distance to the centroids\n",
    "\n",
    "distance_to_accept = np.linalg.norm(new_embedding - accept_centroid)\n",
    "distance_to_reject = np.linalg.norm(new_embedding - reject_centroid)\n",
    "print(distance_to_accept)\n",
    "print(distance_to_reject)\n",
    "# Classification\n",
    "if distance_to_accept < distance_to_reject:\n",
    "    classification = 'Accept'\n",
    "else:\n",
    "    classification = 'Reject'\n",
    "\n",
    "print(classification)"
   ]
  },
  {
   "cell_type": "markdown",
   "id": "053ae336-ff97-4c61-bbff-f21e73ca8b52",
   "metadata": {},
   "source": [
    "The title's category is  wrong compared to expert knowledge."
   ]
  },
  {
   "cell_type": "markdown",
   "id": "84b033da-6b3d-4401-b910-d017a64b0c00",
   "metadata": {},
   "source": [
    "# Visualise"
   ]
  },
  {
   "cell_type": "code",
   "execution_count": null,
   "id": "18f3fbc1-3da4-49c2-84e5-a34ee5772c10",
   "metadata": {},
   "outputs": [],
   "source": [
    "# Visualise\n",
    "\n",
    "import numpy as np\n",
    "import matplotlib.pyplot as plt\n",
    "\n",
    "from sklearn.manifold import TSNE\n",
    "\n",
    "# Concatenate all embeddings\n",
    "all_embeddings = np.concatenate((accept_embeddings,reject_embeddings),axis=0)\n",
    "\n",
    "all_embeddings = np.squeeze(all_embeddings,axis=1)\n",
    "\n",
    "print(all_embeddings.shape)\n",
    "\n",
    "# Reduce the dimensionality\n",
    "# Set the perplexity to a value less than the number of samples\n",
    "perplexity_value = min(30, len(all_embeddings)-1)\n",
    "\n",
    "#Apply t-SNE for dimensionality reduction\n",
    "tsne = TSNE(n_components=2,random_state=42,perplexity=perplexity_value)\n",
    "embeddings_2d = tsne.fit_transform(all_embeddings)\n",
    "\n",
    "# Visualise the embeddings\n",
    "num_accepted = len(accept_embeddings)\n",
    "# Plotting\n",
    "plt.figure(figsize=(10,6))\n",
    "plt.scatter(embeddings_2d[:num_accepted,0],embeddings_2d[:num_accepted,1],color='b',label='Accept')\n",
    "plt.scatter(embeddings_2d[num_accepted:,0],embeddings_2d[num_accepted:,1],color='r',label='Reject')\n",
    "\n",
    "plt.title(\"2D t-SNE of Title only Embeddings - BioBERT - dmis-lab\")\n",
    "\n",
    "plt.xlabel('t-SNE Dimension 1')\n",
    "plt.ylabel('t-SNE Dimension 2')\n",
    "plt.legend()\n",
    "plt.grid(True)\n",
    "plt.show()"
   ]
  },
  {
   "cell_type": "markdown",
   "id": "315c4b9e-0788-45d5-8403-99e8759d728d",
   "metadata": {},
   "source": [
    "# Text classification Title and abstract using BioBERT-dmis-lab"
   ]
  },
  {
   "cell_type": "code",
   "execution_count": null,
   "id": "accc204a-9f71-472d-a63b-dd2b477ad210",
   "metadata": {},
   "outputs": [],
   "source": [
    "# Load a BERT model tokenizer\n",
    "tokenizer = AutoTokenizer.from_pretrained('dmis-lab/biobert-base-cased-v1.1')\n",
    "model = AutoModel.from_pretrained('dmis-lab/biobert-base-cased-v1.1')\n",
    "\n",
    "# Write two functions (get_embeddings and calculate_centroid)\n",
    "def get_embeddings(text):\n",
    "    '''\n",
    "    This function takes in a piece of text, tokenized using the autotokenizer.\n",
    "    The tokezer output is fed to the model to generate the embeddings of that given text.\n",
    "    '''\n",
    "    inputs = tokenizer(text, return_tensors='pt',truncation=True, max_length = 512,padding=True)\n",
    "    outputs= model(**inputs)\n",
    "    return outputs.last_hidden_state.mean(dim=1).detach().numpy()\n",
    "\n",
    "# Calculate the centroid - we calculate this by getting the mean of embeddings using numpy\n",
    "def centroid_calculator(embeddings):\n",
    "    '''\n",
    "    This function takes in embeddings and returns the mean of the embeddings which is also average location\n",
    "    '''\n",
    "    return np.mean(embeddings, axis=0)\n",
    "\n",
    "# Input - UPDATED WITH ABSTRACTS, titles separated from the abstract by a full stop\n",
    "# Annotated dataset from Reviewer 1 (WNG), Accepted for included and rejected for excluded\n",
    "Accepted = ['''The role of adiposity in cardiometabolic traits: a Mendelian randomization analysis. Background: The association between adiposity and cardiometabolic traits is well known from epidemiological studies. Whilst the causal relationship is clear for some of these traits, for others it is not. We aimed to determine whether adiposity is causally related to various cardiometabolic traits using the Mendelian randomization approach.\n",
    "\n",
    "Methods and findings: We used the adiposity-associated variant rs9939609 at the FTO locus as an instrumental variable (IV) for body mass index (BMI) in a Mendelian randomization design. Thirty-six population-based studies of individuals of European descent contributed to the analyses. Age- and sex-adjusted regression models were fitted to test for association between (i) rs9939609 and BMI (n = 198,502), (ii) rs9939609 and 24 traits, and (iii) BMI and 24 traits. The causal effect of BMI on the outcome measures was quantified by IV estimators. The estimators were compared to the BMI-trait associations derived from the same individuals. In the IV analysis, we demonstrated novel evidence for a causal relationship between adiposity and incident heart failure (hazard ratio, 1.19 per BMI-unit increase; 95% CI, 1.03-1.39) and replicated earlier reports of a causal association with type 2 diabetes, metabolic syndrome, dyslipidemia, and hypertension (odds ratio for IV estimator, 1.1-1.4; all p < 0.05). For quantitative traits, our results provide novel evidence for a causal effect of adiposity on the liver enzymes alanine aminotransferase and gamma-glutamyl transferase and confirm previous reports of a causal effect of adiposity on systolic and diastolic blood pressure, fasting insulin, 2-h post-load glucose from the oral glucose tolerance test, C-reactive protein, triglycerides, and high-density lipoprotein cholesterol levels (all p < 0.05). The estimated causal effects were in agreement with traditional observational measures in all instances except for type 2 diabetes, where the causal estimate was larger than the observational estimate (p = 0.001).\n",
    "\n",
    "Conclusions: We provide novel evidence for a causal relationship between adiposity and heart failure as well as between adiposity and increased liver enzymes.''',\n",
    "\n",
    "            '''Age- and sex-specific causal effects of adiposity on cardiovascular risk factors.Observational studies have reported different effects of adiposity on cardiovascular risk factors across age and sex. Since cardiovascular risk factors are enriched in obese individuals, it has not been easy to dissect the effects of adiposity from those of other risk factors. We used a Mendelian randomization approach, applying a set of 32 genetic markers to estimate the causal effect of adiposity on blood pressure, glycemic indices, circulating lipid levels, and markers of inflammation and liver disease in up to 67,553 individuals. All analyses were stratified by age (cutoff 55 years of age) and sex. The genetic score was associated with BMI in both nonstratified analysis (P = 2.8 × 10−107) and stratified analyses (all P < 3.3 × 10−30). We found evidence of a causal effect of adiposity on blood pressure, fasting levels of insulin, C-reactive protein, interleukin-6, HDL cholesterol, and triglycerides in a nonstratified analysis and in the <55-year stratum. Further, we found evidence of a smaller causal effect on total cholesterol (P for difference = 0.015) in the ≥55-year stratum than in the <55-year stratum, a finding that could be explained by biology, survival bias, or differential medication. In conclusion, this study extends previous knowledge of the effects of adiposity by providing sex- and age-specific causal estimates on cardiovascular risk factors.''',\n",
    "            '''Causal Effect of Adiposity Measures on Blood Pressure Traits in 2 Urban Swedish Cohorts: A Mendelian Randomization Study.Background Different adiposity traits may be causally related to hypertension in different ways. By using genetic variants as randomly allocated proxies for studying the effect of modifying adiposity traits, the Mendelian randomization approach can be used to investigate this. Methods and Results In this study, we used 4 different genetic risk scores (GRS; GRS-BMI565, GRS-WHR324, GRS-VAT208, GRS-BF81) including hundreds of single nucleotide polymorphisms associated with body mass index, waist-to-hip ratio, visceral adipose tissue, and body fat, respectively. These were applied as instrumental variables in Mendelian randomization analyses. Two Swedish urban-based cohort studies, the Malmö Diet and Cancer, and the Malmö Preventive 795Projects were used to obtain genetic association estimates with blood pressure (BP). In both the Malmö Preventive Projects and Malmö Diet and Cancer studies, except for that for body fat, all of the genetic risk scores were significantly associated with systolic BP and diastolic BP, but with different magnitudes. In particular, in both cohorts, each standard deviation increase in the genetic risk score made up by the 324 single nucleotide polymorphisms associated with waist-to-hip ratio was associated with doubling of the likelihood of hypertension prevalence at baseline. However, only the genetic risk score made up by the 565 SNPs associated with body mass index was significantly associated with hypertension incidence during 23.6±4.3 years of follow-up in the Malmö Preventive Project. Conclusions We support a causal link between genetically mediated adiposity, especially waist-to-hip ratio and body mass index, and BP traits including hypertension prevalence and, for the first time to our knowledge, hypertension incidence. The differences in magnitude between these associations might suggest different mechanisms by which different adiposity affects BP/hypertension and consequently may indicate that tailored interventions are needed to reduce cardiovascular risk. ''']\n",
    "\n",
    "Rejected  = ['''The causal effects of health conditions and risk factors on social and socioeconomic outcomes: Mendelian randomization in UK Biobank.Background\n",
    "We aimed to estimate the causal effect of health conditions and risk factors on social and socioeconomic outcomes in UK Biobank. Evidence on socioeconomic impacts is important to understand because it can help governments, policy makers and decision makers allocate resources efficiently and effectively.\n",
    "Methods: We used Mendelian randomization to estimate the causal effects of eight health conditions (asthma, breast cancer, coronary heart disease, depression, eczema, migraine, osteoarthritis, type 2 diabetes) and five health risk factors [alcohol intake, body mass index (BMI), cholesterol, systolic blood pressure, smoking] on 19 social and socioeconomic outcomes in 336 997 men and women of White British ancestry in UK Biobank, aged between 39 and 72 years. Outcomes included annual household income, employment, deprivation [measured by the Townsend deprivation index (TDI)], degree-level education, happiness, loneliness and 13 other social and socioeconomic outcomes.\n",
    "Results: Results suggested that BMI, smoking and alcohol intake affect many socioeconomic outcomes. For example, smoking was estimated to reduce household income [mean difference = -£22 838, 95% confidence interval (CI): -£31 354 to -£14 321] and the chance of owning accommodation [absolute percentage change (APC) = -20.8%, 95% CI: -28.2% to -13.4%], of being satisfied with health (APC = -35.4%, 95% CI: -51.2% to -19.5%) and of obtaining a university degree (APC = -65.9%, 95% CI: -81.4% to -50.4%), while also increasing deprivation (mean difference in TDI = 1.73, 95% CI: 1.02 to 2.44, approximately 216% of a decile of TDI). There was evidence that asthma decreased household income, the chance of obtaining a university degree and the chance of cohabiting, and migraine reduced the chance of having a weekly leisure or social activity, especially in men. For other associations, estimates were null.\n",
    "Conclusions :Higher BMI, alcohol intake and smoking were all estimated to adversely affect multiple social and socioeconomic outcomes. Effects were not detected between health conditions and socioeconomic outcomes using Mendelian randomization, with the exceptions of depression, asthma and migraines. This may reflect true null associations, selection bias given the relative health and age of participants in UK Biobank, and/or lack of power to detect effects.''',\n",
    "             '''Association of serum HDL-cholesterol and apolipoprotein A1 levels with risk of severe SARS-CoV-2 infection. Individuals with features of metabolic syndrome are particularly susceptible to severe acute respiratory syndrome coronavirus 2 (SARS-CoV-2), a novel coronavirus associated with the severe respiratory disease, coronavirus disease 2019 (COVID-19). Despite considerable attention dedicated to COVID-19, the link between metabolic syndrome and SARS-CoV-2 infection remains unclear. Using data from the UK Biobank, we investigated the relationship between severity of COVID-19 and metabolic syndrome-related serum biomarkers measured prior to SARS-CoV-2 infection. Logistic regression analyses were used to test biomarker levels and biomarker-associated genetic variants with SARS-CoV-2-related outcomes. Among SARS-CoV-2-positive cases and negative controls, a 10 mg/dl increase in serum HDL-cholesterol or apolipoprotein A1 levels was associated with ∼10% reduced risk of SARS-CoV-2 infection, after adjustment for age, sex, obesity, hypertension, type 2 diabetes, and coronary artery disease. Evaluation of known genetic variants for HDL-cholesterol revealed that individuals homozygous for apolipoprotein E4 alleles had ∼2- to 3-fold higher risk of SARS-CoV-2 infection or mortality from COVID-19 compared with apolipoprotein E3 homozygotes, even after adjustment for HDL-cholesterol levels. However, cumulative effects of all evaluated HDL-cholesterol-raising alleles and Mendelian randomization analyses did not reveal association of genetically higher HDL-cholesterol levels with decreased risk of SARS-CoV-2 infection. These results implicate serum HDL-cholesterol and apolipoprotein A1 levels measured prior to SAR-CoV-2 exposure as clinical risk factors for severe COVID-19 infection but do not provide evidence that genetically elevated HDL-cholesterol levels are associated with SAR-CoV-2 infection.''',\n",
    "             '''Effect of Systolic Blood Pressure on Left Ventricular Structure and Function: A Mendelian Randomization Study.We aimed to estimate the effects of a lifelong exposure to high systolic blood pressure (SBP) on left ventricular (LV) structure and function using Mendelian randomization. A total of 5596 participants of the UK Biobank were included for whom cardiovascular magnetic resonance imaging and genetic data were available. Major exclusion criteria included nonwhite ethnicity, major cardiovascular disease, and body mass index >30 or <18.5 kg/m2. A genetic risk score to estimate genetically predicted SBP (gSBP) was constructed based on 107 previously established genetic variants. Manual cardiovascular magnetic resonance imaging postprocessing analyses were performed in 300 individuals at the extremes of gSBP (150 highest and lowest). Multivariable linear regression analyses of imaging biomarkers were performed using gSBP as continuous independent variable. All analyses except myocardial strain were validated using previously derived imaging parameters in 2530 subjects. The mean (SD) age of the study population was 62 (7) years, and 52% of subjects were female. Corrected for age, sex, and body surface area, each 10 mm Hg increase in gSBP was significantly (P<0.0056) associated with 4.01 g (SE, 1.28; P=0.002) increase in LV mass and with 2.80% (SE, 0.97; P=0.004) increase in LV global radial strain. In the validation cohort, after correction for age, sex, and body surface area, each 10 mm Hg increase in gSBP was associated with 5.27 g (SE, 1.50; P<0.001) increase in LV mass. Our study provides a novel line of evidence for a causal relationship between SBP and increased LV mass and with increased LV global radial strain.''']\n",
    "\n",
    "\n",
    "#Get the embeddings for accepted and rejected\n",
    "#Using the concept of list comrehension, loop through the titles and abstracts and generate embeddings\n",
    "accept_embeddings =[get_embeddings(text) for text in Accepted]\n",
    "reject_embeddings =[get_embeddings(text) for text in Rejected]\n",
    "\n",
    "# Centroid /average location calculator\n",
    "accepted_centroid = centroid_calculator(accept_embeddings)\n",
    "rejected_centroid = centroid_calculator(reject_embeddings)"
   ]
  },
  {
   "cell_type": "markdown",
   "id": "201f3833-98d3-42d6-9c6d-ac0c0aa7f775",
   "metadata": {},
   "source": [
    "# Predict title and abstract using BioBERT - dmis-lab"
   ]
  },
  {
   "cell_type": "code",
   "execution_count": null,
   "id": "848ea7f6-7903-4feb-8631-6f8157cdedc7",
   "metadata": {},
   "outputs": [],
   "source": [
    "# Predict a category for new title and abstract\n",
    "# Classify a new title and abstract\n",
    "\n",
    "new_title_abs = '''Association between alcohol and cardiovascular disease: Mendelian randomisation analysis based on individual participant data.Objective: To use the rs1229984 variant in the alcohol dehydrogenase 1B gene (ADH1B) as an instrument to investigate the causal role of alcohol in cardiovascular disease.\n",
    "\n",
    "Design: Mendelian randomisation meta-analysis of 56 epidemiological studies.\n",
    "\n",
    "Participants: 261 991 individuals of European descent, including 20 259 coronary heart disease cases and 10 164 stroke events. Data were available on ADH1B rs1229984 variant, alcohol phenotypes, and cardiovascular biomarkers.\n",
    "\n",
    "Main outcome measures: Odds ratio for coronary heart disease and stroke associated with the ADH1B variant in all individuals and by categories of alcohol consumption.\n",
    "\n",
    "Results: Carriers of the A-allele of ADH1B rs1229984 consumed 17.2% fewer units of alcohol per week (95% confidence interval 15.6% to 18.9%), had a lower prevalence of binge drinking (odds ratio 0.78 (95% CI 0.73 to 0.84)), and had higher abstention (odds ratio 1.27 (1.21 to 1.34)) than non-carriers. Rs1229984 A-allele carriers had lower systolic blood pressure (-0.88 (-1.19 to -0.56) mm Hg), interleukin-6 levels (-5.2% (-7.8 to -2.4%)), waist circumference (-0.3 (-0.6 to -0.1) cm), and body mass index (-0.17 (-0.24 to -0.10) kg/m(2)). Rs1229984 A-allele carriers had lower odds of coronary heart disease (odds ratio 0.90 (0.84 to 0.96)). The protective association of the ADH1B rs1229984 A-allele variant remained the same across all categories of alcohol consumption (P=0.83 for heterogeneity). Although no association of rs1229984 was identified with the combined subtypes of stroke, carriers of the A-allele had lower odds of ischaemic stroke (odds ratio 0.83 (0.72 to 0.95)).\n",
    "\n",
    "Conclusions: Individuals with a genetic variant associated with non-drinking and lower alcohol consumption had a more favourable cardiovascular profile and a reduced risk of coronary heart disease than those without the genetic variant. This suggests that reduction of alcohol consumption, even for light to moderate drinkers, is beneficial for cardiovascular health.'''\n",
    "new_title_abs_embeddings = get_embeddings(new_title_abs)\n",
    "\n",
    "# Measure distance from the centroids\n",
    "distance_to_accept = np.linalg.norm(new_title_abs_embeddings - accepted_centroid)\n",
    "distance_to_reject = np.linalg.norm(new_title_abs_embeddings - rejected_centroid)\n",
    "\n",
    "print(distance_to_accept)\n",
    "print(distance_to_reject)\n",
    "\n",
    "# Classify based on how close they are to \n",
    "if distance_to_accept < distance_to_reject:\n",
    "    classification = 'Accept'\n",
    "else:\n",
    "    classification = 'Reject'\n",
    "\n",
    "print(classification)"
   ]
  },
  {
   "cell_type": "markdown",
   "id": "0f6da5d1-e1f2-4d80-a9f5-eeffc5e15c7f",
   "metadata": {},
   "source": [
    "Title and abstract category agree with expert classification."
   ]
  },
  {
   "cell_type": "code",
   "execution_count": null,
   "id": "34440e65-a06f-46f9-a7fc-a1c3d5bbd201",
   "metadata": {},
   "outputs": [],
   "source": [
    "# Visualise\n",
    "\n",
    "import numpy as np\n",
    "import matplotlib.pyplot as plt\n",
    "\n",
    "from sklearn.manifold import TSNE\n",
    "\n",
    "# Concatenate all embeddings\n",
    "all_embeddings = np.concatenate((accept_embeddings,reject_embeddings),axis=0)\n",
    "\n",
    "all_embeddings = np.squeeze(all_embeddings,axis=1)\n",
    "\n",
    "print(all_embeddings.shape)\n",
    "\n",
    "# Reduce the dimensionality\n",
    "# Set the perplexity to a value less than the number of samples\n",
    "perplexity_value = min(30, len(all_embeddings)-1)\n",
    "\n",
    "#Apply t-SNE for dimensionality reduction\n",
    "tsne = TSNE(n_components=2,random_state=42,perplexity=perplexity_value)\n",
    "embeddings_2d = tsne.fit_transform(all_embeddings)\n",
    "\n",
    "# Visualise the embeddings\n",
    "num_accepted = len(accept_embeddings)\n",
    "# Plotting\n",
    "plt.figure(figsize=(10,6))\n",
    "plt.scatter(embeddings_2d[:num_accepted,0],embeddings_2d[:num_accepted,1],color='b',label='Accept')\n",
    "plt.scatter(embeddings_2d[num_accepted:,0],embeddings_2d[num_accepted:,1],color='r',label='Reject')\n",
    "\n",
    "plt.title(\"2D t-SNE of Title and Abstract Embeddings - BioBERT - dmis-lab\")\n",
    "\n",
    "plt.xlabel('t-SNE Dimension 1')\n",
    "plt.ylabel('t-SNE Dimension 2')\n",
    "plt.legend()\n",
    "plt.grid(True)\n",
    "plt.show()"
   ]
  },
  {
   "cell_type": "markdown",
   "id": "2014fb4e-b74b-4b8e-819a-8a0d9cd1422e",
   "metadata": {},
   "source": [
    "`dmis-lab/biobert-base-cased-v1.1` Title and abstracts have distinct accept and reject clusters unlike title only."
   ]
  },
  {
   "cell_type": "markdown",
   "id": "9b078c92-6681-4e4a-8c6e-e7d19f44bdd0",
   "metadata": {},
   "source": [
    "# Title and abstract including all MR papers"
   ]
  },
  {
   "cell_type": "markdown",
   "id": "a1f84130-eb50-4b7c-9c9d-becaafe6f5f5",
   "metadata": {},
   "source": [
    "## Load the csv file and preprocess the data"
   ]
  },
  {
   "cell_type": "code",
   "execution_count": null,
   "id": "bac36a4f-1b81-4cae-90de-258207d4e160",
   "metadata": {},
   "outputs": [],
   "source": [
    "MR_df = pd.read_csv('../Data/Raw/MR_articles.csv')\n",
    "MR_df.head()\n",
    "\n",
    "# Subset the data to include columns title, abstract and decision\n",
    "MR_df_sub = MR_df[['title', 'abstract','Decision']]\n",
    "MR_df_sub\n",
    "\n",
    "# Combine column title and abstract separated by a full colon\n",
    "MR_df_sub['title_abs'] = MR_df_sub['title']+':'+MR_df_sub['abstract']\n",
    "MR_df_sub.head()\n",
    "\n",
    "# Put aside the included and excluded into different dataframes\n",
    "Include = MR_df_sub[MR_df_sub['Decision']=='Include'] # Extract included papers\n",
    "Exclude = MR_df_sub[MR_df_sub['Decision']=='Exclude'] # Extract excluded papers\n",
    "Maybe = MR_df_sub[MR_df_sub['Decision']=='Maybe']\n",
    "Include.head()\n",
    "Exclude.head()"
   ]
  },
  {
   "cell_type": "code",
   "execution_count": null,
   "id": "478117c0-820a-4746-8ba2-40afb6ab344f",
   "metadata": {},
   "outputs": [],
   "source": [
    "# Make a list of titles, titles and abstract for each category\n",
    "# Include\n",
    "Include_titles = Include['title'].tolist()\n",
    "Include_titles_abstract = Include['title_abs'].tolist()\n",
    "\n",
    "print(Include_titles)\n",
    "# Exclude\n",
    "Exclude_titles = Exclude['title'].tolist()\n",
    "Exclude_titles_abstract = Exclude['title_abs'].tolist()\n",
    "print(type(Exclude_titles_abstract),len(Exclude_titles_abstract))\n",
    "# Maybe\n",
    "Maybe_titles = Maybe['title'].tolist()\n",
    "Maybe_titles_abstract = Maybe['title_abs'].tolist()\n"
   ]
  },
  {
   "cell_type": "markdown",
   "id": "b9b5bb21-8353-45e9-b0d5-893c6f9d7520",
   "metadata": {},
   "source": [
    "# Title classification using BioBERT dmis-lab"
   ]
  },
  {
   "cell_type": "code",
   "execution_count": null,
   "id": "9e5b7769-ec91-4ef1-a138-4afbc3ac5431",
   "metadata": {},
   "outputs": [],
   "source": [
    "# Load a BERT model tokenizer\n",
    "tokenizer = AutoTokenizer.from_pretrained('dmis-lab/biobert-base-cased-v1.1')\n",
    "model = AutoModel.from_pretrained('dmis-lab/biobert-base-cased-v1.1')\n",
    "\n",
    "# Write two functions (get_embeddings and calculate_centroid)\n",
    "def get_embeddings(text):\n",
    "    '''\n",
    "    This function takes in a piece of text, tokenized using the autotokenizer.\n",
    "    The tokezer output is fed to the model to generate the embeddings of that given text.\n",
    "    '''\n",
    "    inputs = tokenizer(text, return_tensors='pt',truncation=True, max_length = 512,padding=True)\n",
    "    outputs= model(**inputs)\n",
    "    return outputs.last_hidden_state.mean(dim=1).detach().numpy()\n",
    "\n",
    "# Calculate the centroid - we calculate this by getting the mean of embeddings using numpy\n",
    "def centroid_calculator(embeddings):\n",
    "    '''\n",
    "    This function takes in embeddings and returns the mean of the embeddings which is also average location\n",
    "    '''\n",
    "    return np.mean(embeddings, axis=0)\n",
    "\n",
    "# Input -  titles only separated by a comma\n",
    "# Annotated dataset from Reviewer 1 (WNG), Accepted for included and rejected for excluded\n",
    "Accepted = Include_titles\n",
    "Rejected  = Exclude_titles\n",
    "\n",
    "#Get the embeddings for accepted and rejected\n",
    "#Using the concept of list comrehension, loop through the titles and abstracts and generate embeddings\n",
    "accept_embeddings =[get_embeddings(text) for text in Accepted]\n",
    "reject_embeddings =[get_embeddings(text) for text in Rejected]\n",
    "\n",
    "# Centroid /average location calculator\n",
    "accepted_centroid = centroid_calculator(accept_embeddings)\n",
    "rejected_centroid = centroid_calculator(reject_embeddings)"
   ]
  },
  {
   "cell_type": "code",
   "execution_count": null,
   "id": "e660dfac-447d-4d76-98dd-34f2464cf6b7",
   "metadata": {},
   "outputs": [],
   "source": []
  },
  {
   "cell_type": "code",
   "execution_count": null,
   "id": "b626b845-f9ff-4643-9a3a-02fdfac38a9a",
   "metadata": {},
   "outputs": [],
   "source": [
    "# Visualise\n",
    "\n",
    "import numpy as np\n",
    "import matplotlib.pyplot as plt\n",
    "\n",
    "from sklearn.manifold import TSNE\n",
    "\n",
    "# Concatenate all embeddings\n",
    "all_embeddings = np.concatenate((accept_embeddings,reject_embeddings),axis=0)\n",
    "\n",
    "all_embeddings = np.squeeze(all_embeddings,axis=1)\n",
    "\n",
    "print(all_embeddings.shape)\n",
    "\n",
    "# Reduce the dimensionality\n",
    "# Set the perplexity to a value less than the number of samples\n",
    "perplexity_value = min(50, len(all_embeddings)-1)\n",
    "\n",
    "#Apply t-SNE for dimensionality reduction\n",
    "tsne = TSNE(n_components=2,random_state=42,perplexity=perplexity_value)\n",
    "embeddings_2d = tsne.fit_transform(all_embeddings)\n",
    "\n",
    "# Visualise the embeddings\n",
    "num_accepted = len(accept_embeddings)\n",
    "# Plotting\n",
    "plt.figure(figsize=(10,6))\n",
    "plt.scatter(embeddings_2d[:num_accepted,0],embeddings_2d[:num_accepted,1],color='b',label='Accept')\n",
    "plt.scatter(embeddings_2d[num_accepted:,0],embeddings_2d[num_accepted:,1],color='r',label='Reject')\n",
    "\n",
    "plt.title(\"2D t-SNE of Title Embeddings - BioBERT - dmis-lab\")\n",
    "\n",
    "plt.xlabel('t-SNE Dimension 1')\n",
    "plt.ylabel('t-SNE Dimension 2')\n",
    "plt.legend()\n",
    "plt.grid(True)\n",
    "plt.show()"
   ]
  },
  {
   "cell_type": "markdown",
   "id": "24559af1-fa11-4fe2-9f62-ffac38949c26",
   "metadata": {},
   "source": [
    "## Title and abstract classification using BioBERT"
   ]
  },
  {
   "cell_type": "code",
   "execution_count": null,
   "id": "76f02d7a-ab2d-4bec-8124-ef340e441211",
   "metadata": {},
   "outputs": [],
   "source": [
    "# Load a BERT model tokenizer\n",
    "tokenizer = AutoTokenizer.from_pretrained('dmis-lab/biobert-base-cased-v1.1')\n",
    "model = AutoModel.from_pretrained('dmis-lab/biobert-base-cased-v1.1')\n",
    "\n",
    "# Write two functions (get_embeddings and calculate_centroid)\n",
    "def get_embeddings(text):\n",
    "    '''\n",
    "    This function takes in a piece of text, tokenized using the autotokenizer.\n",
    "    The tokezer output is fed to the model to generate the embeddings of that given text.\n",
    "    '''\n",
    "    inputs = tokenizer(text, return_tensors='pt',truncation=True, max_length = 512,padding=True)\n",
    "    outputs= model(**inputs)\n",
    "    return outputs.last_hidden_state.mean(dim=1).detach().numpy()\n",
    "\n",
    "# Calculate the centroid - we calculate this by getting the mean of embeddings using numpy\n",
    "def centroid_calculator(embeddings):\n",
    "    '''\n",
    "    This function takes in embeddings and returns the mean of the embeddings which is also average location\n",
    "    '''\n",
    "    return np.mean(embeddings, axis=0)\n",
    "\n",
    "# Input - UPDATED WITH ABSTRACTS, titles separated from the abstract by a full colon\n",
    "# Annotated dataset from Reviewer 1 (WNG), Accepted for included and rejected for excluded\n",
    "Accepted = Include_titles_abstract\n",
    "Rejected  = Exclude_titles_abstract\n",
    "\n",
    "#Get the embeddings for accepted and rejected\n",
    "#Using the concept of list comrehension, loop through the titles and abstracts and generate embeddings\n",
    "accept_embeddings =[get_embeddings(str(text)) for text in Accepted]\n",
    "reject_embeddings =[get_embeddings(str(text)) for text in Rejected]\n",
    "\n",
    "# Centroid /average location calculator\n",
    "accepted_centroid = centroid_calculator(accept_embeddings)\n",
    "rejected_centroid = centroid_calculator(reject_embeddings)"
   ]
  },
  {
   "cell_type": "code",
   "execution_count": null,
   "id": "90afbf39-bbf7-40cf-8637-c4df964e0fe9",
   "metadata": {},
   "outputs": [],
   "source": [
    "# Visualise the embeddings\n",
    "# Visualise\n",
    "\n",
    "import numpy as np\n",
    "import matplotlib.pyplot as plt\n",
    "\n",
    "from sklearn.manifold import TSNE\n",
    "\n",
    "# Concatenate all embeddings\n",
    "all_embeddings = np.concatenate((accept_embeddings,reject_embeddings),axis=0)\n",
    "\n",
    "all_embeddings = np.squeeze(all_embeddings,axis=1)\n",
    "\n",
    "print(all_embeddings.shape)\n",
    "\n",
    "# Reduce the dimensionality\n",
    "# Set the perplexity to a value less than the number of samples\n",
    "perplexity_value = min(10, len(all_embeddings)-1)\n",
    "\n",
    "#Apply t-SNE for dimensionality reduction\n",
    "tsne = TSNE(n_components=2,random_state=42,perplexity=perplexity_value)\n",
    "embeddings_2d = tsne.fit_transform(all_embeddings)\n",
    "\n",
    "# Visualise the embeddings\n",
    "num_accepted = len(accept_embeddings)\n",
    "# Plotting\n",
    "plt.figure(figsize=(10,6))\n",
    "plt.scatter(embeddings_2d[:num_accepted,0],embeddings_2d[:num_accepted,1],color='b',label='Accept')\n",
    "plt.scatter(embeddings_2d[num_accepted:,0],embeddings_2d[num_accepted:,1],color='r',label='Reject')\n",
    "\n",
    "plt.title(\"2D t-SNE of Title and Abstract Embeddings - BioBERT - dmis-lab\")\n",
    "\n",
    "plt.xlabel('t-SNE Dimension 1')\n",
    "plt.ylabel('t-SNE Dimension 2')\n",
    "plt.legend()\n",
    "plt.grid(True)\n",
    "plt.show()"
   ]
  },
  {
   "cell_type": "markdown",
   "id": "066f0c9d-8c5a-458b-8506-9862a86c80d5",
   "metadata": {},
   "source": [
    "# How about visualising this plot with varying perplexity values."
   ]
  },
  {
   "cell_type": "code",
   "execution_count": null,
   "id": "e8121175-a01c-4833-b8b5-e87f6ce2e106",
   "metadata": {},
   "outputs": [],
   "source": []
  },
  {
   "cell_type": "markdown",
   "id": "9b67f703-ac1f-4e8f-9046-0b563555bc81",
   "metadata": {},
   "source": [
    "# Calculate the Euclidean distance of other papers from the accepted/include centroid\n",
    "- Rank the papers by distance and see whether the new papers are closely related with the include centroid"
   ]
  },
  {
   "cell_type": "code",
   "execution_count": null,
   "id": "466ae7f6-d8e2-4882-84bd-4d4ec088840f",
   "metadata": {},
   "outputs": [],
   "source": [
    "# Step 1: Read in the dataset into jupyter notebook\n",
    "MR_articles = pd.read_csv('../Data/Raw/MR_articles.csv')\n",
    "MR_articles.head()\n",
    "\n",
    "# Subset the data to include columns title, abstract and decision\n",
    "MR_articles_sub = MR_articles[['title', 'abstract','Decision']]\n",
    "MR_articles_sub\n",
    "\n",
    "# Combine column title and abstract separated by a full colon\n",
    "MR_articles_sub['title_abs'] = MR_articles_sub['title']+':'+MR_articles_sub['abstract']\n",
    "MR_articles_sub.head()"
   ]
  },
  {
   "cell_type": "code",
   "execution_count": null,
   "id": "4808a9c4-e929-410f-92b7-ea27fa19dd92",
   "metadata": {},
   "outputs": [],
   "source": [
    "# Step 2: Sample the data frame 50 percent for each category to generate teh reference embeddings and remaining data for prediction\n",
    "\n",
    "# MR_articles.groupby('Decision').sample(n=10,random_state=442) # Simply subset the dataframe by the categorical column\n",
    "proportion = 0.5 # Set the proportion of articles per category\n",
    "\n",
    "# USe the dataset for training purposes (Generate the reference embeddings)\n",
    "MR_articles_train = MR_articles_sub.groupby('Decision', group_keys=False).apply(lambda x:x.sample(frac=proportion,random_state=442),include_groups=True)\n",
    "# print(MR_articles_train) # 101 articles\n",
    "# Subset the original dataset and keep aside those that do not match any entries of the train dataset\n",
    "MR_articles_joint = MR_articles_sub.merge(MR_articles_train,how='left',indicator=True)\n",
    "# Subset the left_only\n",
    "MR_articles_joint # Both dataframes with indicators\n",
    "MR_articles_test =MR_articles_joint[MR_articles_joint['_merge']=='left_only']\n",
    "print(MR_articles_test.head()) # 100 articles unique to the previous dataset\n",
    "\n",
    "# Step 3: Extract the include and exclude category from MR_articles_train, convert into a list of items, generate the embeddings and calculate the centroid for each.\n",
    "\n",
    "Include = MR_articles_train[MR_articles_train['Decision']=='Include'] # Extract included papers\n",
    "Exclude = MR_articles_train[MR_articles_train['Decision']!= 'Include'] # Extract excluded by eliminating the included\n",
    "print(Include.head())\n",
    "Exclude\n",
    "\n",
    "# Convert the title:abstract into a list\n",
    "Include_titles_abstract = Include['title_abs'].tolist()\n",
    "print(len(Include_titles_abstract))\n",
    "\n",
    "Exclude_titles_abstract = Exclude['title_abs'].tolist()\n",
    "print(len(Exclude_titles_abstract))\n",
    "\n",
    "# Generate embeddings for each using BIoBERT dmis-lab\n",
    "# Load a BERT model tokenizer\n",
    "tokenizer = AutoTokenizer.from_pretrained('dmis-lab/biobert-base-cased-v1.1')\n",
    "model = AutoModel.from_pretrained('dmis-lab/biobert-base-cased-v1.1')\n",
    "\n",
    "# Write two functions (get_embeddings and calculate_centroid)\n",
    "def get_embeddings(text):\n",
    "    '''\n",
    "    This function takes in a piece of text, tokenized using the autotokenizer.\n",
    "    The tokenized output is fed to the model to generate the embeddings of that given text.\n",
    "    '''\n",
    "    inputs = tokenizer(text, return_tensors='pt',max_length = 512,truncation=True,padding=True)\n",
    "    outputs= model(**inputs)\n",
    "    return outputs.last_hidden_state.mean(dim=1).detach().numpy()\n",
    "\n",
    "# Calculate the centroid - we calculate this by getting the mean of embeddings using numpy\n",
    "def centroid_calculator(embeddings):\n",
    "    '''\n",
    "    This function takes in embeddings and returns the mean of the embeddings which is also average location\n",
    "    '''\n",
    "    return np.mean(embeddings, axis=0)\n",
    "\n",
    "# Input - UPDATED WITH ABSTRACTS, titles separated from the abstract by a full colon\n",
    "# Annotated dataset from Reviewer 1 (WNG), Accepted for included and rejected for excluded\n",
    "Accepted = Include_titles_abstract\n",
    "Rejected  = Exclude_titles_abstract\n",
    "\n",
    "#Get the embeddings for accepted and rejected\n",
    "#Using the concept of list comrehension, loop through the titles and abstracts and generate embeddings\n",
    "accept_embeddings =[get_embeddings(str(text)) for text in Accepted]\n",
    "reject_embeddings =[get_embeddings(str(text)) for text in Rejected]\n",
    "\n",
    "# Centroid /average location calculator\n",
    "accepted_centroid = centroid_calculator(accept_embeddings)\n",
    "rejected_centroid = centroid_calculator(reject_embeddings)\n",
    "# Visualise\n",
    "\n",
    "# Visualise\n",
    "\n",
    "import numpy as np\n",
    "import matplotlib.pyplot as plt\n",
    "\n",
    "from sklearn.manifold import TSNE\n",
    "\n",
    "# Concatenate all embeddings\n",
    "all_embeddings = np.concatenate((accept_embeddings,reject_embeddings),axis=0)\n",
    "\n",
    "all_embeddings = np.squeeze(all_embeddings,axis=1)\n",
    "\n",
    "print(all_embeddings.shape)\n",
    "\n",
    "# Reduce the dimensionality\n",
    "# Set the perplexity to a value less than the number of samples\n",
    "perplexity_value = min(30, len(all_embeddings)-1)\n",
    "\n",
    "#Apply t-SNE for dimensionality reduction\n",
    "tsne = TSNE(n_components=2,random_state=42,perplexity=perplexity_value)\n",
    "embeddings_2d = tsne.fit_transform(all_embeddings)\n",
    "\n",
    "# Visualise the embeddings\n",
    "num_accepted = len(accept_embeddings)\n",
    "# Plotting\n",
    "plt.figure(figsize=(10,6))\n",
    "plt.scatter(embeddings_2d[:num_accepted,0],embeddings_2d[:num_accepted,1],color='b',label='Include')\n",
    "plt.scatter(embeddings_2d[num_accepted:,0],embeddings_2d[num_accepted:,1],color='r',label='Exclude')\n",
    "\n",
    "plt.title(\"2D t-SNE of Title-abstract (N=101) Embeddings - BioBERT - dmis-lab\")\n",
    "\n",
    "plt.xlabel('t-SNE Dimension 1')\n",
    "plt.ylabel('t-SNE Dimension 2')\n",
    "plt.legend()\n",
    "plt.grid(True)\n",
    "plt.show()\n",
    "\n",
    "# Predict new articles from MR_articles_test\n",
    "# Write a function that takes in the list of articles, accept and reject centroids and returns the category and articles and distances\n",
    "def predict_articles(article, accept_centroid, reject_centroid):\n",
    "    '''\n",
    "    This function takes in a list of article title_abstract, the accept and reject centroid.\n",
    "    Firstly, converts each article in the list into embeddings.\n",
    "    Secondly, calculates the euclidean distance for each article embedding to both centroids.\n",
    "    Determine which of the distances to the centroids is smaller of the two and the smallest, becomes the category for the given article.\n",
    "    '''\n",
    "    # Convert all article titles into embeddings\n",
    "    embeddings = get_embeddings(article)\n",
    "\n",
    "    # Compute Euclidean distances in batch\n",
    "    distances_to_accept = np.linalg.norm(embeddings - accept_centroid, axis=1)\n",
    "    distances_to_reject = np.linalg.norm(embeddings - reject_centroid, axis=1)\n",
    "\n",
    "    # Classify each article based on the nearest centroid\n",
    "    classification = np.where(distances_to_accept < distances_to_reject, 'Include', 'Exclude')\n",
    "\n",
    "    # Return results as a list of tuples: (title, distance_to_accept, distance_to_reject, classification)\n",
    "    return list(zip(article, distances_to_accept, distances_to_reject, classification))\n",
    "\n",
    "# Predict the category of a new title and abstract; Use the MR_article_train test\n",
    "# Prepare the list of articles from the test data\n",
    "Article_title_abs = MR_articles_test['title_abs'].astype(str).tolist()\n",
    "# Predict the article classes\n",
    "MR_articles_prediction = predict_articles(Article_title_abs,accepted_centroid,rejected_centroid)\n",
    "#MR_articles_prediction # Returns a list"
   ]
  },
  {
   "cell_type": "code",
   "execution_count": null,
   "id": "99d3029d-5997-44f1-9607-c96f4ade46f2",
   "metadata": {},
   "outputs": [],
   "source": [
    "# MR_articles_prediction = predict_articles(Article_title_abs,accepted_centroid,rejected_centroid) # Output from classify function\n",
    "MR_articles_pred = pd.DataFrame(MR_articles_prediction) # Convert the list to a dataframe\n",
    "# Rename the columns\n",
    "MR_articles_pred.columns = ['title_abs','dist_to_accept','dist_toreject','model_decision']\n",
    "MR_articles_pred\n",
    "\n",
    "# Combine prediction dataframe with the test dataframe with human decision\n",
    "MR_articles_pred\n",
    "MR_articles_test\n",
    "MR_articles_test_pred = MR_articles_pred.merge(MR_articles_test,how='left',on ='title_abs') # joint test and prediction\n",
    "MR_articles_test_pred.sort_values('Decision',ascending=False).head(50) # Visualise the top 50, only recovers 2 papers with correct prediction\n"
   ]
  },
  {
   "cell_type": "markdown",
   "id": "8dfab7bc-ecbf-4372-99ab-f10e6f2ae76b",
   "metadata": {},
   "source": [
    "# Conclusion\n",
    "\n",
    "We generated the reference embeddings using 50% of the data from each category. secondly, prediction of article title and abstract was doen using the reference embeddings.\n",
    "\n",
    "Unsurprisingly the model performs badly, as evidenced by the TSNE based 2D -visualisation.\n",
    "\n",
    "The model only recovers the include class of only two articles.\n",
    "\n",
    "It correctly identifies the excluded category most of the time, except for fourteen papers.\n"
   ]
  },
  {
   "cell_type": "code",
   "execution_count": null,
   "id": "43f3b3c0-721f-4839-92ca-2f0c3948a2d9",
   "metadata": {},
   "outputs": [],
   "source": [
    "MR_articles_test.sort_values('Decision',ascending=False).head(n=50)"
   ]
  },
  {
   "cell_type": "code",
   "execution_count": null,
   "id": "7e9e2e5d-ddbc-44b9-a86c-94dd29f246cd",
   "metadata": {},
   "outputs": [],
   "source": [
    "# Confusion matrix comparing human decision and model decision\n",
    "#!pip install seaborn\n",
    "import pandas as pd\n",
    "import matplotlib.pyplot as plt\n",
    "import seaborn as sns\n",
    "\n",
    "# Ensure consistent categories for the confusion matrix\n",
    "\n",
    "df=MR_articles_test_pred[['model_decision','Decision']]\n",
    "\n",
    "categories = ['Include', 'Exclude']\n",
    "\n",
    "# Create a confusion matrix using pandas\n",
    "confusion_matrix = pd.crosstab(df['model_decision'], df['Decision'], \n",
    "                               rownames=['Model Decision'], \n",
    "                               colnames=['Human Decision'], \n",
    "                               dropna=False)  # dropna=False ensures no category is omitted\n",
    "\n",
    "print(confusion_matrix)\n"
   ]
  },
  {
   "cell_type": "code",
   "execution_count": null,
   "id": "edd75172-b930-4152-adff-03ef1eb380ab",
   "metadata": {},
   "outputs": [],
   "source": [
    "# Plot the confusion matrix as a heatmap\n",
    "plt.figure(figsize=(8, 6))\n",
    "sns.heatmap(confusion_matrix, annot=True, cmap=\"YlGnBu\", fmt=\"d\", linewidths=0.5)\n",
    "\n",
    "# Set labels and title\n",
    "plt.title('Model vs Human Decision Heatmap')\n",
    "plt.xlabel('Human Decision')\n",
    "plt.ylabel('Model Decision')\n",
    "\n",
    "# Show the plot\n",
    "plt.show()\n"
   ]
  },
  {
   "cell_type": "raw",
   "id": "4a1f1649-c53d-4d73-91e6-12d1a8354f05",
   "metadata": {},
   "source": [
    "nan - This is a category where the abstract is missing"
   ]
  },
  {
   "cell_type": "markdown",
   "id": "2ed3da09-1fa4-4e03-a096-cab8a44436c4",
   "metadata": {},
   "source": [
    "# Prompt Engineering for screening papers"
   ]
  },
  {
   "cell_type": "markdown",
   "id": "7a4e4688-e5fe-44b1-a1b3-3a213abc9f86",
   "metadata": {},
   "source": [
    "# Adapting Guo et al strategy for screening papers by Title and abstract.\n",
    "\n",
    "What am I doing differently, cleaning step for abstracts and titles.\n",
    "Chunking the text to fit within the context window.\n",
    "\n",
    "In addition a gap the paper identified was to include the few shot learning and have gone above and beyond to implement proper prompt engineering.\n",
    "\n",
    "A better prompt must be concise and clear but a good one is atleast 500 words long.\n"
   ]
  },
  {
   "cell_type": "markdown",
   "id": "3b8cb42b-a1d5-48fb-9ebc-f568e7dd4ccd",
   "metadata": {},
   "source": [
    "**Input**    \n",
    "Metadata csv file, has three columns: dataset name, inclusion and excluison criteria.      \n",
    "Dataset csv file, has two columns, title and abstract. \n",
    "\n",
    "Some abstracts are missing and its just because they are unavailable when downloading and therefore the script replaces the missing row entry with abstract not available.\n",
    "\n",
    "**Output**   \n",
    "A dataset csv file with three columns including title, abstract and decision.\n"
   ]
  },
  {
   "cell_type": "markdown",
   "id": "b652b2c0-8016-45c0-9a36-066ae659dba2",
   "metadata": {},
   "source": [
    "# Initial instructions\n",
    "\n",
    "'You are a researcher rigorously screening titles and abstracts of scientific papers for inclusion or exclusion in a review paper. Use the criteria below to inform your decision. If any exclusion criteria are met or not all inclusion criteria are met, exclude the article. If all inclusion criteria are met, include the article. Only type \"included\" or \"excluded\" to indicate your decision. Do not type anything else.'\n",
    "\n",
    "# Refined instructions\n",
    "'''You are a researcher rigorously screening titles and abstracts of scientific papers for inclusion or exclusion in a review paper. Evaluate each paper against the following criteria:\n",
    "\n",
    "INCLUSION CRITERIA:\n",
    "1. Study design: Mendelian randomisation involving human particiants age above 18+ including methods papers with applied example of effect of body mass index on blood pressure.\n",
    "2. Exposure: Adulthood body mass index OR  adiposity OR BMI.\n",
    "3. Outcomes: Hypertension AND OR Diastolic blood pressure AND OR systolic blood pressure\n",
    "4. Population or ancestry: European population.\n",
    "##### Exclude 6 and 7\n",
    "6. Include method papers with applied examples of effect of body mass index on blood pressure.\n",
    "7. Instrument variables (IV): genetic variants and or genetic risk score. \n",
    "\n",
    "EXCLUSION CRITERIA:\n",
    "1. Study design: Non Mendelian randomisation papers.\n",
    "2. Article type: Conference abstracts, Any Reviews (scoping and systematic reviews).\n",
    "3. Non-English, Commentary and letters from and to editors.\n",
    "\n",
    "**Exclude this set from the exclusion criteria**\n",
    "\n",
    "5. Exclude outcomes like gestational hypertension, intracranial hypertension and other outcomes other than arterial hypertension, DBP and systolic blood pressure.\n",
    "6. Exclude articles investigating childhood body mass index, waist circumference,waist to hip ratio. \n",
    "7. Exclude Non-European population or ancestry.\n",
    "8. Exclude articles reporting wrong effect estimates e.g risk difference for a continuous trait.\n",
    "\n",
    "I will present you with the title, abstract of a scientific paper and the inclusion and exclusion crieria. Based solely on this information, determine if ALL inclusion criteria are met AND NONE of the exclusion criteria are met.\n",
    "\n",
    "Respond with ONLY \"INCLUDED\" or \"EXCLUDED\" - no explanations or other text.'''\n",
    "  \n",
    "\n",
    "# Rerunning the same prompt do I get the same results? \n",
    "\n",
    "It is recommended rerunning the analysis 10X and see whether you get the same results every other time.\n",
    "Remove number 1 under exclusion criteria\n",
    "Remove  6 and 7 from inclusion criteria, all MR papers use genetic variants anyway\n",
    "Include method papers is very restrictive"
   ]
  },
  {
   "cell_type": "markdown",
   "id": "b6b024d6-12ce-4c38-8039-69b42eeeb560",
   "metadata": {},
   "source": [
    "We take the human annotations as our ground truth.\n",
    "\n",
    "The **Bright colors; dark blue** shows larger differences between humans and the model annotations. This implies that the model in question (Model 1) is making more errors.\n",
    "\n",
    "The **Light colors, lighter shade of blue** shows smaller differences between human annotations and the model. This means the model perfromance closley matches the human annotation."
   ]
  },
  {
   "cell_type": "markdown",
   "id": "b78f62ca-b00d-40f0-9abe-18dbb70dd147",
   "metadata": {},
   "source": [
    "# Functions I need to automate the process"
   ]
  },
  {
   "cell_type": "markdown",
   "id": "1597e3c4-5c70-4c19-acf7-935fa3becea7",
   "metadata": {},
   "source": [
    "### Create custom functions for processing the data and visualising the results"
   ]
  },
  {
   "cell_type": "code",
   "execution_count": null,
   "id": "1b503639-e9df-43a8-8b7a-64b4ad3c5aa9",
   "metadata": {},
   "outputs": [],
   "source": []
  },
  {
   "cell_type": "code",
   "execution_count": 15,
   "id": "c932bd75-5dca-4b20-b8d6-7fe6841fb002",
   "metadata": {},
   "outputs": [],
   "source": [
    "import pandas as pd\n",
    "from sklearn.metrics import confusion_matrix\n",
    "import seaborn as sns\n",
    "import matplotlib.pyplot as plt\n",
    "\n",
    "\n",
    "def data_processing(df1, df2, modelname, outputfile):\n",
    "    '''\n",
    "    This function takes in two datasets.\n",
    "    Reads in individual datasets and sorts each one by the title column.\n",
    "    Extracts the decision column from df2 and adds it to df1 with a user-supplied column name.\n",
    "    Returns a reference dataframe with the model decision column to be passed to a confusion matrix for visualization.\n",
    "\n",
    "    Parameters:\n",
    "    df1 - Reference dataset, with human decision.\n",
    "    df2 - Test dataset (model output) decision.\n",
    "    modelname - Name of the model (e.g., 'zero_shot', 'one_shot', 'reasoning', etc.).\n",
    "    outputfile - Name of the output CSV file.\n",
    "    '''\n",
    "    # Load datasets\n",
    "    human_decision = pd.read_csv(df1)\n",
    "    LLM_decision = pd.read_csv(df2)\n",
    "\n",
    "    # Sort datasets by title column\n",
    "    human_decision_sorted = human_decision.sort_values(by='title')  \n",
    "    LLM_decision_sorted = LLM_decision.sort_values(by='title')  \n",
    "\n",
    "    # Add model decision column using the provided model name\n",
    "    human_decision_sorted[modelname] = LLM_decision_sorted['decision']\n",
    "\n",
    "    # Print preview of updated dataset\n",
    "    #print(human_decision_sorted.head())\n",
    "\n",
    "    # Save the updated dataset to the specified output file\n",
    "    human_decision_sorted.to_csv(outputfile, index=False)\n",
    "\n",
    "    return human_decision_sorted.head()  # Return the updated DataFrame\n",
    "\n",
    "\n",
    "# Load the dataset\n",
    "#df = pd.read_csv('../LLM_promptengineering/Results/MR-articles_humanvsLLM.csv')\n",
    "\n",
    "\n",
    "# # A function to compute the confusion matrix capturing TP,TN, FP and FN\n",
    "# def plot_confusion_matrix(human_labels, model_labels, model_name):\n",
    "#     # Compute confusion matrix\n",
    "#     cm = confusion_matrix(human_labels, model_labels, labels=[\"Included\", \"Excluded\"])\n",
    "    \n",
    "#     # Plotting confusion matrix heatmap\n",
    "#     plt.figure(figsize=(6, 5))\n",
    "#     sns.heatmap(cm, annot=True, fmt='d', cmap='Blues', xticklabels=[\"Included\", \"Excluded\"], yticklabels=[\"Included\", \"Excluded\"])\n",
    "#     plt.title(f\"Confusion Matrix for {model_name}\")\n",
    "#     plt.xlabel('Predicted')\n",
    "#     plt.ylabel('Actual')\n",
    "#     plt.show()\n",
    "\n",
    "\n",
    "# Compare each model with Human labels and plot the confusion matrix\n",
    "# for model in df.columns[3:]:  # Skip the first three columns (title, abstract and human decision)\n",
    "#     plot_confusion_matrix(df['Human'], df[model], model)\n",
    "\n",
    "# import pandas as pd\n",
    "# import matplotlib.pyplot as plt\n",
    "# import seaborn as sns\n",
    "# from sklearn.metrics import confusion_matrix, accuracy_score, precision_score, recall_score, f1_score\n",
    "# # df =pd.read_csv('./human_LLM_zero_shot.csv')\n",
    "# Function to compute and plot the confusion matrix along with metrics\n",
    "def plot_confusion_matrix(human_labels, model_labels, model_name):\n",
    "    # Compute confusion matrix\n",
    "    cm = confusion_matrix(human_labels, model_labels, labels=[\"Included\", \"Excluded\"])\n",
    "    \n",
    "    # Extract TP, TN, FP, FN\n",
    "    tn, fp, fn, tp = cm.ravel()\n",
    "    \n",
    "    # Calculate metrics\n",
    "    accuracy = (tp + tn) / (tp + tn + fp + fn)\n",
    "    precision = tp / (tp + fp) if (tp + fp) > 0 else 0\n",
    "    recall = tp / (tp + fn) if (tp + fn) > 0 else 0  # Also known as sensitivity\n",
    "    specificity = tn / (tn + fp) if (tn + fp) > 0 else 0\n",
    "    f1 = f1_score(human_labels, model_labels, pos_label=\"Included\")\n",
    "\n",
    "    # Plot confusion matrix heatmap\n",
    "    plt.figure(figsize=(6, 5))\n",
    "    sns.heatmap(cm, annot=True, fmt='d', cmap='Blues', xticklabels=[\"Included\", \"Excluded\"], yticklabels=[\"Included\", \"Excluded\"])\n",
    "    plt.title(f\"Confusion Matrix for {model_name}\")\n",
    "    plt.xlabel('Predicted')\n",
    "    plt.ylabel('Actual')\n",
    "    plt.show()\n",
    "\n",
    "    # Print metrics\n",
    "    print(f\"Metrics for {model_name}:\")\n",
    "    print(f\"Accuracy: {accuracy:.2f}\")\n",
    "    print(f\"Precision: {precision:.2f}\")\n",
    "    print(f\"Recall (Sensitivity): {recall:.2f}\")\n",
    "    print(f\"Specificity: {specificity:.2f}\")\n",
    "    print(f\"F1 Score: {f1:.2f}\")\n",
    "    print(\"-\" * 50)\n",
    "\n",
    "# Compare each model with Human labels and plot the confusion matrix\n",
    "for model in df.columns[3:]:  # Skip the first three columns (title, abstract, and human decision)\n",
    "    plot_confusion_matrix(df['Human'], df[model], model)"
   ]
  },
  {
   "cell_type": "code",
   "execution_count": null,
   "id": "5f80ffd7-1578-47ad-919f-02b3f694049f",
   "metadata": {},
   "outputs": [],
   "source": []
  },
  {
   "cell_type": "markdown",
   "id": "20932528-288a-46d4-9643-73192716a08a",
   "metadata": {},
   "source": [
    "# Initial set of instructions using inclusion and exclusion criteria\n",
    "\n",
    "![df_metadata_info](../Images/df_metadata_info.png)\n"
   ]
  },
  {
   "cell_type": "markdown",
   "id": "af10b850-7268-47ec-bf4e-921134355ee0",
   "metadata": {},
   "source": [
    "# Data pre-processing\n"
   ]
  },
  {
   "cell_type": "code",
   "execution_count": 16,
   "id": "a4bdc839-6c81-4a25-a272-f95afb4ea24a",
   "metadata": {},
   "outputs": [
    {
     "data": {
      "text/html": [
       "<div>\n",
       "<style scoped>\n",
       "    .dataframe tbody tr th:only-of-type {\n",
       "        vertical-align: middle;\n",
       "    }\n",
       "\n",
       "    .dataframe tbody tr th {\n",
       "        vertical-align: top;\n",
       "    }\n",
       "\n",
       "    .dataframe thead th {\n",
       "        text-align: right;\n",
       "    }\n",
       "</style>\n",
       "<table border=\"1\" class=\"dataframe\">\n",
       "  <thead>\n",
       "    <tr style=\"text-align: right;\">\n",
       "      <th></th>\n",
       "      <th>title</th>\n",
       "      <th>abstract</th>\n",
       "      <th>Human</th>\n",
       "      <th>zero_shot</th>\n",
       "    </tr>\n",
       "  </thead>\n",
       "  <tbody>\n",
       "    <tr>\n",
       "      <th>4</th>\n",
       "      <td>A Novel Method for Mendelian Randomization Ana...</td>\n",
       "      <td>Mendelian randomization makes use of genetic v...</td>\n",
       "      <td>Excluded</td>\n",
       "      <td>Excluded</td>\n",
       "    </tr>\n",
       "    <tr>\n",
       "      <th>7</th>\n",
       "      <td>A UGT1A1 variant is associated with serum tota...</td>\n",
       "      <td>Serum bilirubin is associated with several cli...</td>\n",
       "      <td>Excluded</td>\n",
       "      <td>Excluded</td>\n",
       "    </tr>\n",
       "    <tr>\n",
       "      <th>0</th>\n",
       "      <td>A data-driven approach for studying the role o...</td>\n",
       "      <td>BACKGROUND: Mendelian randomisation allows for...</td>\n",
       "      <td>Included</td>\n",
       "      <td>Excluded</td>\n",
       "    </tr>\n",
       "    <tr>\n",
       "      <th>1</th>\n",
       "      <td>A genetic risk score for fasting plasma glucos...</td>\n",
       "      <td>BACKGROUND: Arterial stiffness is known to be ...</td>\n",
       "      <td>Excluded</td>\n",
       "      <td>Included</td>\n",
       "    </tr>\n",
       "    <tr>\n",
       "      <th>2</th>\n",
       "      <td>A multi-omics study of circulating phospholipi...</td>\n",
       "      <td>High-throughput techniques allow us to measure...</td>\n",
       "      <td>Excluded</td>\n",
       "      <td>Excluded</td>\n",
       "    </tr>\n",
       "  </tbody>\n",
       "</table>\n",
       "</div>"
      ],
      "text/plain": [
       "                                               title  \\\n",
       "4  A Novel Method for Mendelian Randomization Ana...   \n",
       "7  A UGT1A1 variant is associated with serum tota...   \n",
       "0  A data-driven approach for studying the role o...   \n",
       "1  A genetic risk score for fasting plasma glucos...   \n",
       "2  A multi-omics study of circulating phospholipi...   \n",
       "\n",
       "                                            abstract     Human zero_shot  \n",
       "4  Mendelian randomization makes use of genetic v...  Excluded  Excluded  \n",
       "7  Serum bilirubin is associated with several cli...  Excluded  Excluded  \n",
       "0  BACKGROUND: Mendelian randomisation allows for...  Included  Excluded  \n",
       "1  BACKGROUND: Arterial stiffness is known to be ...  Excluded  Included  \n",
       "2  High-throughput techniques allow us to measure...  Excluded  Excluded  "
      ]
     },
     "execution_count": 16,
     "metadata": {},
     "output_type": "execute_result"
    }
   ],
   "source": [
    "# Data preprocessing - specifically combining the human and LLM scores\n",
    "data_processing(df1=\"../LLM_promptengineering/Results/MR_articles_human_decision.csv\",df2=\"../LLM_promptengineering/Results/dataset_zero_shot.csv\",\n",
    "               modelname = 'zero_shot',outputfile='human_LLM_zero_shot.csv')\n",
    "\n"
   ]
  },
  {
   "cell_type": "markdown",
   "id": "b7d61cdd-4af5-4a05-9264-bdf0b5276c57",
   "metadata": {},
   "source": [
    "# Visualisation"
   ]
  },
  {
   "cell_type": "code",
   "execution_count": null,
   "id": "6adb3651-4c5f-4b6f-8958-602d97656093",
   "metadata": {},
   "outputs": [],
   "source": []
  },
  {
   "cell_type": "code",
   "execution_count": 18,
   "id": "9edabaa5-de72-45ed-9e2b-7dadec7aa272",
   "metadata": {},
   "outputs": [
    {
     "name": "stdout",
     "output_type": "stream",
     "text": [
      "Index(['title', 'abstract', 'Human', 'zero_shot'], dtype='object')\n"
     ]
    },
    {
     "data": {
      "image/png": "[encoded data removed]",
      "text/plain": [
       "<Figure size 600x500 with 2 Axes>"
      ]
     },
     "metadata": {},
     "output_type": "display_data"
    },
    {
     "name": "stdout",
     "output_type": "stream",
     "text": [
      "Metrics for zero_shot:\n",
      "Accuracy: 0.49\n",
      "Precision: 0.90\n",
      "Recall (Sensitivity): 0.47\n",
      "Specificity: 0.67\n",
      "F1 Score: 0.26\n",
      "--------------------------------------------------\n"
     ]
    }
   ],
   "source": [
    "# Visualise the human vs LLM, zero shot with initial set of criteria\n",
    "import pandas as pd\n",
    "from sklearn.metrics import confusion_matrix\n",
    "import seaborn as sns\n",
    "import matplotlib.pyplot as plt\n",
    "\n",
    "\n",
    "# Load the dataset\n",
    "df = pd.read_csv('./human_LLM_zero_shot.csv')\n",
    "#print(df.head())\n",
    "print(df.columns)\n",
    "\n",
    "# Compare each model with Human labels and plot the confusion matrix\n",
    "for model in df.columns[3:]:  # Skip the first three columns (title, abstract and human decision)\n",
    "    plot_confusion_matrix(df['Human'], df[model], model)"
   ]
  },
  {
   "cell_type": "markdown",
   "id": "a3dd51a3-fc9a-4771-b038-bca2b00f829e",
   "metadata": {},
   "source": [
    "# Explanation of the plot above\n",
    "\n",
    "The use of a zero shot GPT recovers the included papers with high accuracy but misclassifies nine articles.\n",
    "\n",
    "There are a significant number of false positives, 93 papers the model categorised as included while human decision is excluded.\n",
    "\n",
    "**TP** - 18         \n",
    "**FN** - 9  - this number should be 0     \n",
    "**TN** - 81     \n",
    "**FP** - 93      "
   ]
  },
  {
   "cell_type": "markdown",
   "id": "c1a549c3-b51c-48ff-ad4a-692801f739d6",
   "metadata": {},
   "source": [
    "# Use all inclusion and 4 of exclusion criteria\n",
    "![df_metadata_info_v1](../Images/df_metadata_info_v1.png)"
   ]
  },
  {
   "cell_type": "code",
   "execution_count": null,
   "id": "201e2a5a-e8e3-41f1-a1e5-8aa0372aabce",
   "metadata": {},
   "outputs": [],
   "source": []
  },
  {
   "cell_type": "markdown",
   "id": "3463173f-a8e9-40b8-830e-3f36d93174ec",
   "metadata": {},
   "source": [
    "# Data preprocessing"
   ]
  },
  {
   "cell_type": "code",
   "execution_count": 19,
   "id": "c936a54a-d23b-4718-aee1-d9c8fda6a82a",
   "metadata": {},
   "outputs": [
    {
     "data": {
      "text/html": [
       "<div>\n",
       "<style scoped>\n",
       "    .dataframe tbody tr th:only-of-type {\n",
       "        vertical-align: middle;\n",
       "    }\n",
       "\n",
       "    .dataframe tbody tr th {\n",
       "        vertical-align: top;\n",
       "    }\n",
       "\n",
       "    .dataframe thead th {\n",
       "        text-align: right;\n",
       "    }\n",
       "</style>\n",
       "<table border=\"1\" class=\"dataframe\">\n",
       "  <thead>\n",
       "    <tr style=\"text-align: right;\">\n",
       "      <th></th>\n",
       "      <th>title</th>\n",
       "      <th>abstract</th>\n",
       "      <th>Human</th>\n",
       "      <th>zero_shot_metadata_v1</th>\n",
       "    </tr>\n",
       "  </thead>\n",
       "  <tbody>\n",
       "    <tr>\n",
       "      <th>4</th>\n",
       "      <td>A Novel Method for Mendelian Randomization Ana...</td>\n",
       "      <td>Mendelian randomization makes use of genetic v...</td>\n",
       "      <td>Excluded</td>\n",
       "      <td>Excluded</td>\n",
       "    </tr>\n",
       "    <tr>\n",
       "      <th>7</th>\n",
       "      <td>A UGT1A1 variant is associated with serum tota...</td>\n",
       "      <td>Serum bilirubin is associated with several cli...</td>\n",
       "      <td>Excluded</td>\n",
       "      <td>Excluded</td>\n",
       "    </tr>\n",
       "    <tr>\n",
       "      <th>0</th>\n",
       "      <td>A data-driven approach for studying the role o...</td>\n",
       "      <td>BACKGROUND: Mendelian randomisation allows for...</td>\n",
       "      <td>Included</td>\n",
       "      <td>Excluded</td>\n",
       "    </tr>\n",
       "    <tr>\n",
       "      <th>1</th>\n",
       "      <td>A genetic risk score for fasting plasma glucos...</td>\n",
       "      <td>BACKGROUND: Arterial stiffness is known to be ...</td>\n",
       "      <td>Excluded</td>\n",
       "      <td>Included</td>\n",
       "    </tr>\n",
       "    <tr>\n",
       "      <th>2</th>\n",
       "      <td>A multi-omics study of circulating phospholipi...</td>\n",
       "      <td>High-throughput techniques allow us to measure...</td>\n",
       "      <td>Excluded</td>\n",
       "      <td>Excluded</td>\n",
       "    </tr>\n",
       "  </tbody>\n",
       "</table>\n",
       "</div>"
      ],
      "text/plain": [
       "                                               title  \\\n",
       "4  A Novel Method for Mendelian Randomization Ana...   \n",
       "7  A UGT1A1 variant is associated with serum tota...   \n",
       "0  A data-driven approach for studying the role o...   \n",
       "1  A genetic risk score for fasting plasma glucos...   \n",
       "2  A multi-omics study of circulating phospholipi...   \n",
       "\n",
       "                                            abstract     Human  \\\n",
       "4  Mendelian randomization makes use of genetic v...  Excluded   \n",
       "7  Serum bilirubin is associated with several cli...  Excluded   \n",
       "0  BACKGROUND: Mendelian randomisation allows for...  Included   \n",
       "1  BACKGROUND: Arterial stiffness is known to be ...  Excluded   \n",
       "2  High-throughput techniques allow us to measure...  Excluded   \n",
       "\n",
       "  zero_shot_metadata_v1  \n",
       "4              Excluded  \n",
       "7              Excluded  \n",
       "0              Excluded  \n",
       "1              Included  \n",
       "2              Excluded  "
      ]
     },
     "execution_count": 19,
     "metadata": {},
     "output_type": "execute_result"
    }
   ],
   "source": [
    "# Data preprocessing - specifically combining the human and LLM scores\n",
    "data_processing(df1=\"../LLM_promptengineering/Results/MR_articles_human_decision.csv\",df2=\"../LLM_promptengineering/Results/dataset_zero_shot_V1.csv\",\n",
    "               modelname = 'zero_shot_metadata_v1',outputfile='human_LLM_zero_shot_V1.csv')\n",
    "\n"
   ]
  },
  {
   "cell_type": "markdown",
   "id": "19255ac3-623c-4828-87b0-69f9c4a22ce9",
   "metadata": {},
   "source": [
    "# Visualisation\n"
   ]
  },
  {
   "cell_type": "code",
   "execution_count": 20,
   "id": "16047804-858a-475e-b564-5d624e040764",
   "metadata": {},
   "outputs": [
    {
     "name": "stdout",
     "output_type": "stream",
     "text": [
      "                                               title  \\\n",
      "0  A Novel Method for Mendelian Randomization Ana...   \n",
      "1  A UGT1A1 variant is associated with serum tota...   \n",
      "2  A data-driven approach for studying the role o...   \n",
      "3  A genetic risk score for fasting plasma glucos...   \n",
      "4  A multi-omics study of circulating phospholipi...   \n",
      "\n",
      "                                            abstract     Human  \\\n",
      "0  Mendelian randomization makes use of genetic v...  Excluded   \n",
      "1  Serum bilirubin is associated with several cli...  Excluded   \n",
      "2  BACKGROUND: Mendelian randomisation allows for...  Included   \n",
      "3  BACKGROUND: Arterial stiffness is known to be ...  Excluded   \n",
      "4  High-throughput techniques allow us to measure...  Excluded   \n",
      "\n",
      "  zero_shot_metadata_v1  \n",
      "0              Excluded  \n",
      "1              Excluded  \n",
      "2              Excluded  \n",
      "3              Included  \n",
      "4              Excluded  \n",
      "Index(['title', 'abstract', 'Human', 'zero_shot_metadata_v1'], dtype='object')\n"
     ]
    },
    {
     "data": {
      "image/png": "[encoded data removed]",
      "text/plain": [
       "<Figure size 600x500 with 2 Axes>"
      ]
     },
     "metadata": {},
     "output_type": "display_data"
    },
    {
     "name": "stdout",
     "output_type": "stream",
     "text": [
      "Metrics for zero_shot_metadata_v1:\n",
      "Accuracy: 0.45\n",
      "Precision: 0.89\n",
      "Recall (Sensitivity): 0.41\n",
      "Specificity: 0.67\n",
      "F1 Score: 0.24\n",
      "--------------------------------------------------\n"
     ]
    }
   ],
   "source": [
    "import pandas as pd\n",
    "from sklearn.metrics import confusion_matrix\n",
    "import seaborn as sns\n",
    "import matplotlib.pyplot as plt\n",
    "\n",
    "# Load the dataset\n",
    "df = pd.read_csv('./human_LLM_zero_shot_V1.csv')\n",
    "print(df.head())\n",
    "print(df.columns)\n",
    "\n",
    "# Compare each model with Human labels and plot the confusion matrix\n",
    "for model in df.columns[3:]:  # Skip the first three columns (title, abstract and human decision)\n",
    "    plot_confusion_matrix(df['Human'], df[model], model)"
   ]
  },
  {
   "cell_type": "markdown",
   "id": "a743c9a0-5e6a-4497-a460-5d88190c72d6",
   "metadata": {},
   "source": [
    " #  Interpretation\n",
    "**TP** - 18         \n",
    "**FN** - 9  - this number should be 0     \n",
    "**TN** - 82    \n",
    "**FP** - 102\n",
    "The **TP** and **FN** has remained fairly the same as the initial instructions but the false positives is higher."
   ]
  },
  {
   "cell_type": "markdown",
   "id": "0d4eea4b-823b-4d8d-89d8-5637a2496eb6",
   "metadata": {},
   "source": [
    "# Use modified inclusion and exclusion criteria.\n",
    "![df_metadata_info_v2](../Images/df_metadata_info_v2.png)"
   ]
  },
  {
   "cell_type": "markdown",
   "id": "10b63ba3-d848-4409-9a65-3452a8055119",
   "metadata": {},
   "source": [
    "# Data preprocessing"
   ]
  },
  {
   "cell_type": "code",
   "execution_count": 21,
   "id": "4ea39928-77f8-419f-9bad-3ffbc551a8f9",
   "metadata": {},
   "outputs": [
    {
     "data": {
      "text/html": [
       "<div>\n",
       "<style scoped>\n",
       "    .dataframe tbody tr th:only-of-type {\n",
       "        vertical-align: middle;\n",
       "    }\n",
       "\n",
       "    .dataframe tbody tr th {\n",
       "        vertical-align: top;\n",
       "    }\n",
       "\n",
       "    .dataframe thead th {\n",
       "        text-align: right;\n",
       "    }\n",
       "</style>\n",
       "<table border=\"1\" class=\"dataframe\">\n",
       "  <thead>\n",
       "    <tr style=\"text-align: right;\">\n",
       "      <th></th>\n",
       "      <th>title</th>\n",
       "      <th>abstract</th>\n",
       "      <th>Human</th>\n",
       "      <th>zero_shot_metadata_v2</th>\n",
       "    </tr>\n",
       "  </thead>\n",
       "  <tbody>\n",
       "    <tr>\n",
       "      <th>4</th>\n",
       "      <td>A Novel Method for Mendelian Randomization Ana...</td>\n",
       "      <td>Mendelian randomization makes use of genetic v...</td>\n",
       "      <td>Excluded</td>\n",
       "      <td>Excluded</td>\n",
       "    </tr>\n",
       "    <tr>\n",
       "      <th>7</th>\n",
       "      <td>A UGT1A1 variant is associated with serum tota...</td>\n",
       "      <td>Serum bilirubin is associated with several cli...</td>\n",
       "      <td>Excluded</td>\n",
       "      <td>Excluded</td>\n",
       "    </tr>\n",
       "    <tr>\n",
       "      <th>0</th>\n",
       "      <td>A data-driven approach for studying the role o...</td>\n",
       "      <td>BACKGROUND: Mendelian randomisation allows for...</td>\n",
       "      <td>Included</td>\n",
       "      <td>Excluded</td>\n",
       "    </tr>\n",
       "    <tr>\n",
       "      <th>1</th>\n",
       "      <td>A genetic risk score for fasting plasma glucos...</td>\n",
       "      <td>BACKGROUND: Arterial stiffness is known to be ...</td>\n",
       "      <td>Excluded</td>\n",
       "      <td>Included</td>\n",
       "    </tr>\n",
       "    <tr>\n",
       "      <th>2</th>\n",
       "      <td>A multi-omics study of circulating phospholipi...</td>\n",
       "      <td>High-throughput techniques allow us to measure...</td>\n",
       "      <td>Excluded</td>\n",
       "      <td>Excluded</td>\n",
       "    </tr>\n",
       "  </tbody>\n",
       "</table>\n",
       "</div>"
      ],
      "text/plain": [
       "                                               title  \\\n",
       "4  A Novel Method for Mendelian Randomization Ana...   \n",
       "7  A UGT1A1 variant is associated with serum tota...   \n",
       "0  A data-driven approach for studying the role o...   \n",
       "1  A genetic risk score for fasting plasma glucos...   \n",
       "2  A multi-omics study of circulating phospholipi...   \n",
       "\n",
       "                                            abstract     Human  \\\n",
       "4  Mendelian randomization makes use of genetic v...  Excluded   \n",
       "7  Serum bilirubin is associated with several cli...  Excluded   \n",
       "0  BACKGROUND: Mendelian randomisation allows for...  Included   \n",
       "1  BACKGROUND: Arterial stiffness is known to be ...  Excluded   \n",
       "2  High-throughput techniques allow us to measure...  Excluded   \n",
       "\n",
       "  zero_shot_metadata_v2  \n",
       "4              Excluded  \n",
       "7              Excluded  \n",
       "0              Excluded  \n",
       "1              Included  \n",
       "2              Excluded  "
      ]
     },
     "execution_count": 21,
     "metadata": {},
     "output_type": "execute_result"
    }
   ],
   "source": [
    "# Data preprocessing - specifically combining the human and LLM scores\n",
    "data_processing(df1=\"../LLM_promptengineering/Results/MR_articles_human_decision.csv\",df2=\"../LLM_promptengineering/Results/dataset_zero_shot_V2.csv\",\n",
    "               modelname = 'zero_shot_metadata_v2',outputfile='human_LLM_zero_shot_V2.csv')\n",
    "\n"
   ]
  },
  {
   "cell_type": "markdown",
   "id": "e8c38450-e3b1-41ed-869d-3bbd2774591c",
   "metadata": {},
   "source": [
    "# Visualisation"
   ]
  },
  {
   "cell_type": "code",
   "execution_count": 22,
   "id": "d4878023-b93e-40ab-9cbb-bf7d439f2f2c",
   "metadata": {},
   "outputs": [
    {
     "name": "stdout",
     "output_type": "stream",
     "text": [
      "                                               title  \\\n",
      "0  A Novel Method for Mendelian Randomization Ana...   \n",
      "1  A UGT1A1 variant is associated with serum tota...   \n",
      "2  A data-driven approach for studying the role o...   \n",
      "3  A genetic risk score for fasting plasma glucos...   \n",
      "4  A multi-omics study of circulating phospholipi...   \n",
      "\n",
      "                                            abstract     Human  \\\n",
      "0  Mendelian randomization makes use of genetic v...  Excluded   \n",
      "1  Serum bilirubin is associated with several cli...  Excluded   \n",
      "2  BACKGROUND: Mendelian randomisation allows for...  Included   \n",
      "3  BACKGROUND: Arterial stiffness is known to be ...  Excluded   \n",
      "4  High-throughput techniques allow us to measure...  Excluded   \n",
      "\n",
      "  zero_shot_metadata_v2  \n",
      "0              Excluded  \n",
      "1              Excluded  \n",
      "2              Excluded  \n",
      "3              Included  \n",
      "4              Excluded  \n",
      "Index(['title', 'abstract', 'Human', 'zero_shot_metadata_v2'], dtype='object')\n"
     ]
    },
    {
     "data": {
      "image/png": "[encoded data removed]",
      "text/plain": [
       "<Figure size 600x500 with 2 Axes>"
      ]
     },
     "metadata": {},
     "output_type": "display_data"
    },
    {
     "name": "stdout",
     "output_type": "stream",
     "text": [
      "Metrics for zero_shot_metadata_v2:\n",
      "Accuracy: 0.68\n",
      "Precision: 0.91\n",
      "Recall (Sensitivity): 0.70\n",
      "Specificity: 0.56\n",
      "F1 Score: 0.32\n",
      "--------------------------------------------------\n"
     ]
    }
   ],
   "source": [
    "import pandas as pd\n",
    "from sklearn.metrics import confusion_matrix\n",
    "import seaborn as sns\n",
    "import matplotlib.pyplot as plt\n",
    "\n",
    "# Load the dataset\n",
    "df = pd.read_csv('./human_LLM_zero_shot_V2.csv')\n",
    "print(df.head())\n",
    "print(df.columns)\n",
    "\n",
    "# Compare each model with Human labels and plot the confusion matrix\n",
    "for model in df.columns[3:]:  # Skip the first three columns (title, abstract and human decision)\n",
    "    plot_confusion_matrix(df['Human'], df[model], model)\n"
   ]
  },
  {
   "cell_type": "markdown",
   "id": "63a7bea2-6ab6-4069-aeb1-192400e585a7",
   "metadata": {},
   "source": [
    "# Explanation of the heatmap\n",
    "We have modified both the exclusion and inclusion criteria.\n",
    "\n",
    "The number of TP has decreased by two. The TN has increased to 113, however this is not one of the metrics we are keen to evaluate.\n",
    "\n",
    "**TP** - 15         \n",
    "**FN** - 12 - this number should be 0     \n",
    "**TN** - 121     \n",
    "**FP** - 61     \n",
    "\n"
   ]
  },
  {
   "cell_type": "markdown",
   "id": "cdc0189c-0ea7-4592-9075-1e6b2eaf4c65",
   "metadata": {},
   "source": [
    "# Use modified inclusion and exclusion criteria\n",
    "![df_metadata_info_v3](../Images/df_metadata_info_v3.png)"
   ]
  },
  {
   "cell_type": "markdown",
   "id": "9728f163-bb77-4253-ba89-687b1781fa49",
   "metadata": {},
   "source": [
    "# Data visualisation"
   ]
  },
  {
   "cell_type": "code",
   "execution_count": 23,
   "id": "96dece36-e77d-4f3a-9145-09e6ec54086a",
   "metadata": {},
   "outputs": [
    {
     "data": {
      "text/html": [
       "<div>\n",
       "<style scoped>\n",
       "    .dataframe tbody tr th:only-of-type {\n",
       "        vertical-align: middle;\n",
       "    }\n",
       "\n",
       "    .dataframe tbody tr th {\n",
       "        vertical-align: top;\n",
       "    }\n",
       "\n",
       "    .dataframe thead th {\n",
       "        text-align: right;\n",
       "    }\n",
       "</style>\n",
       "<table border=\"1\" class=\"dataframe\">\n",
       "  <thead>\n",
       "    <tr style=\"text-align: right;\">\n",
       "      <th></th>\n",
       "      <th>title</th>\n",
       "      <th>abstract</th>\n",
       "      <th>Human</th>\n",
       "      <th>zero_shot_metadata_v3</th>\n",
       "    </tr>\n",
       "  </thead>\n",
       "  <tbody>\n",
       "    <tr>\n",
       "      <th>4</th>\n",
       "      <td>A Novel Method for Mendelian Randomization Ana...</td>\n",
       "      <td>Mendelian randomization makes use of genetic v...</td>\n",
       "      <td>Excluded</td>\n",
       "      <td>Excluded</td>\n",
       "    </tr>\n",
       "    <tr>\n",
       "      <th>7</th>\n",
       "      <td>A UGT1A1 variant is associated with serum tota...</td>\n",
       "      <td>Serum bilirubin is associated with several cli...</td>\n",
       "      <td>Excluded</td>\n",
       "      <td>Excluded</td>\n",
       "    </tr>\n",
       "    <tr>\n",
       "      <th>0</th>\n",
       "      <td>A data-driven approach for studying the role o...</td>\n",
       "      <td>BACKGROUND: Mendelian randomisation allows for...</td>\n",
       "      <td>Included</td>\n",
       "      <td>Excluded</td>\n",
       "    </tr>\n",
       "    <tr>\n",
       "      <th>1</th>\n",
       "      <td>A genetic risk score for fasting plasma glucos...</td>\n",
       "      <td>BACKGROUND: Arterial stiffness is known to be ...</td>\n",
       "      <td>Excluded</td>\n",
       "      <td>Included</td>\n",
       "    </tr>\n",
       "    <tr>\n",
       "      <th>2</th>\n",
       "      <td>A multi-omics study of circulating phospholipi...</td>\n",
       "      <td>High-throughput techniques allow us to measure...</td>\n",
       "      <td>Excluded</td>\n",
       "      <td>Excluded</td>\n",
       "    </tr>\n",
       "  </tbody>\n",
       "</table>\n",
       "</div>"
      ],
      "text/plain": [
       "                                               title  \\\n",
       "4  A Novel Method for Mendelian Randomization Ana...   \n",
       "7  A UGT1A1 variant is associated with serum tota...   \n",
       "0  A data-driven approach for studying the role o...   \n",
       "1  A genetic risk score for fasting plasma glucos...   \n",
       "2  A multi-omics study of circulating phospholipi...   \n",
       "\n",
       "                                            abstract     Human  \\\n",
       "4  Mendelian randomization makes use of genetic v...  Excluded   \n",
       "7  Serum bilirubin is associated with several cli...  Excluded   \n",
       "0  BACKGROUND: Mendelian randomisation allows for...  Included   \n",
       "1  BACKGROUND: Arterial stiffness is known to be ...  Excluded   \n",
       "2  High-throughput techniques allow us to measure...  Excluded   \n",
       "\n",
       "  zero_shot_metadata_v3  \n",
       "4              Excluded  \n",
       "7              Excluded  \n",
       "0              Excluded  \n",
       "1              Included  \n",
       "2              Excluded  "
      ]
     },
     "execution_count": 23,
     "metadata": {},
     "output_type": "execute_result"
    }
   ],
   "source": [
    "# Data preprocessing - specifically combining the human and LLM scores\n",
    "data_processing(df1=\"../LLM_promptengineering/Results/MR_articles_human_decision.csv\",df2=\"../LLM_promptengineering/Results/dataset_zero_shot_V3.csv\",\n",
    "               modelname = 'zero_shot_metadata_v3',outputfile='human_LLM_zero_shot_V3.csv')\n",
    "\n"
   ]
  },
  {
   "cell_type": "markdown",
   "id": "f2e18b27-76b6-4bdd-bc82-d7e7c85405ff",
   "metadata": {},
   "source": [
    "# Visualisation"
   ]
  },
  {
   "cell_type": "code",
   "execution_count": 24,
   "id": "2bca5792-8dad-4779-a23f-5fff1b230dc6",
   "metadata": {},
   "outputs": [
    {
     "name": "stdout",
     "output_type": "stream",
     "text": [
      "Index(['title', 'abstract', 'Human', 'zero_shot_metadata_v3'], dtype='object')\n"
     ]
    },
    {
     "data": {
      "image/png": "[encoded data removed]",
      "text/plain": [
       "<Figure size 600x500 with 2 Axes>"
      ]
     },
     "metadata": {},
     "output_type": "display_data"
    },
    {
     "name": "stdout",
     "output_type": "stream",
     "text": [
      "Metrics for zero_shot_metadata_v3:\n",
      "Accuracy: 0.67\n",
      "Precision: 0.89\n",
      "Recall (Sensitivity): 0.70\n",
      "Specificity: 0.44\n",
      "F1 Score: 0.26\n",
      "--------------------------------------------------\n"
     ]
    }
   ],
   "source": [
    "import pandas as pd\n",
    "from sklearn.metrics import confusion_matrix\n",
    "import seaborn as sns\n",
    "import matplotlib.pyplot as plt\n",
    "\n",
    "# Load the dataset\n",
    "df = pd.read_csv('./human_LLM_zero_shot_V3.csv')\n",
    "#print(df.head())\n",
    "print(df.columns)\n",
    "\n",
    "# Compare each model with Human labels and plot the confusion matrix\n",
    "for model in df.columns[3:]:  # Skip the first three columns (title, abstract and human decision)\n",
    "    plot_confusion_matrix(df['Human'], df[model], model)"
   ]
  },
  {
   "cell_type": "markdown",
   "id": "67607469-cda6-4617-9820-0f39e48b918a",
   "metadata": {},
   "source": [
    "# Interpretation\n",
    "\n",
    "V3 vs V2 are relatively the same with the models struggling to identify correctly the included articles.\n",
    "\n",
    "They are not better than V1."
   ]
  },
  {
   "cell_type": "markdown",
   "id": "8d61bdd1-a2fb-4971-9b84-77a70f2b0195",
   "metadata": {},
   "source": [
    "# Few shots\n",
    "\n",
    "The prompt includes an example of include and exclude, decision and the reason for exclusion.\n",
    "\n",
    "We are using df_metadata_info_v2.csv, which seems to have performed better than other models.\n",
    "\n",
    "![Few shots_df_metadata_info_V2](../Images/Few_shots_df_metadata_info_v2.png)\n",
    "\n",
    "## Data preprocessing"
   ]
  },
  {
   "cell_type": "code",
   "execution_count": 25,
   "id": "af91176a-73e9-4262-8c9f-3b4d9ec1c94c",
   "metadata": {},
   "outputs": [
    {
     "data": {
      "text/html": [
       "<div>\n",
       "<style scoped>\n",
       "    .dataframe tbody tr th:only-of-type {\n",
       "        vertical-align: middle;\n",
       "    }\n",
       "\n",
       "    .dataframe tbody tr th {\n",
       "        vertical-align: top;\n",
       "    }\n",
       "\n",
       "    .dataframe thead th {\n",
       "        text-align: right;\n",
       "    }\n",
       "</style>\n",
       "<table border=\"1\" class=\"dataframe\">\n",
       "  <thead>\n",
       "    <tr style=\"text-align: right;\">\n",
       "      <th></th>\n",
       "      <th>title</th>\n",
       "      <th>abstract</th>\n",
       "      <th>Human</th>\n",
       "      <th>few_shots_metadata_v2</th>\n",
       "    </tr>\n",
       "  </thead>\n",
       "  <tbody>\n",
       "    <tr>\n",
       "      <th>4</th>\n",
       "      <td>A Novel Method for Mendelian Randomization Ana...</td>\n",
       "      <td>Mendelian randomization makes use of genetic v...</td>\n",
       "      <td>Excluded</td>\n",
       "      <td>Included</td>\n",
       "    </tr>\n",
       "    <tr>\n",
       "      <th>7</th>\n",
       "      <td>A UGT1A1 variant is associated with serum tota...</td>\n",
       "      <td>Serum bilirubin is associated with several cli...</td>\n",
       "      <td>Excluded</td>\n",
       "      <td>Included</td>\n",
       "    </tr>\n",
       "    <tr>\n",
       "      <th>0</th>\n",
       "      <td>A data-driven approach for studying the role o...</td>\n",
       "      <td>BACKGROUND: Mendelian randomisation allows for...</td>\n",
       "      <td>Included</td>\n",
       "      <td>Included</td>\n",
       "    </tr>\n",
       "    <tr>\n",
       "      <th>1</th>\n",
       "      <td>A genetic risk score for fasting plasma glucos...</td>\n",
       "      <td>BACKGROUND: Arterial stiffness is known to be ...</td>\n",
       "      <td>Excluded</td>\n",
       "      <td>Included</td>\n",
       "    </tr>\n",
       "    <tr>\n",
       "      <th>2</th>\n",
       "      <td>A multi-omics study of circulating phospholipi...</td>\n",
       "      <td>High-throughput techniques allow us to measure...</td>\n",
       "      <td>Excluded</td>\n",
       "      <td>Included</td>\n",
       "    </tr>\n",
       "  </tbody>\n",
       "</table>\n",
       "</div>"
      ],
      "text/plain": [
       "                                               title  \\\n",
       "4  A Novel Method for Mendelian Randomization Ana...   \n",
       "7  A UGT1A1 variant is associated with serum tota...   \n",
       "0  A data-driven approach for studying the role o...   \n",
       "1  A genetic risk score for fasting plasma glucos...   \n",
       "2  A multi-omics study of circulating phospholipi...   \n",
       "\n",
       "                                            abstract     Human  \\\n",
       "4  Mendelian randomization makes use of genetic v...  Excluded   \n",
       "7  Serum bilirubin is associated with several cli...  Excluded   \n",
       "0  BACKGROUND: Mendelian randomisation allows for...  Included   \n",
       "1  BACKGROUND: Arterial stiffness is known to be ...  Excluded   \n",
       "2  High-throughput techniques allow us to measure...  Excluded   \n",
       "\n",
       "  few_shots_metadata_v2  \n",
       "4              Included  \n",
       "7              Included  \n",
       "0              Included  \n",
       "1              Included  \n",
       "2              Included  "
      ]
     },
     "execution_count": 25,
     "metadata": {},
     "output_type": "execute_result"
    }
   ],
   "source": [
    "# Data preprocessing - specifically combining the human and LLM scores\n",
    "data_processing(df1=\"../LLM_promptengineering/Results/MR_articles_human_decision.csv\",df2=\"../LLM_promptengineering/Results/dataset_few_shots_V2.csv\",\n",
    "               modelname = 'few_shots_metadata_v2',outputfile='human_LLM_few_shots_V2.csv')\n"
   ]
  },
  {
   "cell_type": "markdown",
   "id": "920ed590-616e-4fe9-806e-e684226db5a1",
   "metadata": {},
   "source": [
    "# Visualisation"
   ]
  },
  {
   "cell_type": "code",
   "execution_count": 26,
   "id": "54bde457-0560-4956-8b56-fab12c6481df",
   "metadata": {},
   "outputs": [
    {
     "name": "stdout",
     "output_type": "stream",
     "text": [
      "Index(['title', 'abstract', 'Human', 'few_shots_metadata_v2'], dtype='object')\n"
     ]
    },
    {
     "data": {
      "image/png": "[encoded data removed]",
      "text/plain": [
       "<Figure size 600x500 with 2 Axes>"
      ]
     },
     "metadata": {},
     "output_type": "display_data"
    },
    {
     "name": "stdout",
     "output_type": "stream",
     "text": [
      "Metrics for few_shots_metadata_v2:\n",
      "Accuracy: 0.15\n",
      "Precision: 1.00\n",
      "Recall (Sensitivity): 0.02\n",
      "Specificity: 1.00\n",
      "F1 Score: 0.24\n",
      "--------------------------------------------------\n"
     ]
    }
   ],
   "source": [
    "import pandas as pd\n",
    "from sklearn.metrics import confusion_matrix\n",
    "import seaborn as sns\n",
    "import matplotlib.pyplot as plt\n",
    "\n",
    "# Load the dataset\n",
    "df = pd.read_csv('./human_LLM_few_shots_V2.csv')\n",
    "#print(df.head())\n",
    "print(df.columns)\n",
    "\n",
    "# Compare each model with Human labels and plot the confusion matrix\n",
    "for model in df.columns[3:]:  # Skip the first three columns (title, abstract and human decision)\n",
    "    plot_confusion_matrix(df['Human'], df[model], model)"
   ]
  },
  {
   "cell_type": "markdown",
   "id": "e8096f2e-4c39-4bec-8bfc-171b1e354c05",
   "metadata": {},
   "source": [
    "# Interpretation\n",
    "\n",
    "Few shots whch includes example title and abstracts, decision and reasons for inclusion and exclusion \n",
    "improves the models ability to recover the included category. \n",
    "\n",
    "**TP** - 27        \n",
    "**FN** - 0  - this number should be 0     \n",
    "**TN** - 4    \n",
    "**FP** - 170\n",
    "The **TP** articles have been correctly recovered by the LLM. **FN** is increased to 170 and only able to recover the true negatives n=4.\n"
   ]
  },
  {
   "cell_type": "code",
   "execution_count": null,
   "id": "ddf09454-04b0-494f-990a-5dcd0fa634c0",
   "metadata": {},
   "outputs": [],
   "source": []
  },
  {
   "cell_type": "code",
   "execution_count": null,
   "id": "715b726f-668b-4c92-9915-9c59a736410e",
   "metadata": {},
   "outputs": [],
   "source": []
  },
  {
   "cell_type": "code",
   "execution_count": null,
   "id": "1ea1210d-1d7d-42b6-b391-35cbe9d95778",
   "metadata": {},
   "outputs": [],
   "source": []
  },
  {
   "cell_type": "markdown",
   "id": "1aed1610-227a-4e09-ba95-0d9bae31dd57",
   "metadata": {},
   "source": [
    "# Non - Binary classification of include and exclude\n",
    "# Use a scoring criteria"
   ]
  },
  {
   "cell_type": "markdown",
   "id": "0ae4423a-469b-49d1-8e1e-67f380ee109f",
   "metadata": {},
   "source": [
    "# Come up with a reasoning model that provides information on reason for inclusion or exclusion"
   ]
  },
  {
   "cell_type": "markdown",
   "id": "dee52003-2285-4b3f-afeb-c52d9f1c41c4",
   "metadata": {},
   "source": [
    "# Use a model that extracts the inclusion criteria from the title and abstract"
   ]
  },
  {
   "cell_type": "markdown",
   "id": "05797498-c447-4cb0-8c20-cd23f9cf5dcb",
   "metadata": {},
   "source": [
    "# Use the extracted information by a separate model to determine whether to include or not"
   ]
  },
  {
   "cell_type": "markdown",
   "id": "2bf2e278-444d-4bf3-b646-9ea3751c0c7b",
   "metadata": {},
   "source": [
    "# Use ReAct strategy to ensure that the model performs better"
   ]
  },
  {
   "cell_type": "code",
   "execution_count": null,
   "id": "aa530167-0217-48f1-97d3-78dd43b21a65",
   "metadata": {},
   "outputs": [],
   "source": []
  },
  {
   "cell_type": "markdown",
   "id": "c32bb1c4-081c-4551-a2fc-6ac4267fd6b9",
   "metadata": {},
   "source": [
    "# Use three models, where one model is a judge"
   ]
  },
  {
   "cell_type": "code",
   "execution_count": null,
   "id": "78e17c1f-ab7b-44d0-b8f6-a263510d0df2",
   "metadata": {},
   "outputs": [],
   "source": []
  }
 ],
 "metadata": {
  "kernelspec": {
   "display_name": "Python 3 (ipykernel)",
   "language": "python",
   "name": "python3"
  },
  "language_info": {
   "codemirror_mode": {
    "name": "ipython",
    "version": 3
   },
   "file_extension": ".py",
   "mimetype": "text/x-python",
   "name": "python",
   "nbconvert_exporter": "python",
   "pygments_lexer": "ipython3",
   "version": "3.13.1"
  }
 },
 "nbformat": 4,
 "nbformat_minor": 5
}
