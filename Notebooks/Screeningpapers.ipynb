{
 "cells": [
  {
   "cell_type": "markdown",
   "id": "7dc727d7-a066-4a63-a63c-7295dbe153ec",
   "metadata": {
    "editable": true,
    "slideshow": {
     "slide_type": ""
    },
    "tags": []
   },
   "source": [
    "###### Table of contents\n",
    "1. [Automating screening of papers](#Automating-screening-of-papers)\n",
    "2. [Workflow using BERT embeddings implementations](#I.-Title-and-abstract-only-classification-using-BERT-implementations:)\n",
    "3. [BERT based text classification](#BERT-Embeddings-for-text-classification)\n",
    "4. [Titles only](#Titles-only)\n",
    "5. [Titles and abstract](#Titles-and-abstracts)\n",
    "6. [BioBERT based text classification](#BioBERT-Embeddings-for-text-classification)\n",
    "7. [Titles only](#Titles-only-BioBERT)\n",
    "5. [Titles and abstract](#Titles-and-abstracts-BioBERT)\n",
    "8. [Summary](#Summary)\n",
    "9. [BioBERT-dmis-lab](#BioBERT-dmis-lab/biobert-base-cased-v1.1)\n",
    "10. [Titles only](#Text-classification,-titles-only-using-BioBERT-dmis-lab)\n",
    "11. [Titles and abstract](#Text-classification-Title-and-abstract-using-BioBERT-dmis-lab)"
   ]
  },
  {
   "cell_type": "markdown",
   "id": "fa8e82a2-802f-425d-ba9f-cf86c9b3c0c1",
   "metadata": {},
   "source": [
    "# Automating screening of papers\n",
    "\n",
    "Try and test different approaches and evaluate which one of these is better.\n",
    "\n",
    "**I) Use text classification using embeddings**\n",
    "\n",
    "    a) Titles only\n",
    "    b) Titles and abstracts only\n",
    "    \n",
    "Use Linear or non-linear methods for dimension reduction.\n",
    "\n",
    "**II) Prompt engineering using Llama 🦙 (open source), ChatGPT (paid version) etc**\n",
    "\n",
    "    a) Eligibility criteria (inclusion and exclusion criteria).\n",
    "    b) Extract PICO and other necessary terms from the text (relevant features) and these can be used alongside the score to determine whether to include or not."
   ]
  },
  {
   "cell_type": "markdown",
   "id": "ab27e36c-431c-43e0-890f-8731af794f51",
   "metadata": {},
   "source": [
    "# I. Title and abstract only classification using BERT implementations:\n",
    "\n",
    "Getting started with [BERT](https://mccormickml.com/2020/06/22/domain-specific-bert-tutorial/)\n",
    "* **BERT regular**\n",
    "* **BioBERT**\n",
    "\n",
    "The workflow below details my strategy of classifying articles by title and title and abstract only using BERT implementations.\n",
    "\n",
    "![Autoscreeningstrategy](../Images/Screening_usingBERT.png)\n"
   ]
  },
  {
   "cell_type": "markdown",
   "id": "3bb4bbe4-9f01-466d-b865-684388d8a5c6",
   "metadata": {},
   "source": [
    "# Install and load libraries"
   ]
  },
  {
   "cell_type": "code",
   "execution_count": 1,
   "id": "97453376-98cc-40b5-9d7f-59c6ce9e1c06",
   "metadata": {},
   "outputs": [],
   "source": [
    "#Install libraries\n",
    "\n",
    "# !pip install scikit-learn\n",
    "# !pip install transformers\n",
    "# !pip install torch torchvision\n",
    "# !pip install matplotlib\n",
    "# !pip install pandas\n",
    "# !pip install numpy\n",
    "# !pip install altair\n",
    "# !pip install ipywidgets\n",
    "# !conda install pytorch torchvision -c pytorch - has worked"
   ]
  },
  {
   "cell_type": "code",
   "execution_count": 2,
   "id": "06e122c3-b74f-4541-b85c-66853e372522",
   "metadata": {},
   "outputs": [],
   "source": [
    "# Import libraries\n",
    "import pandas as pd\n",
    "import numpy as np\n",
    "import altair as alt\n",
    "from sklearn.decomposition import PCA\n",
    "from sklearn.metrics.pairwise import cosine_similarity\n",
    "from sklearn.cluster import KMeans\n",
    "\n",
    "from transformers import AutoTokenizer, AutoModel\n",
    "import torch\n",
    "import numpy as np\n",
    "# TOKENIZERS_PARALLELISM =True | False"
   ]
  },
  {
   "cell_type": "markdown",
   "id": "3c59820c-9ae8-48ff-aaa2-74ac8011ba59",
   "metadata": {},
   "source": [
    "# BERT Embeddings for text classification"
   ]
  },
  {
   "cell_type": "markdown",
   "id": "ae70566c-3581-45e9-a46b-65cf331d6b5c",
   "metadata": {},
   "source": [
    "## Titles only "
   ]
  },
  {
   "cell_type": "markdown",
   "id": "d4817c86-7f28-4b82-85cf-eb6209e78d76",
   "metadata": {},
   "source": [
    "### Calculate embeddings and calculate the centroids."
   ]
  },
  {
   "cell_type": "code",
   "execution_count": 3,
   "id": "274a9466-e59d-4eec-8c78-37c89eb87c87",
   "metadata": {},
   "outputs": [
    {
     "name": "stdout",
     "output_type": "stream",
     "text": [
      "The tokenizer in use is BertTokenizerFast(name_or_path='bert-base-uncased', vocab_size=30522, model_max_length=512, is_fast=True, padding_side='right', truncation_side='right', special_tokens={'unk_token': '[UNK]', 'sep_token': '[SEP]', 'pad_token': '[PAD]', 'cls_token': '[CLS]', 'mask_token': '[MASK]'}, clean_up_tokenization_spaces=False, added_tokens_decoder={\n",
      "\t0: AddedToken(\"[PAD]\", rstrip=False, lstrip=False, single_word=False, normalized=False, special=True),\n",
      "\t100: AddedToken(\"[UNK]\", rstrip=False, lstrip=False, single_word=False, normalized=False, special=True),\n",
      "\t101: AddedToken(\"[CLS]\", rstrip=False, lstrip=False, single_word=False, normalized=False, special=True),\n",
      "\t102: AddedToken(\"[SEP]\", rstrip=False, lstrip=False, single_word=False, normalized=False, special=True),\n",
      "\t103: AddedToken(\"[MASK]\", rstrip=False, lstrip=False, single_word=False, normalized=False, special=True),\n",
      "}\n",
      ")\n",
      "The model in use is BertModel(\n",
      "  (embeddings): BertEmbeddings(\n",
      "    (word_embeddings): Embedding(30522, 768, padding_idx=0)\n",
      "    (position_embeddings): Embedding(512, 768)\n",
      "    (token_type_embeddings): Embedding(2, 768)\n",
      "    (LayerNorm): LayerNorm((768,), eps=1e-12, elementwise_affine=True)\n",
      "    (dropout): Dropout(p=0.1, inplace=False)\n",
      "  )\n",
      "  (encoder): BertEncoder(\n",
      "    (layer): ModuleList(\n",
      "      (0-11): 12 x BertLayer(\n",
      "        (attention): BertAttention(\n",
      "          (self): BertSdpaSelfAttention(\n",
      "            (query): Linear(in_features=768, out_features=768, bias=True)\n",
      "            (key): Linear(in_features=768, out_features=768, bias=True)\n",
      "            (value): Linear(in_features=768, out_features=768, bias=True)\n",
      "            (dropout): Dropout(p=0.1, inplace=False)\n",
      "          )\n",
      "          (output): BertSelfOutput(\n",
      "            (dense): Linear(in_features=768, out_features=768, bias=True)\n",
      "            (LayerNorm): LayerNorm((768,), eps=1e-12, elementwise_affine=True)\n",
      "            (dropout): Dropout(p=0.1, inplace=False)\n",
      "          )\n",
      "        )\n",
      "        (intermediate): BertIntermediate(\n",
      "          (dense): Linear(in_features=768, out_features=3072, bias=True)\n",
      "          (intermediate_act_fn): GELUActivation()\n",
      "        )\n",
      "        (output): BertOutput(\n",
      "          (dense): Linear(in_features=3072, out_features=768, bias=True)\n",
      "          (LayerNorm): LayerNorm((768,), eps=1e-12, elementwise_affine=True)\n",
      "          (dropout): Dropout(p=0.1, inplace=False)\n",
      "        )\n",
      "      )\n",
      "    )\n",
      "  )\n",
      "  (pooler): BertPooler(\n",
      "    (dense): Linear(in_features=768, out_features=768, bias=True)\n",
      "    (activation): Tanh()\n",
      "  )\n",
      ")\n"
     ]
    }
   ],
   "source": [
    "# Using BERT a pre-trained model to generate embeddings\n",
    "# Load a pre-trained model tokenizer\n",
    "\n",
    "tokenizer = AutoTokenizer.from_pretrained('bert-base-uncased')\n",
    "model = AutoModel.from_pretrained('bert-base-uncased')\n",
    "\n",
    "# Print out the type of tokenizer and model in use\n",
    "print(f'The tokenizer in use is {tokenizer}')\n",
    "print(f'The model in use is {model}')\n",
    "# Func\n",
    "def  get_embedding(sentence):\n",
    "    inputs = tokenizer(sentence, return_tensors='pt',padding=True,truncation=True)\n",
    "    outputs = model(**inputs)\n",
    "    return outputs.last_hidden_state.mean(dim=1).detach().numpy()\n",
    "\n",
    "def calculate_centroid(embeddings):\n",
    "    return np.mean(embeddings,axis=0)\n",
    "\n"
   ]
  },
  {
   "cell_type": "code",
   "execution_count": 41,
   "id": "58a59796-1823-4b6d-a32c-9b9caeefb98e",
   "metadata": {},
   "outputs": [],
   "source": [
    "# Input\n",
    "# Pre-classified sentences\n",
    "accept_titles = ['The role of adiposity in cardiometabolic traits: a Mendelian randomization analysis','Age- and sex-specific causal effects of adiposity on cardiovascular risk factors','Causal Effect of Adiposity Measures on Blood Pressure Traits in 2 Urban Swedish Cohorts: A Mendelian Randomization Study'\n",
    "]\n",
    "reject_titles = ['The causal effects of health conditions and risk factors on social and socioeconomic outcomes: Mendelian randomization in UK Biobank','Association of serum HDL-cholesterol and apolipoprotein A1 levels with risk of severe SARS-CoV-2 infection','Effect of Systolic Blood Pressure on Left Ventricular Structure and Function: A Mendelian Randomization Study']\n",
    "# Getting embeddings\n",
    "accept_embeddings = [get_embedding(sent)for sent in accept_titles]\n",
    "\n",
    "reject_embeddings = [get_embedding(sent)for sent in reject_titles]\n",
    "# Calculate the average locations (centroids)\n",
    "accept_centroid = calculate_centroid(accept_embeddings)\n",
    "reject_centroid = calculate_centroid(reject_embeddings)\n"
   ]
  },
  {
   "cell_type": "markdown",
   "id": "3817f499-c589-4baa-a804-8482399d8aef",
   "metadata": {},
   "source": [
    "## Predict new title using BERT"
   ]
  },
  {
   "cell_type": "code",
   "execution_count": 42,
   "id": "16ff7687-1229-4860-acda-51b9820c6859",
   "metadata": {},
   "outputs": [
    {
     "name": "stdout",
     "output_type": "stream",
     "text": [
      "4.030571\n",
      "4.5406895\n",
      "Accept\n"
     ]
    }
   ],
   "source": [
    "# Classify a new title\n",
    "\n",
    "new_title = 'Association between alcohol and cardiovascular disease: Mendelian randomisation analysis based on individual participant data.'\n",
    "new_embedding = get_embedding(new_title)\n",
    "\n",
    "# Measure distance to the centroids\n",
    "\n",
    "distance_to_accept = np.linalg.norm(new_embedding - accept_centroid)\n",
    "distance_to_reject = np.linalg.norm(new_embedding - reject_centroid)\n",
    "print(distance_to_accept)\n",
    "print(distance_to_reject)\n",
    "# Classification\n",
    "if distance_to_accept < distance_to_reject:\n",
    "    classification = 'Accept'\n",
    "else:\n",
    "    classification = 'Reject'\n",
    "\n",
    "print(classification)"
   ]
  },
  {
   "cell_type": "markdown",
   "id": "d0fd3ddc-cef4-4e9a-aa6f-f235d61b37bd",
   "metadata": {},
   "source": [
    "BERT with title only, new title misclassified. The new article is on alcohol and CVD as opposed to obesity and hypertension, blood opressure etc."
   ]
  },
  {
   "cell_type": "markdown",
   "id": "81d10593-952f-4fc0-97e3-7fcbfc6dd1ec",
   "metadata": {},
   "source": [
    "## Use a dimensionality reduction to visualise the embeddings\n",
    "\n",
    "Use t-SNE to reduce the embeddings from 768D to 2D\n"
   ]
  },
  {
   "cell_type": "code",
   "execution_count": 43,
   "id": "e5b66e45-ef59-4227-9695-b75f05ae45ef",
   "metadata": {},
   "outputs": [
    {
     "name": "stdout",
     "output_type": "stream",
     "text": [
      "(6, 768)\n"
     ]
    },
    {
     "data": {
      "image/png": "[encoded data removed]",
      "text/plain": [
       "<Figure size 1000x600 with 1 Axes>"
      ]
     },
     "metadata": {},
     "output_type": "display_data"
    }
   ],
   "source": [
    "import numpy as np\n",
    "import matplotlib.pyplot as plt\n",
    "\n",
    "from sklearn.manifold import TSNE\n",
    "\n",
    "# Concatenate all embeddings\n",
    "all_embeddings = np.concatenate((accept_embeddings,reject_embeddings),axis=0)\n",
    "\n",
    "all_embeddings = np.squeeze(all_embeddings,axis=1)\n",
    "\n",
    "print(all_embeddings.shape)\n",
    "\n",
    "# Reduce the dimensionality\n",
    "# Set the perplexity to a value less than the number of samples\n",
    "perplexity_value = min(30, len(all_embeddings)-1)\n",
    "\n",
    "#Apply t-SNE for dimensionality reduction\n",
    "tsne = TSNE(n_components=2,random_state=42,perplexity=perplexity_value)\n",
    "embeddings_2d = tsne.fit_transform(all_embeddings)\n",
    "\n",
    "# Visualise the embeddings\n",
    "num_accept = len(accept_embeddings)\n",
    "# Plotting\n",
    "plt.figure(figsize=(10,6))\n",
    "plt.scatter(embeddings_2d[:num_accept,0],embeddings_2d[:num_accept,1],color='b',label='Accept')\n",
    "plt.scatter(embeddings_2d[num_accept:,0],embeddings_2d[num_accept:,1],color='r',label='Reject')\n",
    "\n",
    "plt.title(\"2D t-SNE of Title Embeddings - BERT\")\n",
    "\n",
    "plt.xlabel('t-SNE Dimension 1')\n",
    "plt.ylabel('t-SNE Dimension 2')\n",
    "plt.legend()\n",
    "plt.grid(True)\n",
    "plt.show()"
   ]
  },
  {
   "cell_type": "markdown",
   "id": "03bec45a-6e53-414f-a16b-fd9867d94ed0",
   "metadata": {},
   "source": [
    "## Titles and abstracts BERT"
   ]
  },
  {
   "cell_type": "markdown",
   "id": "966d4aad-23a5-451e-9ad6-ebe273e92a2c",
   "metadata": {},
   "source": [
    "### Calculate embeddings and calculate the centroid"
   ]
  },
  {
   "cell_type": "code",
   "execution_count": 44,
   "id": "19eafd8b-f6dc-4a25-a72e-8c31d45a2a97",
   "metadata": {},
   "outputs": [],
   "source": [
    "from transformers import AutoTokenizer, AutoModel\n",
    "import torch\n",
    "import numpy as np\n",
    "\n",
    "# Load a BERT model tokenizer\n",
    "tokenizer = AutoTokenizer.from_pretrained('bert-base-uncased')\n",
    "model = AutoModel.from_pretrained('bert-base-uncased')\n",
    "\n",
    "# Write two functions (get_embeddings and calculate_centroid)\n",
    "def get_embeddings(text):\n",
    "    '''\n",
    "    This function takes in a piece of text, tokenized using the autotokenizer.\n",
    "    The tokezer output is fed to the model to generate the embeddings of that given text.\n",
    "    '''\n",
    "    inputs = tokenizer(text, truncation= True, return_tensors='pt',padding=True)\n",
    "    outputs= model(**inputs)\n",
    "    return outputs.last_hidden_state.mean(dim=1).detach().numpy()\n",
    "\n",
    "# Calculate the centroid - we calculate this by getting the mean of embeddings using numpy\n",
    "def centroid_calculator(embeddings):\n",
    "    '''\n",
    "    This function takes in embeddings and returns the mean of the embeddings which is also average location\n",
    "    '''\n",
    "    return np.mean(embeddings, axis=0)\n",
    "\n",
    "# Input - UPDATED WITH ABSTRACTS, titles separated from the abstract by a full stop\n",
    "# Annotated dataset from Reviewer 1 (WNG), Accepted for included and rejected for excluded\n",
    "Accepted = ['''The role of adiposity in cardiometabolic traits: a Mendelian randomization analysis. Background: The association between adiposity and cardiometabolic traits is well known from epidemiological studies. Whilst the causal relationship is clear for some of these traits, for others it is not. We aimed to determine whether adiposity is causally related to various cardiometabolic traits using the Mendelian randomization approach.\n",
    "\n",
    "Methods and findings: We used the adiposity-associated variant rs9939609 at the FTO locus as an instrumental variable (IV) for body mass index (BMI) in a Mendelian randomization design. Thirty-six population-based studies of individuals of European descent contributed to the analyses. Age- and sex-adjusted regression models were fitted to test for association between (i) rs9939609 and BMI (n = 198,502), (ii) rs9939609 and 24 traits, and (iii) BMI and 24 traits. The causal effect of BMI on the outcome measures was quantified by IV estimators. The estimators were compared to the BMI-trait associations derived from the same individuals. In the IV analysis, we demonstrated novel evidence for a causal relationship between adiposity and incident heart failure (hazard ratio, 1.19 per BMI-unit increase; 95% CI, 1.03-1.39) and replicated earlier reports of a causal association with type 2 diabetes, metabolic syndrome, dyslipidemia, and hypertension (odds ratio for IV estimator, 1.1-1.4; all p < 0.05). For quantitative traits, our results provide novel evidence for a causal effect of adiposity on the liver enzymes alanine aminotransferase and gamma-glutamyl transferase and confirm previous reports of a causal effect of adiposity on systolic and diastolic blood pressure, fasting insulin, 2-h post-load glucose from the oral glucose tolerance test, C-reactive protein, triglycerides, and high-density lipoprotein cholesterol levels (all p < 0.05). The estimated causal effects were in agreement with traditional observational measures in all instances except for type 2 diabetes, where the causal estimate was larger than the observational estimate (p = 0.001).\n",
    "\n",
    "Conclusions: We provide novel evidence for a causal relationship between adiposity and heart failure as well as between adiposity and increased liver enzymes.''',\n",
    "\n",
    "            '''Age- and sex-specific causal effects of adiposity on cardiovascular risk factors.Observational studies have reported different effects of adiposity on cardiovascular risk factors across age and sex. Since cardiovascular risk factors are enriched in obese individuals, it has not been easy to dissect the effects of adiposity from those of other risk factors. We used a Mendelian randomization approach, applying a set of 32 genetic markers to estimate the causal effect of adiposity on blood pressure, glycemic indices, circulating lipid levels, and markers of inflammation and liver disease in up to 67,553 individuals. All analyses were stratified by age (cutoff 55 years of age) and sex. The genetic score was associated with BMI in both nonstratified analysis (P = 2.8 × 10−107) and stratified analyses (all P < 3.3 × 10−30). We found evidence of a causal effect of adiposity on blood pressure, fasting levels of insulin, C-reactive protein, interleukin-6, HDL cholesterol, and triglycerides in a nonstratified analysis and in the <55-year stratum. Further, we found evidence of a smaller causal effect on total cholesterol (P for difference = 0.015) in the ≥55-year stratum than in the <55-year stratum, a finding that could be explained by biology, survival bias, or differential medication. In conclusion, this study extends previous knowledge of the effects of adiposity by providing sex- and age-specific causal estimates on cardiovascular risk factors.''',\n",
    "            '''Causal Effect of Adiposity Measures on Blood Pressure Traits in 2 Urban Swedish Cohorts: A Mendelian Randomization Study.Background Different adiposity traits may be causally related to hypertension in different ways. By using genetic variants as randomly allocated proxies for studying the effect of modifying adiposity traits, the Mendelian randomization approach can be used to investigate this. Methods and Results In this study, we used 4 different genetic risk scores (GRS; GRS-BMI565, GRS-WHR324, GRS-VAT208, GRS-BF81) including hundreds of single nucleotide polymorphisms associated with body mass index, waist-to-hip ratio, visceral adipose tissue, and body fat, respectively. These were applied as instrumental variables in Mendelian randomization analyses. Two Swedish urban-based cohort studies, the Malmö Diet and Cancer, and the Malmö Preventive 795Projects were used to obtain genetic association estimates with blood pressure (BP). In both the Malmö Preventive Projects and Malmö Diet and Cancer studies, except for that for body fat, all of the genetic risk scores were significantly associated with systolic BP and diastolic BP, but with different magnitudes. In particular, in both cohorts, each standard deviation increase in the genetic risk score made up by the 324 single nucleotide polymorphisms associated with waist-to-hip ratio was associated with doubling of the likelihood of hypertension prevalence at baseline. However, only the genetic risk score made up by the 565 SNPs associated with body mass index was significantly associated with hypertension incidence during 23.6±4.3 years of follow-up in the Malmö Preventive Project. Conclusions We support a causal link between genetically mediated adiposity, especially waist-to-hip ratio and body mass index, and BP traits including hypertension prevalence and, for the first time to our knowledge, hypertension incidence. The differences in magnitude between these associations might suggest different mechanisms by which different adiposity affects BP/hypertension and consequently may indicate that tailored interventions are needed to reduce cardiovascular risk. ''']\n",
    "\n",
    "Rejected  = ['''The causal effects of health conditions and risk factors on social and socioeconomic outcomes: Mendelian randomization in UK Biobank.Background\n",
    "We aimed to estimate the causal effect of health conditions and risk factors on social and socioeconomic outcomes in UK Biobank. Evidence on socioeconomic impacts is important to understand because it can help governments, policy makers and decision makers allocate resources efficiently and effectively.\n",
    "Methods\n",
    "We used Mendelian randomization to estimate the causal effects of eight health conditions (asthma, breast cancer, coronary heart disease, depression, eczema, migraine, osteoarthritis, type 2 diabetes) and five health risk factors [alcohol intake, body mass index (BMI), cholesterol, systolic blood pressure, smoking] on 19 social and socioeconomic outcomes in 336 997 men and women of White British ancestry in UK Biobank, aged between 39 and 72 years. Outcomes included annual household income, employment, deprivation [measured by the Townsend deprivation index (TDI)], degree-level education, happiness, loneliness and 13 other social and socioeconomic outcomes.\n",
    "Results\n",
    "Results suggested that BMI, smoking and alcohol intake affect many socioeconomic outcomes. For example, smoking was estimated to reduce household income [mean difference = -£22 838, 95% confidence interval (CI): -£31 354 to -£14 321] and the chance of owning accommodation [absolute percentage change (APC) = -20.8%, 95% CI: -28.2% to -13.4%], of being satisfied with health (APC = -35.4%, 95% CI: -51.2% to -19.5%) and of obtaining a university degree (APC = -65.9%, 95% CI: -81.4% to -50.4%), while also increasing deprivation (mean difference in TDI = 1.73, 95% CI: 1.02 to 2.44, approximately 216% of a decile of TDI). There was evidence that asthma decreased household income, the chance of obtaining a university degree and the chance of cohabiting, and migraine reduced the chance of having a weekly leisure or social activity, especially in men. For other associations, estimates were null.\n",
    "Conclusions\n",
    "Higher BMI, alcohol intake and smoking were all estimated to adversely affect multiple social and socioeconomic outcomes. Effects were not detected between health conditions and socioeconomic outcomes using Mendelian randomization, with the exceptions of depression, asthma and migraines. This may reflect true null associations, selection bias given the relative health and age of participants in UK Biobank, and/or lack of power to detect effects.''',\n",
    "             '''Association of serum HDL-cholesterol and apolipoprotein A1 levels with risk of severe SARS-CoV-2 infection. Individuals with features of metabolic syndrome are particularly susceptible to severe acute respiratory syndrome coronavirus 2 (SARS-CoV-2), a novel coronavirus associated with the severe respiratory disease, coronavirus disease 2019 (COVID-19). Despite considerable attention dedicated to COVID-19, the link between metabolic syndrome and SARS-CoV-2 infection remains unclear. Using data from the UK Biobank, we investigated the relationship between severity of COVID-19 and metabolic syndrome-related serum biomarkers measured prior to SARS-CoV-2 infection. Logistic regression analyses were used to test biomarker levels and biomarker-associated genetic variants with SARS-CoV-2-related outcomes. Among SARS-CoV-2-positive cases and negative controls, a 10 mg/dl increase in serum HDL-cholesterol or apolipoprotein A1 levels was associated with ∼10% reduced risk of SARS-CoV-2 infection, after adjustment for age, sex, obesity, hypertension, type 2 diabetes, and coronary artery disease. Evaluation of known genetic variants for HDL-cholesterol revealed that individuals homozygous for apolipoprotein E4 alleles had ∼2- to 3-fold higher risk of SARS-CoV-2 infection or mortality from COVID-19 compared with apolipoprotein E3 homozygotes, even after adjustment for HDL-cholesterol levels. However, cumulative effects of all evaluated HDL-cholesterol-raising alleles and Mendelian randomization analyses did not reveal association of genetically higher HDL-cholesterol levels with decreased risk of SARS-CoV-2 infection. These results implicate serum HDL-cholesterol and apolipoprotein A1 levels measured prior to SAR-CoV-2 exposure as clinical risk factors for severe COVID-19 infection but do not provide evidence that genetically elevated HDL-cholesterol levels are associated with SAR-CoV-2 infection.''',\n",
    "             '''Effect of Systolic Blood Pressure on Left Ventricular Structure and Function: A Mendelian Randomization Study.We aimed to estimate the effects of a lifelong exposure to high systolic blood pressure (SBP) on left ventricular (LV) structure and function using Mendelian randomization. A total of 5596 participants of the UK Biobank were included for whom cardiovascular magnetic resonance imaging and genetic data were available. Major exclusion criteria included nonwhite ethnicity, major cardiovascular disease, and body mass index >30 or <18.5 kg/m2. A genetic risk score to estimate genetically predicted SBP (gSBP) was constructed based on 107 previously established genetic variants. Manual cardiovascular magnetic resonance imaging postprocessing analyses were performed in 300 individuals at the extremes of gSBP (150 highest and lowest). Multivariable linear regression analyses of imaging biomarkers were performed using gSBP as continuous independent variable. All analyses except myocardial strain were validated using previously derived imaging parameters in 2530 subjects. The mean (SD) age of the study population was 62 (7) years, and 52% of subjects were female. Corrected for age, sex, and body surface area, each 10 mm Hg increase in gSBP was significantly (P<0.0056) associated with 4.01 g (SE, 1.28; P=0.002) increase in LV mass and with 2.80% (SE, 0.97; P=0.004) increase in LV global radial strain. In the validation cohort, after correction for age, sex, and body surface area, each 10 mm Hg increase in gSBP was associated with 5.27 g (SE, 1.50; P<0.001) increase in LV mass. Our study provides a novel line of evidence for a causal relationship between SBP and increased LV mass and with increased LV global radial strain.''']\n",
    "\n",
    "# Get the embeddings for accepted and rejected\n",
    "# Using the concept of list comrehension, loop through the titles and abstracts and generate embeddings\n",
    "accept_embeddings =[get_embeddings(text) for text in Accepted]\n",
    "reject_embeddings =[get_embeddings(text) for text in Rejected]\n",
    "\n",
    "# Centroid /average location calculator\n",
    "accepted_centroid = centroid_calculator(accept_embeddings)\n",
    "rejected_centroid = centroid_calculator(reject_embeddings)\n",
    "    \n"
   ]
  },
  {
   "cell_type": "markdown",
   "id": "efa0d1c2-7d98-4364-a54c-21e76a417911",
   "metadata": {},
   "source": [
    "## Predict new title with abstract using BERT"
   ]
  },
  {
   "cell_type": "code",
   "execution_count": 45,
   "id": "44538faa-a3ec-4e70-a462-31766e8e7192",
   "metadata": {},
   "outputs": [
    {
     "name": "stdout",
     "output_type": "stream",
     "text": [
      "2.6735861\n",
      "2.34251\n",
      "Reject\n"
     ]
    }
   ],
   "source": [
    "# Classify a new title and abstract\n",
    "\n",
    "new_title_abs = '''Association between alcohol and cardiovascular disease: Mendelian randomisation analysis based on individual participant data.Objective: To use the rs1229984 variant in the alcohol dehydrogenase 1B gene (ADH1B) as an instrument to investigate the causal role of alcohol in cardiovascular disease.\n",
    "\n",
    "Design: Mendelian randomisation meta-analysis of 56 epidemiological studies.\n",
    "\n",
    "Participants: 261 991 individuals of European descent, including 20 259 coronary heart disease cases and 10 164 stroke events. Data were available on ADH1B rs1229984 variant, alcohol phenotypes, and cardiovascular biomarkers.\n",
    "\n",
    "Main outcome measures: Odds ratio for coronary heart disease and stroke associated with the ADH1B variant in all individuals and by categories of alcohol consumption.\n",
    "\n",
    "Results: Carriers of the A-allele of ADH1B rs1229984 consumed 17.2% fewer units of alcohol per week (95% confidence interval 15.6% to 18.9%), had a lower prevalence of binge drinking (odds ratio 0.78 (95% CI 0.73 to 0.84)), and had higher abstention (odds ratio 1.27 (1.21 to 1.34)) than non-carriers. Rs1229984 A-allele carriers had lower systolic blood pressure (-0.88 (-1.19 to -0.56) mm Hg), interleukin-6 levels (-5.2% (-7.8 to -2.4%)), waist circumference (-0.3 (-0.6 to -0.1) cm), and body mass index (-0.17 (-0.24 to -0.10) kg/m(2)). Rs1229984 A-allele carriers had lower odds of coronary heart disease (odds ratio 0.90 (0.84 to 0.96)). The protective association of the ADH1B rs1229984 A-allele variant remained the same across all categories of alcohol consumption (P=0.83 for heterogeneity). Although no association of rs1229984 was identified with the combined subtypes of stroke, carriers of the A-allele had lower odds of ischaemic stroke (odds ratio 0.83 (0.72 to 0.95)).\n",
    "\n",
    "Conclusions: Individuals with a genetic variant associated with non-drinking and lower alcohol consumption had a more favourable cardiovascular profile and a reduced risk of coronary heart disease than those without the genetic variant. This suggests that reduction of alcohol consumption, even for light to moderate drinkers, is beneficial for cardiovascular health.'''\n",
    "new_title_abs_embeddings = get_embeddings(new_title_abs)\n",
    "\n",
    "# Measure distance from the centroids\n",
    "distance_to_accept = np.linalg.norm(new_title_abs_embeddings - accepted_centroid)\n",
    "distance_to_reject = np.linalg.norm(new_title_abs_embeddings - rejected_centroid)\n",
    "\n",
    "print(distance_to_accept)\n",
    "print(distance_to_reject)\n",
    "\n",
    "# Classify based on how close they are to \n",
    "if distance_to_accept < distance_to_reject:\n",
    "    classification = 'Accept'\n",
    "else:\n",
    "    classification = 'Reject'\n",
    "\n",
    "print(classification)"
   ]
  },
  {
   "cell_type": "markdown",
   "id": "e160b1e4-31d8-4a67-8b8b-3cc84144fa22",
   "metadata": {},
   "source": [
    "BERT with title and abstract despite truncating tokens to 512, it classifies the new article in the correct category."
   ]
  },
  {
   "cell_type": "code",
   "execution_count": 46,
   "id": "47cfa845-6b49-4b58-9e4c-63310b866243",
   "metadata": {},
   "outputs": [
    {
     "name": "stdout",
     "output_type": "stream",
     "text": [
      "(6, 768)\n"
     ]
    },
    {
     "data": {
      "image/png": "[encoded data removed]",
      "text/plain": [
       "<Figure size 1000x600 with 1 Axes>"
      ]
     },
     "metadata": {},
     "output_type": "display_data"
    }
   ],
   "source": [
    "# Visualise\n",
    "\n",
    "import numpy as np\n",
    "import matplotlib.pyplot as plt\n",
    "\n",
    "from sklearn.manifold import TSNE\n",
    "\n",
    "# Concatenate all embeddings\n",
    "all_embeddings = np.concatenate((accept_embeddings,reject_embeddings),axis=0)\n",
    "\n",
    "all_embeddings = np.squeeze(all_embeddings,axis=1)\n",
    "\n",
    "print(all_embeddings.shape)\n",
    "\n",
    "# Reduce the dimensionality\n",
    "# Set the perplexity to a value less than the number of samples\n",
    "perplexity_value = min(30, len(all_embeddings)-1)\n",
    "\n",
    "#Apply t-SNE for dimensionality reduction\n",
    "tsne = TSNE(n_components=2,random_state=42,perplexity=perplexity_value)\n",
    "embeddings_2d = tsne.fit_transform(all_embeddings)\n",
    "\n",
    "# Visualise the embeddings\n",
    "num_accepted = len(accept_embeddings)\n",
    "# Plotting\n",
    "plt.figure(figsize=(10,6))\n",
    "plt.scatter(embeddings_2d[:num_accepted,0],embeddings_2d[:num_accepted,1],color='b',label='Accept')\n",
    "plt.scatter(embeddings_2d[num_accepted:,0],embeddings_2d[num_accepted:,1],color='r',label='Reject')\n",
    "\n",
    "plt.title(\"2D t-SNE of Title and Abstract Embeddings - BERT\")\n",
    "\n",
    "plt.xlabel('t-SNE Dimension 1')\n",
    "plt.ylabel('t-SNE Dimension 2')\n",
    "plt.legend()\n",
    "plt.grid(True)\n",
    "plt.show()"
   ]
  },
  {
   "cell_type": "markdown",
   "id": "9248995d-e8a3-488e-b464-9b64e6490fba",
   "metadata": {},
   "source": [
    "# BioBERT Embeddings for text classification"
   ]
  },
  {
   "cell_type": "markdown",
   "id": "9266509b-ad2d-4564-9941-15c3f1696491",
   "metadata": {},
   "source": [
    "## Titles only BioBERT\n"
   ]
  },
  {
   "cell_type": "markdown",
   "id": "b2b9d2e1-0706-4fb1-a01c-1500bbcc6ee7",
   "metadata": {},
   "source": [
    "### Calculate embeddings and calculate the centroids.\n"
   ]
  },
  {
   "cell_type": "code",
   "execution_count": 47,
   "id": "67e96c7a-95c3-4f99-9847-01c1978a2c48",
   "metadata": {},
   "outputs": [],
   "source": [
    "# Calculate the embeddings\n",
    "# Load libraries as before\n",
    "from transformers import AutoTokenizer, AutoModel\n",
    "import torch\n",
    "import numpy as np\n",
    "# Load a pre-trained tokenizer\n",
    "tokenizer = AutoTokenizer.from_pretrained('monologg/biobert_v1.1_pubmed')\n",
    "model = AutoModel.from_pretrained('monologg/biobert_v1.1_pubmed')\n",
    "# Func\n",
    "def  get_embedding(sentence):\n",
    "    inputs = tokenizer(sentence, return_tensors='pt',padding=True)\n",
    "    outputs = model(**inputs)\n",
    "    return outputs.last_hidden_state.mean(dim=1).detach().numpy()\n",
    "\n",
    "def calculate_centroid(embeddings):\n",
    "    return np.mean(embeddings,axis=0)\n",
    "\n",
    "\n",
    "#Get embeddings\n",
    "# input\n",
    "#Pre-classified sentences\n",
    "accept_titles = ['The role of adiposity in cardiometabolic traits: a Mendelian randomization analysis','Age- and sex-specific causal effects of adiposity on cardiovascular risk factors','Causal Effect of Adiposity Measures on Blood Pressure Traits in 2 Urban Swedish Cohorts: A Mendelian Randomization Study'\n",
    "]\n",
    "reject_titles = ['The causal effects of health conditions and risk factors on social and socioeconomic outcomes: Mendelian randomization in UK Biobank','Association of serum HDL-cholesterol and apolipoprotein A1 levels with risk of severe SARS-CoV-2 infection','Effect of Systolic Blood Pressure on Left Ventricular Structure and Function: A Mendelian Randomization Study']\n",
    "# Getting embeddings\n",
    "accept_embeddings = [get_embedding(sent)for sent in accept_titles]\n",
    "\n",
    "reject_embeddings = [get_embedding(sent)for sent in reject_titles]\n",
    "\n",
    "# Calculate the average locations (centroids)\n",
    "accept_centroid = calculate_centroid(accept_embeddings)\n",
    "reject_centroid = calculate_centroid(reject_embeddings)"
   ]
  },
  {
   "cell_type": "markdown",
   "id": "f581dc0a-f536-4251-822e-e089df55b660",
   "metadata": {},
   "source": [
    "## Predict new title using BioBERT"
   ]
  },
  {
   "cell_type": "code",
   "execution_count": 48,
   "id": "652fd3d5-dba8-4582-b5c8-c2d73ba46458",
   "metadata": {},
   "outputs": [
    {
     "name": "stdout",
     "output_type": "stream",
     "text": [
      "3.4004838\n",
      "3.4435525\n",
      "Accept\n"
     ]
    }
   ],
   "source": [
    "# Predict the category of a new title\n",
    "new_title = 'Association between alcohol and cardiovascular disease: Mendelian randomisation analysis based on individual participant data.'\n",
    "new_embedding = get_embedding(new_title)\n",
    "\n",
    "# Measure distance to the centroids\n",
    "\n",
    "distance_to_accept = np.linalg.norm(new_embedding - accept_centroid)\n",
    "distance_to_reject = np.linalg.norm(new_embedding - reject_centroid)\n",
    "print(distance_to_accept)\n",
    "print(distance_to_reject)\n",
    "# Classification\n",
    "if distance_to_accept < distance_to_reject:\n",
    "    classification = 'Accept'\n",
    "else:\n",
    "    classification = 'Reject'\n",
    "\n",
    "print(classification)"
   ]
  },
  {
   "cell_type": "markdown",
   "id": "5f6a92be-c196-4dc2-95ea-7a6e86091556",
   "metadata": {},
   "source": [
    "When using BioBERT with Titles only it misclassifies the new title."
   ]
  },
  {
   "cell_type": "code",
   "execution_count": 49,
   "id": "0cf13f1c-0815-40ea-a45d-f349c96687c3",
   "metadata": {},
   "outputs": [
    {
     "name": "stdout",
     "output_type": "stream",
     "text": [
      "(6, 768)\n"
     ]
    },
    {
     "data": {
      "image/png": "[encoded data removed]",
      "text/plain": [
       "<Figure size 1000x600 with 1 Axes>"
      ]
     },
     "metadata": {},
     "output_type": "display_data"
    }
   ],
   "source": [
    "import numpy as np\n",
    "import matplotlib.pyplot as plt\n",
    "\n",
    "from sklearn.manifold import TSNE\n",
    "\n",
    "# Concatenate all embeddings\n",
    "all_embeddings = np.concatenate((accept_embeddings,reject_embeddings),axis=0)\n",
    "\n",
    "all_embeddings = np.squeeze(all_embeddings,axis=1)\n",
    "\n",
    "print(all_embeddings.shape)\n",
    "\n",
    "# Reduce the dimensionality\n",
    "# Set the perplexity to a value less than the number of samples\n",
    "perplexity_value = min(30, len(all_embeddings)-1)\n",
    "\n",
    "#Apply t-SNE for dimensionality reduction\n",
    "tsne = TSNE(n_components=2,random_state=42,perplexity=perplexity_value)\n",
    "embeddings_2d = tsne.fit_transform(all_embeddings)\n",
    "\n",
    "# Visualise the embeddings\n",
    "num_accept = len(accept_embeddings)\n",
    "# Plotting\n",
    "plt.figure(figsize=(10,6))\n",
    "plt.scatter(embeddings_2d[:num_accept,0],embeddings_2d[:num_accept,1],color='b',label='Accept')\n",
    "plt.scatter(embeddings_2d[num_accept:,0],embeddings_2d[num_accept:,1],color='r',label='Reject')\n",
    "\n",
    "plt.title(\"2D t-SNE of Title Embeddings - BioBERT- monologg\")\n",
    "\n",
    "plt.xlabel('t-SNE Dimension 1')\n",
    "plt.ylabel('t-SNE Dimension 2')\n",
    "plt.legend()\n",
    "plt.grid(True)\n",
    "plt.show()"
   ]
  },
  {
   "cell_type": "markdown",
   "id": "d00a0fc2-895e-4388-84fa-306c5a525c5f",
   "metadata": {},
   "source": [
    "## Titles and abstracts BioBERT"
   ]
  },
  {
   "cell_type": "markdown",
   "id": "a005c704-9497-4198-bad2-a4bb04eefa89",
   "metadata": {},
   "source": [
    "### Calculate embeddings and calculate the centroids."
   ]
  },
  {
   "cell_type": "code",
   "execution_count": 50,
   "id": "672da76e-9c33-41a5-ad26-64d1d9491646",
   "metadata": {},
   "outputs": [],
   "source": [
    "# Load a BERT model tokenizer\n",
    "tokenizer = AutoTokenizer.from_pretrained('monologg/biobert_v1.1_pubmed')\n",
    "model = AutoModel.from_pretrained('monologg/biobert_v1.1_pubmed')\n",
    "\n",
    "# Write two functions (get_embeddings and calculate_centroid)\n",
    "def get_embeddings(text):\n",
    "    '''\n",
    "    This function takes in a piece of text, tokenized using the autotokenizer.\n",
    "    The tokezer output is fed to the model to generate the embeddings of that given text.\n",
    "    '''\n",
    "    inputs = tokenizer(text, return_tensors='pt',truncation=True, max_length = 512,padding=True)\n",
    "    outputs= model(**inputs)\n",
    "    return outputs.last_hidden_state.mean(dim=1).detach().numpy()\n",
    "\n",
    "# Calculate the centroid - we calculate this by getting the mean of embeddings using numpy\n",
    "def centroid_calculator(embeddings):\n",
    "    '''\n",
    "    This function takes in embeddings and returns the mean of the embeddings which is also average location\n",
    "    '''\n",
    "    return np.mean(embeddings, axis=0)\n",
    "\n",
    "# Input - UPDATED WITH ABSTRACTS, titles separated from the abstract by a full stop\n",
    "# Annotated dataset from Reviewer 1 (WNG), Accepted for included and rejected for excluded\n",
    "Accepted = ['''The role of adiposity in cardiometabolic traits: a Mendelian randomization analysis. Background: The association between adiposity and cardiometabolic traits is well known from epidemiological studies. Whilst the causal relationship is clear for some of these traits, for others it is not. We aimed to determine whether adiposity is causally related to various cardiometabolic traits using the Mendelian randomization approach.\n",
    "\n",
    "Methods and findings: We used the adiposity-associated variant rs9939609 at the FTO locus as an instrumental variable (IV) for body mass index (BMI) in a Mendelian randomization design. Thirty-six population-based studies of individuals of European descent contributed to the analyses. Age- and sex-adjusted regression models were fitted to test for association between (i) rs9939609 and BMI (n = 198,502), (ii) rs9939609 and 24 traits, and (iii) BMI and 24 traits. The causal effect of BMI on the outcome measures was quantified by IV estimators. The estimators were compared to the BMI-trait associations derived from the same individuals. In the IV analysis, we demonstrated novel evidence for a causal relationship between adiposity and incident heart failure (hazard ratio, 1.19 per BMI-unit increase; 95% CI, 1.03-1.39) and replicated earlier reports of a causal association with type 2 diabetes, metabolic syndrome, dyslipidemia, and hypertension (odds ratio for IV estimator, 1.1-1.4; all p < 0.05). For quantitative traits, our results provide novel evidence for a causal effect of adiposity on the liver enzymes alanine aminotransferase and gamma-glutamyl transferase and confirm previous reports of a causal effect of adiposity on systolic and diastolic blood pressure, fasting insulin, 2-h post-load glucose from the oral glucose tolerance test, C-reactive protein, triglycerides, and high-density lipoprotein cholesterol levels (all p < 0.05). The estimated causal effects were in agreement with traditional observational measures in all instances except for type 2 diabetes, where the causal estimate was larger than the observational estimate (p = 0.001).\n",
    "\n",
    "Conclusions: We provide novel evidence for a causal relationship between adiposity and heart failure as well as between adiposity and increased liver enzymes.''',\n",
    "\n",
    "            '''Age- and sex-specific causal effects of adiposity on cardiovascular risk factors.Observational studies have reported different effects of adiposity on cardiovascular risk factors across age and sex. Since cardiovascular risk factors are enriched in obese individuals, it has not been easy to dissect the effects of adiposity from those of other risk factors. We used a Mendelian randomization approach, applying a set of 32 genetic markers to estimate the causal effect of adiposity on blood pressure, glycemic indices, circulating lipid levels, and markers of inflammation and liver disease in up to 67,553 individuals. All analyses were stratified by age (cutoff 55 years of age) and sex. The genetic score was associated with BMI in both nonstratified analysis (P = 2.8 × 10−107) and stratified analyses (all P < 3.3 × 10−30). We found evidence of a causal effect of adiposity on blood pressure, fasting levels of insulin, C-reactive protein, interleukin-6, HDL cholesterol, and triglycerides in a nonstratified analysis and in the <55-year stratum. Further, we found evidence of a smaller causal effect on total cholesterol (P for difference = 0.015) in the ≥55-year stratum than in the <55-year stratum, a finding that could be explained by biology, survival bias, or differential medication. In conclusion, this study extends previous knowledge of the effects of adiposity by providing sex- and age-specific causal estimates on cardiovascular risk factors.''',\n",
    "            '''Causal Effect of Adiposity Measures on Blood Pressure Traits in 2 Urban Swedish Cohorts: A Mendelian Randomization Study.Background Different adiposity traits may be causally related to hypertension in different ways. By using genetic variants as randomly allocated proxies for studying the effect of modifying adiposity traits, the Mendelian randomization approach can be used to investigate this. Methods and Results In this study, we used 4 different genetic risk scores (GRS; GRS-BMI565, GRS-WHR324, GRS-VAT208, GRS-BF81) including hundreds of single nucleotide polymorphisms associated with body mass index, waist-to-hip ratio, visceral adipose tissue, and body fat, respectively. These were applied as instrumental variables in Mendelian randomization analyses. Two Swedish urban-based cohort studies, the Malmö Diet and Cancer, and the Malmö Preventive 795Projects were used to obtain genetic association estimates with blood pressure (BP). In both the Malmö Preventive Projects and Malmö Diet and Cancer studies, except for that for body fat, all of the genetic risk scores were significantly associated with systolic BP and diastolic BP, but with different magnitudes. In particular, in both cohorts, each standard deviation increase in the genetic risk score made up by the 324 single nucleotide polymorphisms associated with waist-to-hip ratio was associated with doubling of the likelihood of hypertension prevalence at baseline. However, only the genetic risk score made up by the 565 SNPs associated with body mass index was significantly associated with hypertension incidence during 23.6±4.3 years of follow-up in the Malmö Preventive Project. Conclusions We support a causal link between genetically mediated adiposity, especially waist-to-hip ratio and body mass index, and BP traits including hypertension prevalence and, for the first time to our knowledge, hypertension incidence. The differences in magnitude between these associations might suggest different mechanisms by which different adiposity affects BP/hypertension and consequently may indicate that tailored interventions are needed to reduce cardiovascular risk. ''']\n",
    "\n",
    "Rejected  = ['''The causal effects of health conditions and risk factors on social and socioeconomic outcomes: Mendelian randomization in UK Biobank.Background\n",
    "We aimed to estimate the causal effect of health conditions and risk factors on social and socioeconomic outcomes in UK Biobank. Evidence on socioeconomic impacts is important to understand because it can help governments, policy makers and decision makers allocate resources efficiently and effectively.\n",
    "Methods: We used Mendelian randomization to estimate the causal effects of eight health conditions (asthma, breast cancer, coronary heart disease, depression, eczema, migraine, osteoarthritis, type 2 diabetes) and five health risk factors [alcohol intake, body mass index (BMI), cholesterol, systolic blood pressure, smoking] on 19 social and socioeconomic outcomes in 336 997 men and women of White British ancestry in UK Biobank, aged between 39 and 72 years. Outcomes included annual household income, employment, deprivation [measured by the Townsend deprivation index (TDI)], degree-level education, happiness, loneliness and 13 other social and socioeconomic outcomes.\n",
    "Results: Results suggested that BMI, smoking and alcohol intake affect many socioeconomic outcomes. For example, smoking was estimated to reduce household income [mean difference = -£22 838, 95% confidence interval (CI): -£31 354 to -£14 321] and the chance of owning accommodation [absolute percentage change (APC) = -20.8%, 95% CI: -28.2% to -13.4%], of being satisfied with health (APC = -35.4%, 95% CI: -51.2% to -19.5%) and of obtaining a university degree (APC = -65.9%, 95% CI: -81.4% to -50.4%), while also increasing deprivation (mean difference in TDI = 1.73, 95% CI: 1.02 to 2.44, approximately 216% of a decile of TDI). There was evidence that asthma decreased household income, the chance of obtaining a university degree and the chance of cohabiting, and migraine reduced the chance of having a weekly leisure or social activity, especially in men. For other associations, estimates were null.\n",
    "Conclusions :Higher BMI, alcohol intake and smoking were all estimated to adversely affect multiple social and socioeconomic outcomes. Effects were not detected between health conditions and socioeconomic outcomes using Mendelian randomization, with the exceptions of depression, asthma and migraines. This may reflect true null associations, selection bias given the relative health and age of participants in UK Biobank, and/or lack of power to detect effects.''',\n",
    "             '''Association of serum HDL-cholesterol and apolipoprotein A1 levels with risk of severe SARS-CoV-2 infection. Individuals with features of metabolic syndrome are particularly susceptible to severe acute respiratory syndrome coronavirus 2 (SARS-CoV-2), a novel coronavirus associated with the severe respiratory disease, coronavirus disease 2019 (COVID-19). Despite considerable attention dedicated to COVID-19, the link between metabolic syndrome and SARS-CoV-2 infection remains unclear. Using data from the UK Biobank, we investigated the relationship between severity of COVID-19 and metabolic syndrome-related serum biomarkers measured prior to SARS-CoV-2 infection. Logistic regression analyses were used to test biomarker levels and biomarker-associated genetic variants with SARS-CoV-2-related outcomes. Among SARS-CoV-2-positive cases and negative controls, a 10 mg/dl increase in serum HDL-cholesterol or apolipoprotein A1 levels was associated with ∼10% reduced risk of SARS-CoV-2 infection, after adjustment for age, sex, obesity, hypertension, type 2 diabetes, and coronary artery disease. Evaluation of known genetic variants for HDL-cholesterol revealed that individuals homozygous for apolipoprotein E4 alleles had ∼2- to 3-fold higher risk of SARS-CoV-2 infection or mortality from COVID-19 compared with apolipoprotein E3 homozygotes, even after adjustment for HDL-cholesterol levels. However, cumulative effects of all evaluated HDL-cholesterol-raising alleles and Mendelian randomization analyses did not reveal association of genetically higher HDL-cholesterol levels with decreased risk of SARS-CoV-2 infection. These results implicate serum HDL-cholesterol and apolipoprotein A1 levels measured prior to SAR-CoV-2 exposure as clinical risk factors for severe COVID-19 infection but do not provide evidence that genetically elevated HDL-cholesterol levels are associated with SAR-CoV-2 infection.''',\n",
    "             '''Effect of Systolic Blood Pressure on Left Ventricular Structure and Function: A Mendelian Randomization Study.We aimed to estimate the effects of a lifelong exposure to high systolic blood pressure (SBP) on left ventricular (LV) structure and function using Mendelian randomization. A total of 5596 participants of the UK Biobank were included for whom cardiovascular magnetic resonance imaging and genetic data were available. Major exclusion criteria included nonwhite ethnicity, major cardiovascular disease, and body mass index >30 or <18.5 kg/m2. A genetic risk score to estimate genetically predicted SBP (gSBP) was constructed based on 107 previously established genetic variants. Manual cardiovascular magnetic resonance imaging postprocessing analyses were performed in 300 individuals at the extremes of gSBP (150 highest and lowest). Multivariable linear regression analyses of imaging biomarkers were performed using gSBP as continuous independent variable. All analyses except myocardial strain were validated using previously derived imaging parameters in 2530 subjects. The mean (SD) age of the study population was 62 (7) years, and 52% of subjects were female. Corrected for age, sex, and body surface area, each 10 mm Hg increase in gSBP was significantly (P<0.0056) associated with 4.01 g (SE, 1.28; P=0.002) increase in LV mass and with 2.80% (SE, 0.97; P=0.004) increase in LV global radial strain. In the validation cohort, after correction for age, sex, and body surface area, each 10 mm Hg increase in gSBP was associated with 5.27 g (SE, 1.50; P<0.001) increase in LV mass. Our study provides a novel line of evidence for a causal relationship between SBP and increased LV mass and with increased LV global radial strain.''']\n",
    "\n"
   ]
  },
  {
   "cell_type": "code",
   "execution_count": 51,
   "id": "49a5b752-73e7-444c-8d21-1a7bae9ccbdd",
   "metadata": {},
   "outputs": [],
   "source": [
    "#Get the embeddings for accepted and rejected\n",
    "#Using the concept of list comrehension, loop through the titles and abstracts and generate embeddings\n",
    "accept_embeddings =[get_embeddings(text) for text in Accepted]\n",
    "reject_embeddings =[get_embeddings(text) for text in Rejected]\n",
    "\n",
    "# Centroid /average location calculator\n",
    "accepted_centroid = centroid_calculator(accept_embeddings)\n",
    "rejected_centroid = centroid_calculator(reject_embeddings)"
   ]
  },
  {
   "cell_type": "markdown",
   "id": "d8e1a0fd-f333-487c-8497-2b3c5c04ef50",
   "metadata": {},
   "source": [
    "## Predict new title with abstract using BioBERT"
   ]
  },
  {
   "cell_type": "code",
   "execution_count": 52,
   "id": "ad8dd1f0-df6f-4c2d-8133-cac929f4da06",
   "metadata": {},
   "outputs": [
    {
     "name": "stdout",
     "output_type": "stream",
     "text": [
      "2.2967129\n",
      "1.9663982\n",
      "Reject\n"
     ]
    }
   ],
   "source": [
    "# Predict a category for new title and abstract\n",
    "# Classify a new title and abstract\n",
    "\n",
    "new_title_abs = '''Association between alcohol and cardiovascular disease: Mendelian randomisation analysis based on individual participant data.Objective: To use the rs1229984 variant in the alcohol dehydrogenase 1B gene (ADH1B) as an instrument to investigate the causal role of alcohol in cardiovascular disease.\n",
    "\n",
    "Design: Mendelian randomisation meta-analysis of 56 epidemiological studies.\n",
    "\n",
    "Participants: 261 991 individuals of European descent, including 20 259 coronary heart disease cases and 10 164 stroke events. Data were available on ADH1B rs1229984 variant, alcohol phenotypes, and cardiovascular biomarkers.\n",
    "\n",
    "Main outcome measures: Odds ratio for coronary heart disease and stroke associated with the ADH1B variant in all individuals and by categories of alcohol consumption.\n",
    "\n",
    "Results: Carriers of the A-allele of ADH1B rs1229984 consumed 17.2% fewer units of alcohol per week (95% confidence interval 15.6% to 18.9%), had a lower prevalence of binge drinking (odds ratio 0.78 (95% CI 0.73 to 0.84)), and had higher abstention (odds ratio 1.27 (1.21 to 1.34)) than non-carriers. Rs1229984 A-allele carriers had lower systolic blood pressure (-0.88 (-1.19 to -0.56) mm Hg), interleukin-6 levels (-5.2% (-7.8 to -2.4%)), waist circumference (-0.3 (-0.6 to -0.1) cm), and body mass index (-0.17 (-0.24 to -0.10) kg/m(2)). Rs1229984 A-allele carriers had lower odds of coronary heart disease (odds ratio 0.90 (0.84 to 0.96)). The protective association of the ADH1B rs1229984 A-allele variant remained the same across all categories of alcohol consumption (P=0.83 for heterogeneity). Although no association of rs1229984 was identified with the combined subtypes of stroke, carriers of the A-allele had lower odds of ischaemic stroke (odds ratio 0.83 (0.72 to 0.95)).\n",
    "\n",
    "Conclusions: Individuals with a genetic variant associated with non-drinking and lower alcohol consumption had a more favourable cardiovascular profile and a reduced risk of coronary heart disease than those without the genetic variant. This suggests that reduction of alcohol consumption, even for light to moderate drinkers, is beneficial for cardiovascular health.'''\n",
    "new_title_abs_embeddings = get_embeddings(new_title_abs)\n",
    "\n",
    "# Measure distance from the centroids\n",
    "distance_to_accept = np.linalg.norm(new_title_abs_embeddings - accepted_centroid)\n",
    "distance_to_reject = np.linalg.norm(new_title_abs_embeddings - rejected_centroid)\n",
    "\n",
    "print(distance_to_accept)\n",
    "print(distance_to_reject)\n",
    "\n",
    "# Classify based on how close they are to \n",
    "if distance_to_accept < distance_to_reject:\n",
    "    classification = 'Accept'\n",
    "else:\n",
    "    classification = 'Reject'\n",
    "\n",
    "print(classification)"
   ]
  },
  {
   "cell_type": "markdown",
   "id": "8effbf50-0e11-4db4-a5c7-098e90d3b30e",
   "metadata": {},
   "source": [
    "BioBERT with title and abstract gave similar prediction as expert evaluation."
   ]
  },
  {
   "cell_type": "code",
   "execution_count": 53,
   "id": "f5f33edb-899f-4863-8949-5004ef480da4",
   "metadata": {},
   "outputs": [
    {
     "name": "stdout",
     "output_type": "stream",
     "text": [
      "(6, 768)\n"
     ]
    },
    {
     "data": {
      "image/png": "[encoded data removed]",
      "text/plain": [
       "<Figure size 1000x600 with 1 Axes>"
      ]
     },
     "metadata": {},
     "output_type": "display_data"
    }
   ],
   "source": [
    "# Visualise\n",
    "\n",
    "import numpy as np\n",
    "import matplotlib.pyplot as plt\n",
    "\n",
    "from sklearn.manifold import TSNE\n",
    "\n",
    "# Concatenate all embeddings\n",
    "all_embeddings = np.concatenate((accept_embeddings,reject_embeddings),axis=0)\n",
    "\n",
    "all_embeddings = np.squeeze(all_embeddings,axis=1)\n",
    "\n",
    "print(all_embeddings.shape)\n",
    "\n",
    "# Reduce the dimensionality\n",
    "# Set the perplexity to a value less than the number of samples\n",
    "perplexity_value = min(30, len(all_embeddings)-1)\n",
    "\n",
    "#Apply t-SNE for dimensionality reduction\n",
    "tsne = TSNE(n_components=2,random_state=42,perplexity=perplexity_value)\n",
    "embeddings_2d = tsne.fit_transform(all_embeddings)\n",
    "\n",
    "# Visualise the embeddings\n",
    "num_accepted = len(accept_embeddings)\n",
    "# Plotting\n",
    "plt.figure(figsize=(10,6))\n",
    "plt.scatter(embeddings_2d[:num_accepted,0],embeddings_2d[:num_accepted,1],color='b',label='Accept')\n",
    "plt.scatter(embeddings_2d[num_accepted:,0],embeddings_2d[num_accepted:,1],color='r',label='Reject')\n",
    "\n",
    "plt.title(\"2D t-SNE of Title and abstract Embeddings - BioBERT - monollog\")\n",
    "\n",
    "plt.xlabel('t-SNE Dimension 1')\n",
    "plt.ylabel('t-SNE Dimension 2')\n",
    "plt.legend()\n",
    "plt.grid(True)\n",
    "plt.show()"
   ]
  },
  {
   "cell_type": "markdown",
   "id": "405cbc03-1083-4206-9cc9-b71b1cb37604",
   "metadata": {},
   "source": [
    "# Summary\n",
    "\n",
    "## Input\n",
    "* Three included papers\n",
    "\n",
    "* Three excluded papers\n",
    "\n",
    "## New article - to be classified\n",
    "Title and abstract - expert view the paper should be exlcuded (reject).\n",
    "\n",
    "## Opportunities, challenges and solutions\n",
    "Title only easy to process short text.\n",
    "\n",
    "Title and abstract, the tokens exceed the allowed limit of 512; *Error message*.\n",
    "\n",
    "Ideally I should clean the data before tokenizing it i.e removing stop words and stemming, however tokenization with BERT ensures generation of contextually meaningful embeddings. [Comparison of BERT implementation in medical Docs](https://www.sciencedirect.com/science/article/pii/S2352914822002763)\n",
    "\n",
    "How did I approach the problem of >512 tokens?\n",
    "\n",
    "I have used the truncation argument within the function and set the limit of maximum length to 512, when the number of tokens exceed 512, we truncate the rest of the tokens. The danger here is I will lose some relevant information. Nevertheless, currently the model seem to be doing all fine but in coming weeks I will explore other strategies including:\n",
    "\n",
    "I) Chunk the title and abstract to bits of up to 512 tokens.\n",
    "\n",
    "II) Preprocessing of the titles and abstracts before tokenizing (Not sure how useful this will be).\n",
    "\n",
    "\n",
    "# Implementation\n",
    "\n",
    "1. Classifying a new article by title only, by measuring how far or close it is to the embeddings centroids, the prediction is **wrong** using **BERT** and **BIOBERT**.\n",
    "\n",
    "   [BERT title only](#Predict-new-title-using-BERT)\n",
    "\n",
    "   [BioBERT title only](#Predict-new-title-using-BioBERT)\n",
    "\n",
    "3. Classifying a new article by title and abstract, by measuring how far or close it is to the embeddings centroids, the prediction is **correct** using **BERT** and **BIOBERT**.\n",
    "\n",
    "   [BERT title abstract](#Predict-new-title-with-abstract-using-BERT)\n",
    "\n",
    "   [BioBERT title abstract](#Predict-new-title-with-abstract-using-BioBERT)\n",
    "\n",
    "\n",
    "\n",
    "## Visualisation - Interpretation \n",
    "\n",
    "Title only and title with abstract visualisation from BERT (regular) and BioBERT-monologg/biobert_v1.1_pubmed the two categories are nearly indistinguishable.\n",
    "\n",
    "BERT - Regular/base, this is expected since training is solely on English corpus and wikipedia text. \n",
    "\n",
    "BioBERT-monologg/biobert_v1.1_pubmed for some reason this does not give unique results despite containing pubmed abstracts during training. The next step is exploring other BioBERT implementations; `dmis-lab/biobert-base-cased-v1.1`.\n"
   ]
  },
  {
   "cell_type": "markdown",
   "id": "b57769e6-7abd-45c5-bb2f-58a156f4da1c",
   "metadata": {},
   "source": [
    "# Next steps\n",
    "\n",
    "1. Instead of truncating the text to 512 tokens, try and process the data in chunks of 512.\n",
    "\n",
    "2. Use a different version of BioBERT `dmis-lab/biobert-base-cased-v1.1` - **Done**, others : dmis-lab/biobert-large-cased-v1.1-mnli\n",
    "\n",
    "3. My datasets is small, some examples I have seen implementing BERT model, have training set and hold-out validation set (Access to big datasets). Any thoughts?\n",
    "\n",
    "4. Start exploring prompt engineering after Tom and Yi looks at the piece of work."
   ]
  },
  {
   "cell_type": "markdown",
   "id": "971a7f5a-d707-4f7f-b47f-86819908c07e",
   "metadata": {},
   "source": [
    "# BioBERT dmis-lab/biobert-base-cased-v1.1"
   ]
  },
  {
   "cell_type": "markdown",
   "id": "9c5a02d2-2741-420d-8327-ff9813d34c23",
   "metadata": {},
   "source": [
    "# Text classification, titles only using BioBERT-dmis-lab"
   ]
  },
  {
   "cell_type": "markdown",
   "id": "977b8263-b6ee-4624-9fb2-2293ef04dd09",
   "metadata": {},
   "source": [
    "## Calculate embedding and centroids."
   ]
  },
  {
   "cell_type": "code",
   "execution_count": 1,
   "id": "60011f1c-9e19-48ac-a6a8-088199432e5a",
   "metadata": {},
   "outputs": [
    {
     "data": {
      "application/vnd.jupyter.widget-view+json": {
       "model_id": "e3a22842b9224d05a219922cc2ba0a15",
       "version_major": 2,
       "version_minor": 0
      },
      "text/plain": [
       "config.json:   0%|          | 0.00/824 [00:00<?, ?B/s]"
      ]
     },
     "metadata": {},
     "output_type": "display_data"
    },
    {
     "data": {
      "application/vnd.jupyter.widget-view+json": {
       "model_id": "34bee5bee5904957b4ae0bebeae38c32",
       "version_major": 2,
       "version_minor": 0
      },
      "text/plain": [
       "vocab.txt:   0%|          | 0.00/467k [00:00<?, ?B/s]"
      ]
     },
     "metadata": {},
     "output_type": "display_data"
    },
    {
     "data": {
      "application/vnd.jupyter.widget-view+json": {
       "model_id": "476b2bb726874d8cbf23d89e16d73c10",
       "version_major": 2,
       "version_minor": 0
      },
      "text/plain": [
       "pytorch_model.bin:   0%|          | 0.00/1.46G [00:00<?, ?B/s]"
      ]
     },
     "metadata": {},
     "output_type": "display_data"
    },
    {
     "data": {
      "application/vnd.jupyter.widget-view+json": {
       "model_id": "d56374d7843147bd81c31da868ffbd21",
       "version_major": 2,
       "version_minor": 0
      },
      "text/plain": [
       "model.safetensors:   0%|          | 0.00/1.46G [00:00<?, ?B/s]"
      ]
     },
     "metadata": {},
     "output_type": "display_data"
    },
    {
     "name": "stderr",
     "output_type": "stream",
     "text": [
      "Error while downloading from https://cdn-lfs.hf.co/dmis-lab/biobert-large-cased-v1.1-mnli/268a0ed1498e2a22f44e701969a35698f8e5d732e2905c2bc9e013567eda536a?response-content-disposition=inline%3B+filename*%3DUTF-8%27%27model.safetensors%3B+filename%3D%22model.safetensors%22%3B&Expires=1737651457&Policy=eyJTdGF0ZW1lbnQiOlt7IkNvbmRpdGlvbiI6eyJEYXRlTGVzc1RoYW4iOnsiQVdTOkVwb2NoVGltZSI6MTczNzY1MTQ1N319LCJSZXNvdXJjZSI6Imh0dHBzOi8vY2RuLWxmcy5oZi5jby9kbWlzLWxhYi9iaW9iZXJ0LWxhcmdlLWNhc2VkLXYxLjEtbW5saS8yNjhhMGVkMTQ5OGUyYTIyZjQ0ZTcwMTk2OWEzNTY5OGY4ZTVkNzMyZTI5MDVjMmJjOWUwMTM1NjdlZGE1MzZhP3Jlc3BvbnNlLWNvbnRlbnQtZGlzcG9zaXRpb249KiJ9XX0_&Signature=uORsa-016rTkzUurYZVRwIgnog8bVSeY3PIMd9cp0%7EAb4Jaa2AqQJbA0HR2n2HDEA5nf9O0Qy44mUs5Off3qdamT5lidD3hpy18x3yV6y00ZbcsyAAwe56McNNotJhumZMo1UP3Xmp3B0Fw0lfsOvx6Y6jih6k5ZJgMUqjP2Xha4v83eucOevfLLgIFp14UO9s6agl2RdKoWzFtaEaic5Zdv8uIQS3MQ7157kuJNngOnkVbybpVJ4r9LBSvZiJ0mqUjouTK4a8kme0-aMsFHXtjRgPT-AgFS64OdIZRQ8Q7irzChuIL7iMCz4-f4TUXrVlYf03K8mdMTOoscI7PWpw__&Key-Pair-Id=K3RPWS32NSSJCE: HTTPSConnectionPool(host='cdn-lfs.hf.co', port=443): Read timed out.\n",
      "Trying to resume download...\n"
     ]
    },
    {
     "data": {
      "application/vnd.jupyter.widget-view+json": {
       "model_id": "c81a12096a7c45e2b0ae5101a0e6e387",
       "version_major": 2,
       "version_minor": 0
      },
      "text/plain": [
       "model.safetensors:  68%|######8   | 996M/1.46G [00:00<?, ?B/s]"
      ]
     },
     "metadata": {},
     "output_type": "display_data"
    }
   ],
   "source": [
    "# Calculate the embeddings\n",
    "\n",
    "# Load libraries as before\n",
    "from transformers import AutoTokenizer, AutoModel\n",
    "import torch\n",
    "import numpy as np\n",
    "# Load a pre-trained tokenizer\n",
    "tokenizer = AutoTokenizer.from_pretrained('dmis-lab/biobert-base-cased-v1.1')\n",
    "model = AutoModel.from_pretrained('dmis-lab/biobert-base-cased-v1.1')\n",
    "# Func\n",
    "def  get_embedding(sentence):\n",
    "    inputs = tokenizer(sentence, return_tensors='pt',padding=True)\n",
    "    outputs = model(**inputs)\n",
    "    return outputs.last_hidden_state.mean(dim=1).detach().numpy()\n",
    "\n",
    "def calculate_centroid(embeddings):\n",
    "    return np.mean(embeddings,axis=0)\n",
    "\n",
    "\n",
    "#Get embeddings\n",
    "# input\n",
    "#Pre-classified sentences\n",
    "accept_titles = ['The role of adiposity in cardiometabolic traits: a Mendelian randomization analysis','Age- and sex-specific causal effects of adiposity on cardiovascular risk factors','Causal Effect of Adiposity Measures on Blood Pressure Traits in 2 Urban Swedish Cohorts: A Mendelian Randomization Study'\n",
    "]\n",
    "reject_titles = ['The causal effects of health conditions and risk factors on social and socioeconomic outcomes: Mendelian randomization in UK Biobank','Association of serum HDL-cholesterol and apolipoprotein A1 levels with risk of severe SARS-CoV-2 infection','Effect of Systolic Blood Pressure on Left Ventricular Structure and Function: A Mendelian Randomization Study']\n",
    "# Getting embeddings\n",
    "accept_embeddings = [get_embedding(sent)for sent in accept_titles]\n",
    "\n",
    "reject_embeddings = [get_embedding(sent)for sent in reject_titles]\n",
    "\n",
    "# Calculate the average locations (centroids)\n",
    "accept_centroid = calculate_centroid(accept_embeddings)\n",
    "reject_centroid = calculate_centroid(reject_embeddings)"
   ]
  },
  {
   "cell_type": "markdown",
   "id": "6cbb0c1b-4fab-437b-b2a9-209c759c4cc4",
   "metadata": {},
   "source": [
    "## Predict category of new title using biobert dmis-lab"
   ]
  },
  {
   "cell_type": "code",
   "execution_count": 2,
   "id": "d5ef762c-b857-425e-95cb-bdd526531c40",
   "metadata": {},
   "outputs": [
    {
     "name": "stdout",
     "output_type": "stream",
     "text": [
      "5.561613\n",
      "7.1732044\n",
      "Accept\n"
     ]
    }
   ],
   "source": [
    "# Predict the category of a new title\n",
    "new_title = 'Association between alcohol and cardiovascular disease: Mendelian randomisation analysis based on individual participant data.'\n",
    "new_embedding = get_embedding(new_title)\n",
    "\n",
    "# Measure distance to the centroids\n",
    "\n",
    "distance_to_accept = np.linalg.norm(new_embedding - accept_centroid)\n",
    "distance_to_reject = np.linalg.norm(new_embedding - reject_centroid)\n",
    "print(distance_to_accept)\n",
    "print(distance_to_reject)\n",
    "# Classification\n",
    "if distance_to_accept < distance_to_reject:\n",
    "    classification = 'Accept'\n",
    "else:\n",
    "    classification = 'Reject'\n",
    "\n",
    "print(classification)"
   ]
  },
  {
   "cell_type": "markdown",
   "id": "053ae336-ff97-4c61-bbff-f21e73ca8b52",
   "metadata": {},
   "source": [
    "The title's category is  wrong compared to expert knowledge."
   ]
  },
  {
   "cell_type": "markdown",
   "id": "84b033da-6b3d-4401-b910-d017a64b0c00",
   "metadata": {},
   "source": [
    "# Visualise"
   ]
  },
  {
   "cell_type": "code",
   "execution_count": 3,
   "id": "18f3fbc1-3da4-49c2-84e5-a34ee5772c10",
   "metadata": {},
   "outputs": [
    {
     "name": "stdout",
     "output_type": "stream",
     "text": [
      "(6, 1024)\n"
     ]
    },
    {
     "name": "stderr",
     "output_type": "stream",
     "text": [
      "huggingface/tokenizers: The current process just got forked, after parallelism has already been used. Disabling parallelism to avoid deadlocks...\n",
      "To disable this warning, you can either:\n",
      "\t- Avoid using `tokenizers` before the fork if possible\n",
      "\t- Explicitly set the environment variable TOKENIZERS_PARALLELISM=(true | false)\n"
     ]
    },
    {
     "data": {
      "image/png": "[encoded data removed]",
      "text/plain": [
       "<Figure size 1000x600 with 1 Axes>"
      ]
     },
     "metadata": {},
     "output_type": "display_data"
    }
   ],
   "source": [
    "# Visualise\n",
    "\n",
    "import numpy as np\n",
    "import matplotlib.pyplot as plt\n",
    "\n",
    "from sklearn.manifold import TSNE\n",
    "\n",
    "# Concatenate all embeddings\n",
    "all_embeddings = np.concatenate((accept_embeddings,reject_embeddings),axis=0)\n",
    "\n",
    "all_embeddings = np.squeeze(all_embeddings,axis=1)\n",
    "\n",
    "print(all_embeddings.shape)\n",
    "\n",
    "# Reduce the dimensionality\n",
    "# Set the perplexity to a value less than the number of samples\n",
    "perplexity_value = min(30, len(all_embeddings)-1)\n",
    "\n",
    "#Apply t-SNE for dimensionality reduction\n",
    "tsne = TSNE(n_components=2,random_state=42,perplexity=perplexity_value)\n",
    "embeddings_2d = tsne.fit_transform(all_embeddings)\n",
    "\n",
    "# Visualise the embeddings\n",
    "num_accepted = len(accept_embeddings)\n",
    "# Plotting\n",
    "plt.figure(figsize=(10,6))\n",
    "plt.scatter(embeddings_2d[:num_accepted,0],embeddings_2d[:num_accepted,1],color='b',label='Accept')\n",
    "plt.scatter(embeddings_2d[num_accepted:,0],embeddings_2d[num_accepted:,1],color='r',label='Reject')\n",
    "\n",
    "plt.title(\"2D t-SNE of Title only Embeddings - BioBERT - dmis-lab\")\n",
    "\n",
    "plt.xlabel('t-SNE Dimension 1')\n",
    "plt.ylabel('t-SNE Dimension 2')\n",
    "plt.legend()\n",
    "plt.grid(True)\n",
    "plt.show()"
   ]
  },
  {
   "cell_type": "markdown",
   "id": "315c4b9e-0788-45d5-8403-99e8759d728d",
   "metadata": {},
   "source": [
    "# Text classification Title and abstract using BioBERT-dmis-lab"
   ]
  },
  {
   "cell_type": "code",
   "execution_count": 57,
   "id": "accc204a-9f71-472d-a63b-dd2b477ad210",
   "metadata": {},
   "outputs": [],
   "source": [
    "# Load a BERT model tokenizer\n",
    "tokenizer = AutoTokenizer.from_pretrained('dmis-lab/biobert-base-cased-v1.1')\n",
    "model = AutoModel.from_pretrained('dmis-lab/biobert-base-cased-v1.1')\n",
    "\n",
    "# Write two functions (get_embeddings and calculate_centroid)\n",
    "def get_embeddings(text):\n",
    "    '''\n",
    "    This function takes in a piece of text, tokenized using the autotokenizer.\n",
    "    The tokezer output is fed to the model to generate the embeddings of that given text.\n",
    "    '''\n",
    "    inputs = tokenizer(text, return_tensors='pt',truncation=True, max_length = 512,padding=True)\n",
    "    outputs= model(**inputs)\n",
    "    return outputs.last_hidden_state.mean(dim=1).detach().numpy()\n",
    "\n",
    "# Calculate the centroid - we calculate this by getting the mean of embeddings using numpy\n",
    "def centroid_calculator(embeddings):\n",
    "    '''\n",
    "    This function takes in embeddings and returns the mean of the embeddings which is also average location\n",
    "    '''\n",
    "    return np.mean(embeddings, axis=0)\n",
    "\n",
    "# Input - UPDATED WITH ABSTRACTS, titles separated from the abstract by a full stop\n",
    "# Annotated dataset from Reviewer 1 (WNG), Accepted for included and rejected for excluded\n",
    "Accepted = ['''The role of adiposity in cardiometabolic traits: a Mendelian randomization analysis. Background: The association between adiposity and cardiometabolic traits is well known from epidemiological studies. Whilst the causal relationship is clear for some of these traits, for others it is not. We aimed to determine whether adiposity is causally related to various cardiometabolic traits using the Mendelian randomization approach.\n",
    "\n",
    "Methods and findings: We used the adiposity-associated variant rs9939609 at the FTO locus as an instrumental variable (IV) for body mass index (BMI) in a Mendelian randomization design. Thirty-six population-based studies of individuals of European descent contributed to the analyses. Age- and sex-adjusted regression models were fitted to test for association between (i) rs9939609 and BMI (n = 198,502), (ii) rs9939609 and 24 traits, and (iii) BMI and 24 traits. The causal effect of BMI on the outcome measures was quantified by IV estimators. The estimators were compared to the BMI-trait associations derived from the same individuals. In the IV analysis, we demonstrated novel evidence for a causal relationship between adiposity and incident heart failure (hazard ratio, 1.19 per BMI-unit increase; 95% CI, 1.03-1.39) and replicated earlier reports of a causal association with type 2 diabetes, metabolic syndrome, dyslipidemia, and hypertension (odds ratio for IV estimator, 1.1-1.4; all p < 0.05). For quantitative traits, our results provide novel evidence for a causal effect of adiposity on the liver enzymes alanine aminotransferase and gamma-glutamyl transferase and confirm previous reports of a causal effect of adiposity on systolic and diastolic blood pressure, fasting insulin, 2-h post-load glucose from the oral glucose tolerance test, C-reactive protein, triglycerides, and high-density lipoprotein cholesterol levels (all p < 0.05). The estimated causal effects were in agreement with traditional observational measures in all instances except for type 2 diabetes, where the causal estimate was larger than the observational estimate (p = 0.001).\n",
    "\n",
    "Conclusions: We provide novel evidence for a causal relationship between adiposity and heart failure as well as between adiposity and increased liver enzymes.''',\n",
    "\n",
    "            '''Age- and sex-specific causal effects of adiposity on cardiovascular risk factors.Observational studies have reported different effects of adiposity on cardiovascular risk factors across age and sex. Since cardiovascular risk factors are enriched in obese individuals, it has not been easy to dissect the effects of adiposity from those of other risk factors. We used a Mendelian randomization approach, applying a set of 32 genetic markers to estimate the causal effect of adiposity on blood pressure, glycemic indices, circulating lipid levels, and markers of inflammation and liver disease in up to 67,553 individuals. All analyses were stratified by age (cutoff 55 years of age) and sex. The genetic score was associated with BMI in both nonstratified analysis (P = 2.8 × 10−107) and stratified analyses (all P < 3.3 × 10−30). We found evidence of a causal effect of adiposity on blood pressure, fasting levels of insulin, C-reactive protein, interleukin-6, HDL cholesterol, and triglycerides in a nonstratified analysis and in the <55-year stratum. Further, we found evidence of a smaller causal effect on total cholesterol (P for difference = 0.015) in the ≥55-year stratum than in the <55-year stratum, a finding that could be explained by biology, survival bias, or differential medication. In conclusion, this study extends previous knowledge of the effects of adiposity by providing sex- and age-specific causal estimates on cardiovascular risk factors.''',\n",
    "            '''Causal Effect of Adiposity Measures on Blood Pressure Traits in 2 Urban Swedish Cohorts: A Mendelian Randomization Study.Background Different adiposity traits may be causally related to hypertension in different ways. By using genetic variants as randomly allocated proxies for studying the effect of modifying adiposity traits, the Mendelian randomization approach can be used to investigate this. Methods and Results In this study, we used 4 different genetic risk scores (GRS; GRS-BMI565, GRS-WHR324, GRS-VAT208, GRS-BF81) including hundreds of single nucleotide polymorphisms associated with body mass index, waist-to-hip ratio, visceral adipose tissue, and body fat, respectively. These were applied as instrumental variables in Mendelian randomization analyses. Two Swedish urban-based cohort studies, the Malmö Diet and Cancer, and the Malmö Preventive 795Projects were used to obtain genetic association estimates with blood pressure (BP). In both the Malmö Preventive Projects and Malmö Diet and Cancer studies, except for that for body fat, all of the genetic risk scores were significantly associated with systolic BP and diastolic BP, but with different magnitudes. In particular, in both cohorts, each standard deviation increase in the genetic risk score made up by the 324 single nucleotide polymorphisms associated with waist-to-hip ratio was associated with doubling of the likelihood of hypertension prevalence at baseline. However, only the genetic risk score made up by the 565 SNPs associated with body mass index was significantly associated with hypertension incidence during 23.6±4.3 years of follow-up in the Malmö Preventive Project. Conclusions We support a causal link between genetically mediated adiposity, especially waist-to-hip ratio and body mass index, and BP traits including hypertension prevalence and, for the first time to our knowledge, hypertension incidence. The differences in magnitude between these associations might suggest different mechanisms by which different adiposity affects BP/hypertension and consequently may indicate that tailored interventions are needed to reduce cardiovascular risk. ''']\n",
    "\n",
    "Rejected  = ['''The causal effects of health conditions and risk factors on social and socioeconomic outcomes: Mendelian randomization in UK Biobank.Background\n",
    "We aimed to estimate the causal effect of health conditions and risk factors on social and socioeconomic outcomes in UK Biobank. Evidence on socioeconomic impacts is important to understand because it can help governments, policy makers and decision makers allocate resources efficiently and effectively.\n",
    "Methods: We used Mendelian randomization to estimate the causal effects of eight health conditions (asthma, breast cancer, coronary heart disease, depression, eczema, migraine, osteoarthritis, type 2 diabetes) and five health risk factors [alcohol intake, body mass index (BMI), cholesterol, systolic blood pressure, smoking] on 19 social and socioeconomic outcomes in 336 997 men and women of White British ancestry in UK Biobank, aged between 39 and 72 years. Outcomes included annual household income, employment, deprivation [measured by the Townsend deprivation index (TDI)], degree-level education, happiness, loneliness and 13 other social and socioeconomic outcomes.\n",
    "Results: Results suggested that BMI, smoking and alcohol intake affect many socioeconomic outcomes. For example, smoking was estimated to reduce household income [mean difference = -£22 838, 95% confidence interval (CI): -£31 354 to -£14 321] and the chance of owning accommodation [absolute percentage change (APC) = -20.8%, 95% CI: -28.2% to -13.4%], of being satisfied with health (APC = -35.4%, 95% CI: -51.2% to -19.5%) and of obtaining a university degree (APC = -65.9%, 95% CI: -81.4% to -50.4%), while also increasing deprivation (mean difference in TDI = 1.73, 95% CI: 1.02 to 2.44, approximately 216% of a decile of TDI). There was evidence that asthma decreased household income, the chance of obtaining a university degree and the chance of cohabiting, and migraine reduced the chance of having a weekly leisure or social activity, especially in men. For other associations, estimates were null.\n",
    "Conclusions :Higher BMI, alcohol intake and smoking were all estimated to adversely affect multiple social and socioeconomic outcomes. Effects were not detected between health conditions and socioeconomic outcomes using Mendelian randomization, with the exceptions of depression, asthma and migraines. This may reflect true null associations, selection bias given the relative health and age of participants in UK Biobank, and/or lack of power to detect effects.''',\n",
    "             '''Association of serum HDL-cholesterol and apolipoprotein A1 levels with risk of severe SARS-CoV-2 infection. Individuals with features of metabolic syndrome are particularly susceptible to severe acute respiratory syndrome coronavirus 2 (SARS-CoV-2), a novel coronavirus associated with the severe respiratory disease, coronavirus disease 2019 (COVID-19). Despite considerable attention dedicated to COVID-19, the link between metabolic syndrome and SARS-CoV-2 infection remains unclear. Using data from the UK Biobank, we investigated the relationship between severity of COVID-19 and metabolic syndrome-related serum biomarkers measured prior to SARS-CoV-2 infection. Logistic regression analyses were used to test biomarker levels and biomarker-associated genetic variants with SARS-CoV-2-related outcomes. Among SARS-CoV-2-positive cases and negative controls, a 10 mg/dl increase in serum HDL-cholesterol or apolipoprotein A1 levels was associated with ∼10% reduced risk of SARS-CoV-2 infection, after adjustment for age, sex, obesity, hypertension, type 2 diabetes, and coronary artery disease. Evaluation of known genetic variants for HDL-cholesterol revealed that individuals homozygous for apolipoprotein E4 alleles had ∼2- to 3-fold higher risk of SARS-CoV-2 infection or mortality from COVID-19 compared with apolipoprotein E3 homozygotes, even after adjustment for HDL-cholesterol levels. However, cumulative effects of all evaluated HDL-cholesterol-raising alleles and Mendelian randomization analyses did not reveal association of genetically higher HDL-cholesterol levels with decreased risk of SARS-CoV-2 infection. These results implicate serum HDL-cholesterol and apolipoprotein A1 levels measured prior to SAR-CoV-2 exposure as clinical risk factors for severe COVID-19 infection but do not provide evidence that genetically elevated HDL-cholesterol levels are associated with SAR-CoV-2 infection.''',\n",
    "             '''Effect of Systolic Blood Pressure on Left Ventricular Structure and Function: A Mendelian Randomization Study.We aimed to estimate the effects of a lifelong exposure to high systolic blood pressure (SBP) on left ventricular (LV) structure and function using Mendelian randomization. A total of 5596 participants of the UK Biobank were included for whom cardiovascular magnetic resonance imaging and genetic data were available. Major exclusion criteria included nonwhite ethnicity, major cardiovascular disease, and body mass index >30 or <18.5 kg/m2. A genetic risk score to estimate genetically predicted SBP (gSBP) was constructed based on 107 previously established genetic variants. Manual cardiovascular magnetic resonance imaging postprocessing analyses were performed in 300 individuals at the extremes of gSBP (150 highest and lowest). Multivariable linear regression analyses of imaging biomarkers were performed using gSBP as continuous independent variable. All analyses except myocardial strain were validated using previously derived imaging parameters in 2530 subjects. The mean (SD) age of the study population was 62 (7) years, and 52% of subjects were female. Corrected for age, sex, and body surface area, each 10 mm Hg increase in gSBP was significantly (P<0.0056) associated with 4.01 g (SE, 1.28; P=0.002) increase in LV mass and with 2.80% (SE, 0.97; P=0.004) increase in LV global radial strain. In the validation cohort, after correction for age, sex, and body surface area, each 10 mm Hg increase in gSBP was associated with 5.27 g (SE, 1.50; P<0.001) increase in LV mass. Our study provides a novel line of evidence for a causal relationship between SBP and increased LV mass and with increased LV global radial strain.''']\n",
    "\n",
    "\n",
    "#Get the embeddings for accepted and rejected\n",
    "#Using the concept of list comrehension, loop through the titles and abstracts and generate embeddings\n",
    "accept_embeddings =[get_embeddings(text) for text in Accepted]\n",
    "reject_embeddings =[get_embeddings(text) for text in Rejected]\n",
    "\n",
    "# Centroid /average location calculator\n",
    "accepted_centroid = centroid_calculator(accept_embeddings)\n",
    "rejected_centroid = centroid_calculator(reject_embeddings)"
   ]
  },
  {
   "cell_type": "markdown",
   "id": "201f3833-98d3-42d6-9c6d-ac0c0aa7f775",
   "metadata": {},
   "source": [
    "# Predict title and abstract using BioBERT - dmis-lab"
   ]
  },
  {
   "cell_type": "code",
   "execution_count": 58,
   "id": "848ea7f6-7903-4feb-8631-6f8157cdedc7",
   "metadata": {},
   "outputs": [
    {
     "name": "stdout",
     "output_type": "stream",
     "text": [
      "2.4107227\n",
      "2.0016942\n",
      "Reject\n"
     ]
    }
   ],
   "source": [
    "# Predict a category for new title and abstract\n",
    "# Classify a new title and abstract\n",
    "\n",
    "new_title_abs = '''Association between alcohol and cardiovascular disease: Mendelian randomisation analysis based on individual participant data.Objective: To use the rs1229984 variant in the alcohol dehydrogenase 1B gene (ADH1B) as an instrument to investigate the causal role of alcohol in cardiovascular disease.\n",
    "\n",
    "Design: Mendelian randomisation meta-analysis of 56 epidemiological studies.\n",
    "\n",
    "Participants: 261 991 individuals of European descent, including 20 259 coronary heart disease cases and 10 164 stroke events. Data were available on ADH1B rs1229984 variant, alcohol phenotypes, and cardiovascular biomarkers.\n",
    "\n",
    "Main outcome measures: Odds ratio for coronary heart disease and stroke associated with the ADH1B variant in all individuals and by categories of alcohol consumption.\n",
    "\n",
    "Results: Carriers of the A-allele of ADH1B rs1229984 consumed 17.2% fewer units of alcohol per week (95% confidence interval 15.6% to 18.9%), had a lower prevalence of binge drinking (odds ratio 0.78 (95% CI 0.73 to 0.84)), and had higher abstention (odds ratio 1.27 (1.21 to 1.34)) than non-carriers. Rs1229984 A-allele carriers had lower systolic blood pressure (-0.88 (-1.19 to -0.56) mm Hg), interleukin-6 levels (-5.2% (-7.8 to -2.4%)), waist circumference (-0.3 (-0.6 to -0.1) cm), and body mass index (-0.17 (-0.24 to -0.10) kg/m(2)). Rs1229984 A-allele carriers had lower odds of coronary heart disease (odds ratio 0.90 (0.84 to 0.96)). The protective association of the ADH1B rs1229984 A-allele variant remained the same across all categories of alcohol consumption (P=0.83 for heterogeneity). Although no association of rs1229984 was identified with the combined subtypes of stroke, carriers of the A-allele had lower odds of ischaemic stroke (odds ratio 0.83 (0.72 to 0.95)).\n",
    "\n",
    "Conclusions: Individuals with a genetic variant associated with non-drinking and lower alcohol consumption had a more favourable cardiovascular profile and a reduced risk of coronary heart disease than those without the genetic variant. This suggests that reduction of alcohol consumption, even for light to moderate drinkers, is beneficial for cardiovascular health.'''\n",
    "new_title_abs_embeddings = get_embeddings(new_title_abs)\n",
    "\n",
    "# Measure distance from the centroids\n",
    "distance_to_accept = np.linalg.norm(new_title_abs_embeddings - accepted_centroid)\n",
    "distance_to_reject = np.linalg.norm(new_title_abs_embeddings - rejected_centroid)\n",
    "\n",
    "print(distance_to_accept)\n",
    "print(distance_to_reject)\n",
    "\n",
    "# Classify based on how close they are to \n",
    "if distance_to_accept < distance_to_reject:\n",
    "    classification = 'Accept'\n",
    "else:\n",
    "    classification = 'Reject'\n",
    "\n",
    "print(classification)"
   ]
  },
  {
   "cell_type": "markdown",
   "id": "0f6da5d1-e1f2-4d80-a9f5-eeffc5e15c7f",
   "metadata": {},
   "source": [
    "Title and abstract category agree with expert classification."
   ]
  },
  {
   "cell_type": "code",
   "execution_count": 59,
   "id": "34440e65-a06f-46f9-a7fc-a1c3d5bbd201",
   "metadata": {},
   "outputs": [
    {
     "name": "stdout",
     "output_type": "stream",
     "text": [
      "(6, 768)\n"
     ]
    },
    {
     "data": {
      "image/png": "[encoded data removed]",
      "text/plain": [
       "<Figure size 1000x600 with 1 Axes>"
      ]
     },
     "metadata": {},
     "output_type": "display_data"
    }
   ],
   "source": [
    "# Visualise\n",
    "\n",
    "import numpy as np\n",
    "import matplotlib.pyplot as plt\n",
    "\n",
    "from sklearn.manifold import TSNE\n",
    "\n",
    "# Concatenate all embeddings\n",
    "all_embeddings = np.concatenate((accept_embeddings,reject_embeddings),axis=0)\n",
    "\n",
    "all_embeddings = np.squeeze(all_embeddings,axis=1)\n",
    "\n",
    "print(all_embeddings.shape)\n",
    "\n",
    "# Reduce the dimensionality\n",
    "# Set the perplexity to a value less than the number of samples\n",
    "perplexity_value = min(30, len(all_embeddings)-1)\n",
    "\n",
    "#Apply t-SNE for dimensionality reduction\n",
    "tsne = TSNE(n_components=2,random_state=42,perplexity=perplexity_value)\n",
    "embeddings_2d = tsne.fit_transform(all_embeddings)\n",
    "\n",
    "# Visualise the embeddings\n",
    "num_accepted = len(accept_embeddings)\n",
    "# Plotting\n",
    "plt.figure(figsize=(10,6))\n",
    "plt.scatter(embeddings_2d[:num_accepted,0],embeddings_2d[:num_accepted,1],color='b',label='Accept')\n",
    "plt.scatter(embeddings_2d[num_accepted:,0],embeddings_2d[num_accepted:,1],color='r',label='Reject')\n",
    "\n",
    "plt.title(\"2D t-SNE of Title and Abstract Embeddings - BioBERT - dmis-lab\")\n",
    "\n",
    "plt.xlabel('t-SNE Dimension 1')\n",
    "plt.ylabel('t-SNE Dimension 2')\n",
    "plt.legend()\n",
    "plt.grid(True)\n",
    "plt.show()"
   ]
  },
  {
   "cell_type": "markdown",
   "id": "2014fb4e-b74b-4b8e-819a-8a0d9cd1422e",
   "metadata": {},
   "source": [
    "`dmis-lab/biobert-base-cased-v1.1` Title and abstracts have distinct accept and reject clusters unlike title only."
   ]
  }
 ],
 "metadata": {
  "kernelspec": {
   "display_name": "Python 3 (ipykernel)",
   "language": "python",
   "name": "python3"
  },
  "language_info": {
   "codemirror_mode": {
    "name": "ipython",
    "version": 3
   },
   "file_extension": ".py",
   "mimetype": "text/x-python",
   "name": "python",
   "nbconvert_exporter": "python",
   "pygments_lexer": "ipython3",
   "version": "3.13.1"
  }
 },
 "nbformat": 4,
 "nbformat_minor": 5
}
