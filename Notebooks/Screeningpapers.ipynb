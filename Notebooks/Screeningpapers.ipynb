{
 "cells": [
  {
   "cell_type": "markdown",
   "id": "fa8e82a2-802f-425d-ba9f-cf86c9b3c0c1",
   "metadata": {},
   "source": [
    "# Automating screening of papers\n",
    "\n",
    "Try and test different approaches and evalu which one of these is better.\n",
    "\n",
    "I) Use text classification using embeddings\n",
    "\n",
    "    a) Titles only\n",
    "    b) Titles and abstracts only\n",
    "    \n",
    "Use Linear or non-linear methods to classify the documents.\n",
    "\n",
    "II) Prompt negineering using Llama including\n",
    "\n",
    "    a) Eligibility criteria (inclusion and exclusion criteria).\n",
    "    b) Extract PICO and other necessary terms from the text (relevant features) and these can be used alongside the score to determine whether to include or not.\n"
   ]
  },
  {
   "cell_type": "markdown",
   "id": "3bb4bbe4-9f01-466d-b865-684388d8a5c6",
   "metadata": {},
   "source": [
    "# Text classification using embeddings"
   ]
  },
  {
   "cell_type": "code",
   "execution_count": 19,
   "id": "97453376-98cc-40b5-9d7f-59c6ce9e1c06",
   "metadata": {},
   "outputs": [],
   "source": [
    "# Install libraries\n",
    "#!pip install scikit-learn\n",
    "#!pip install cohere\n",
    "#!pip install transformers\n",
    "#!pip install torch\n",
    "#!pip install torch torchvision\n",
    "#!pip install matplotlib"
   ]
  },
  {
   "cell_type": "code",
   "execution_count": 1,
   "id": "77968611-7e62-44cb-8355-8a5df442d410",
   "metadata": {},
   "outputs": [],
   "source": [
    "# Import libraries\n",
    "import pandas as pd\n",
    "import numpy as np\n",
    "import altair as alt\n",
    "from sklearn.decomposition import PCA\n",
    "from sklearn.metrics.pairwise import cosine_similarity\n",
    "from sklearn.cluster import KMeans"
   ]
  },
  {
   "cell_type": "code",
   "execution_count": 13,
   "id": "7b4be408-0685-4236-8d97-e6ec475e45e2",
   "metadata": {},
   "outputs": [
    {
     "data": {
      "text/html": [
       "<div>\n",
       "<style scoped>\n",
       "    .dataframe tbody tr th:only-of-type {\n",
       "        vertical-align: middle;\n",
       "    }\n",
       "\n",
       "    .dataframe tbody tr th {\n",
       "        vertical-align: top;\n",
       "    }\n",
       "\n",
       "    .dataframe thead th {\n",
       "        text-align: right;\n",
       "    }\n",
       "</style>\n",
       "<table border=\"1\" class=\"dataframe\">\n",
       "  <thead>\n",
       "    <tr style=\"text-align: right;\">\n",
       "      <th></th>\n",
       "      <th>query</th>\n",
       "    </tr>\n",
       "  </thead>\n",
       "  <tbody>\n",
       "    <tr>\n",
       "      <th>0</th>\n",
       "      <td>which airlines fly from boston to washington ...</td>\n",
       "    </tr>\n",
       "    <tr>\n",
       "      <th>1</th>\n",
       "      <td>show me the airlines that fly between toronto...</td>\n",
       "    </tr>\n",
       "    <tr>\n",
       "      <th>2</th>\n",
       "      <td>show me round trip first class tickets from n...</td>\n",
       "    </tr>\n",
       "    <tr>\n",
       "      <th>3</th>\n",
       "      <td>i'd like the lowest fare from denver to pitts...</td>\n",
       "    </tr>\n",
       "    <tr>\n",
       "      <th>4</th>\n",
       "      <td>show me a list of ground transportation at bo...</td>\n",
       "    </tr>\n",
       "    <tr>\n",
       "      <th>...</th>\n",
       "      <td>...</td>\n",
       "    </tr>\n",
       "    <tr>\n",
       "      <th>86</th>\n",
       "      <td>what ground transportation is there in atlanta</td>\n",
       "    </tr>\n",
       "    <tr>\n",
       "      <th>87</th>\n",
       "      <td>can i take a single airline from la to charlo...</td>\n",
       "    </tr>\n",
       "    <tr>\n",
       "      <th>88</th>\n",
       "      <td>what is the cost for a one way trip from pitt...</td>\n",
       "    </tr>\n",
       "    <tr>\n",
       "      <th>89</th>\n",
       "      <td>what ground transportation is available in ba...</td>\n",
       "    </tr>\n",
       "    <tr>\n",
       "      <th>90</th>\n",
       "      <td>give me the round trip coach fare from baltim...</td>\n",
       "    </tr>\n",
       "  </tbody>\n",
       "</table>\n",
       "<p>91 rows × 1 columns</p>\n",
       "</div>"
      ],
      "text/plain": [
       "                                                query\n",
       "0    which airlines fly from boston to washington ...\n",
       "1    show me the airlines that fly between toronto...\n",
       "2    show me round trip first class tickets from n...\n",
       "3    i'd like the lowest fare from denver to pitts...\n",
       "4    show me a list of ground transportation at bo...\n",
       "..                                                ...\n",
       "86     what ground transportation is there in atlanta\n",
       "87   can i take a single airline from la to charlo...\n",
       "88   what is the cost for a one way trip from pitt...\n",
       "89   what ground transportation is available in ba...\n",
       "90   give me the round trip coach fare from baltim...\n",
       "\n",
       "[91 rows x 1 columns]"
      ]
     },
     "execution_count": 13,
     "metadata": {},
     "output_type": "execute_result"
    }
   ],
   "source": [
    "# Prepare the dataset\n",
    "df_orig=pd.read_csv('https://raw.githubusercontent.com/cohere-ai/notebooks/main/notebooks/data/atis_intents_train.csv', names=['intent','query'])\n",
    "df_orig\n",
    "\n",
    "# Take a small sample for illustration purposes\n",
    "sample_classes = ['atis_airfare', 'atis_airline', 'atis_ground_service']\n",
    "df = df_orig.sample(frac=0.1, random_state=30)\n",
    "df = df[df.intent.isin(sample_classes)]\n",
    "df_orig = df_orig.drop(df.index)\n",
    "df.reset_index(drop=True,inplace=True)\n",
    "\n",
    "# Remove unnecessary column \n",
    "intents = df['intent'] #save for a later need\n",
    "df.drop(columns=['intent'], inplace=True)\n",
    "\n",
    "df"
   ]
  },
  {
   "cell_type": "code",
   "execution_count": 18,
   "id": "2153d1bb-6a70-4ec9-800c-d9a9fe1c8b0f",
   "metadata": {},
   "outputs": [],
   "source": [
    "\n",
    "import cohere\n",
    "co = cohere.ClientV2('wqQhRHfIEh22XrbYUKH95vlwLw9ViBktcwGaXUDf')"
   ]
  },
  {
   "cell_type": "code",
   "execution_count": 21,
   "id": "ed2efa4f-fe7a-4d95-aa68-9d90660672ef",
   "metadata": {},
   "outputs": [],
   "source": [
    "# Turn the text into embeddings\n",
    "# Input; texts, model and input_type\n",
    "def get_embeddings(texts, model=\"embed-english-v3.0\", input_type=\"search_document\"):\n",
    "    output = co.embed(\n",
    "        texts=texts, \n",
    "        model=model, \n",
    "        input_type=input_type, \n",
    "        embedding_types=[\"float\"]\n",
    "    )\n",
    "    return output.embeddings.float\n",
    "\n",
    "df['query_embeds'] = get_embeddings(df['query'].tolist())"
   ]
  },
  {
   "cell_type": "code",
   "execution_count": 22,
   "id": "f93a602c-e27e-45bc-98c7-e6169d3a20c1",
   "metadata": {},
   "outputs": [
    {
     "data": {
      "text/html": [
       "<div>\n",
       "<style scoped>\n",
       "    .dataframe tbody tr th:only-of-type {\n",
       "        vertical-align: middle;\n",
       "    }\n",
       "\n",
       "    .dataframe tbody tr th {\n",
       "        vertical-align: top;\n",
       "    }\n",
       "\n",
       "    .dataframe thead th {\n",
       "        text-align: right;\n",
       "    }\n",
       "</style>\n",
       "<table border=\"1\" class=\"dataframe\">\n",
       "  <thead>\n",
       "    <tr style=\"text-align: right;\">\n",
       "      <th></th>\n",
       "      <th>query</th>\n",
       "      <th>query_embeds</th>\n",
       "    </tr>\n",
       "  </thead>\n",
       "  <tbody>\n",
       "    <tr>\n",
       "      <th>0</th>\n",
       "      <td>which airlines fly from boston to washington ...</td>\n",
       "      <td>[0.02609253, 0.012168884, -0.008903503, 0.0114...</td>\n",
       "    </tr>\n",
       "    <tr>\n",
       "      <th>1</th>\n",
       "      <td>show me the airlines that fly between toronto...</td>\n",
       "      <td>[0.013801575, 0.017181396, -0.014984131, -0.00...</td>\n",
       "    </tr>\n",
       "    <tr>\n",
       "      <th>2</th>\n",
       "      <td>show me round trip first class tickets from n...</td>\n",
       "      <td>[0.02053833, -0.038482666, 0.061523438, 0.0099...</td>\n",
       "    </tr>\n",
       "    <tr>\n",
       "      <th>3</th>\n",
       "      <td>i'd like the lowest fare from denver to pitts...</td>\n",
       "      <td>[0.0016708374, 0.015625, -0.029022217, 0.03759...</td>\n",
       "    </tr>\n",
       "    <tr>\n",
       "      <th>4</th>\n",
       "      <td>show me a list of ground transportation at bo...</td>\n",
       "      <td>[0.037628174, -0.007888794, -0.0024662018, -0....</td>\n",
       "    </tr>\n",
       "    <tr>\n",
       "      <th>...</th>\n",
       "      <td>...</td>\n",
       "      <td>...</td>\n",
       "    </tr>\n",
       "    <tr>\n",
       "      <th>86</th>\n",
       "      <td>what ground transportation is there in atlanta</td>\n",
       "      <td>[0.014678955, 0.022964478, -0.020690918, -0.00...</td>\n",
       "    </tr>\n",
       "    <tr>\n",
       "      <th>87</th>\n",
       "      <td>can i take a single airline from la to charlo...</td>\n",
       "      <td>[-0.004180908, -0.031555176, -0.008918762, 0.0...</td>\n",
       "    </tr>\n",
       "    <tr>\n",
       "      <th>88</th>\n",
       "      <td>what is the cost for a one way trip from pitt...</td>\n",
       "      <td>[0.028198242, -0.015113831, 0.008026123, 0.009...</td>\n",
       "    </tr>\n",
       "    <tr>\n",
       "      <th>89</th>\n",
       "      <td>what ground transportation is available in ba...</td>\n",
       "      <td>[0.019744873, 0.012123108, -0.03164673, -0.027...</td>\n",
       "    </tr>\n",
       "    <tr>\n",
       "      <th>90</th>\n",
       "      <td>give me the round trip coach fare from baltim...</td>\n",
       "      <td>[0.031280518, -0.009346008, -0.009613037, 0.01...</td>\n",
       "    </tr>\n",
       "  </tbody>\n",
       "</table>\n",
       "<p>91 rows × 2 columns</p>\n",
       "</div>"
      ],
      "text/plain": [
       "                                                query  \\\n",
       "0    which airlines fly from boston to washington ...   \n",
       "1    show me the airlines that fly between toronto...   \n",
       "2    show me round trip first class tickets from n...   \n",
       "3    i'd like the lowest fare from denver to pitts...   \n",
       "4    show me a list of ground transportation at bo...   \n",
       "..                                                ...   \n",
       "86     what ground transportation is there in atlanta   \n",
       "87   can i take a single airline from la to charlo...   \n",
       "88   what is the cost for a one way trip from pitt...   \n",
       "89   what ground transportation is available in ba...   \n",
       "90   give me the round trip coach fare from baltim...   \n",
       "\n",
       "                                         query_embeds  \n",
       "0   [0.02609253, 0.012168884, -0.008903503, 0.0114...  \n",
       "1   [0.013801575, 0.017181396, -0.014984131, -0.00...  \n",
       "2   [0.02053833, -0.038482666, 0.061523438, 0.0099...  \n",
       "3   [0.0016708374, 0.015625, -0.029022217, 0.03759...  \n",
       "4   [0.037628174, -0.007888794, -0.0024662018, -0....  \n",
       "..                                                ...  \n",
       "86  [0.014678955, 0.022964478, -0.020690918, -0.00...  \n",
       "87  [-0.004180908, -0.031555176, -0.008918762, 0.0...  \n",
       "88  [0.028198242, -0.015113831, 0.008026123, 0.009...  \n",
       "89  [0.019744873, 0.012123108, -0.03164673, -0.027...  \n",
       "90  [0.031280518, -0.009346008, -0.009613037, 0.01...  \n",
       "\n",
       "[91 rows x 2 columns]"
      ]
     },
     "execution_count": 22,
     "metadata": {},
     "output_type": "execute_result"
    }
   ],
   "source": [
    "df"
   ]
  },
  {
   "cell_type": "code",
   "execution_count": 23,
   "id": "0954afb1-a47f-4a26-9d5a-6da85a437240",
   "metadata": {},
   "outputs": [],
   "source": [
    "# Decomposition of data to 10-dimensional version\n",
    "# Function to return the principal components\n",
    "def get_pc(arr, n):\n",
    "    pca = PCA(n_components=n)\n",
    "    embeds_transform = pca.fit_transform(arr)\n",
    "    return embeds_transform\n",
    "  \n",
    "# Reduce embeddings to 10 principal components to aid visualization\n",
    "embeds = np.array(df['query_embeds'].tolist())\n",
    "embeds_pc = get_pc(embeds, 10)"
   ]
  },
  {
   "cell_type": "code",
   "execution_count": 27,
   "id": "9ecb69fd-2317-4eb3-942d-c28ecfedb612",
   "metadata": {},
   "outputs": [],
   "source": [
    "# Visualise the embeddings with a heatmap\n",
    "# Visualise the mebeddings on a 2D plot\n",
    "# Lower dimensions retain lesser information, we humans are limited to 2D and 3D visualisations"
   ]
  },
  {
   "cell_type": "code",
   "execution_count": 9,
   "id": "274a9466-e59d-4eec-8c78-37c89eb87c87",
   "metadata": {},
   "outputs": [],
   "source": [
    "# Using BERT a pretrained model to generate embeddings\n",
    "\n",
    "from transformers import AutoTokenizer, AutoModel\n",
    "import torch\n",
    "import numpy as np\n",
    "\n",
    "# Load a pre-trained model tokenizer\n",
    "\n",
    "tokenizer = AutoTokenizer.from_pretrained('bert-base-uncased')\n",
    "model = AutoModel.from_pretrained('bert-base-uncased')\n",
    "# Func\n",
    "def  get_embedding(sentence):\n",
    "    inputs = tokenizer(sentence, return_tensors='pt',padding=True,truncation=True)\n",
    "    outputs = model(**inputs)\n",
    "    return outputs.last_hidden_state.mean(dim=1).detach().numpy()\n",
    "\n",
    "def calculate_centroid(embeddings):\n",
    "    return np.mean(embeddings,axis=0)\n",
    "\n"
   ]
  },
  {
   "cell_type": "code",
   "execution_count": 10,
   "id": "58a59796-1823-4b6d-a32c-9b9caeefb98e",
   "metadata": {},
   "outputs": [],
   "source": [
    "# input\n",
    "#Pre-classified sentences\n",
    "concrete_sentences = ['The role of adiposity in cardiometabolic traits: a Mendelian randomization analysis','Age- and sex-specific causal effects of adiposity on cardiovascular risk factors','Causal Effect of Adiposity Measures on Blood Pressure Traits in 2 Urban Swedish Cohorts: A Mendelian Randomization Study'\n",
    "]\n",
    "abstract_sentences = ['The causal effects of health conditions and risk factors on social and socioeconomic outcomes: Mendelian randomization in UK Biobank','Association of serum HDL-cholesterol and apolipoprotein A1 levels with risk of severe SARS-CoV-2 infection','Effect of Systolic Blood Pressure on Left Ventricular Structure and Function: A Mendelian Randomization Study']\n",
    "# Getting embeddings\n",
    "concrete_embeddings = [get_embedding(sent)for sent in concrete_sentences]\n",
    "\n",
    "abstract_embeddings = [get_embedding(sent)for sent in abstract_sentences]\n",
    "# Calculate the average locations (centroids)\n",
    "concrete_centroid = calculate_centroid(concrete_embeddings)\n",
    "abstract_centroid = calculate_centroid(abstract_embeddings)\n"
   ]
  },
  {
   "cell_type": "code",
   "execution_count": 11,
   "id": "16ff7687-1229-4860-acda-51b9820c6859",
   "metadata": {},
   "outputs": [
    {
     "name": "stdout",
     "output_type": "stream",
     "text": [
      "4.0305705\n",
      "4.5406876\n",
      "Concrete\n"
     ]
    }
   ],
   "source": [
    "# Classify a new sentence\n",
    "\n",
    "new_sentence = 'Association between alcohol and cardiovascular disease: Mendelian randomisation analysis based on individual participant data.'\n",
    "new_embedding = get_embedding(new_sentence)\n",
    "\n",
    "# Measure distance to the centroids\n",
    "\n",
    "distance_to_concrete = np.linalg.norm(new_embedding - concrete_centroid)\n",
    "distance_to_abstract = np.linalg.norm(new_embedding - abstract_centroid)\n",
    "print(distance_to_concrete)\n",
    "print(distance_to_abstract)\n",
    "# Classification\n",
    "if distance_to_concrete < distance_to_abstract:\n",
    "    classification = 'Concrete'\n",
    "else:\n",
    "    classification = 'Abstract'\n",
    "\n",
    "print(classification)"
   ]
  },
  {
   "cell_type": "code",
   "execution_count": 12,
   "id": "d20917d9-e79a-4b87-a8e2-eec47ac27a8c",
   "metadata": {},
   "outputs": [],
   "source": [
    "# Use a dimensionality reduction to visualise the embeddings\n",
    "# Use t-SNE to reduce the embeddings from 768D to 2D\n"
   ]
  },
  {
   "cell_type": "code",
   "execution_count": 13,
   "id": "e5b66e45-ef59-4227-9695-b75f05ae45ef",
   "metadata": {},
   "outputs": [
    {
     "name": "stdout",
     "output_type": "stream",
     "text": [
      "(6, 768)\n"
     ]
    },
    {
     "data": {
      "image/png": "[encoded data removed]",
      "text/plain": [
       "<Figure size 1000x600 with 1 Axes>"
      ]
     },
     "metadata": {},
     "output_type": "display_data"
    }
   ],
   "source": [
    "import numpy as np\n",
    "import matplotlib.pyplot as plt\n",
    "\n",
    "from sklearn.manifold import TSNE\n",
    "\n",
    "# Concatenate all embeddings\n",
    "all_embeddings = np.concatenate((concrete_embeddings,abstract_embeddings),axis=0)\n",
    "\n",
    "all_embeddings = np.squeeze(all_embeddings,axis=1)\n",
    "\n",
    "print(all_embeddings.shape)\n",
    "\n",
    "# Reduce the dimensionality\n",
    "# Set the perplexity to a value less than the number of samples\n",
    "perplexity_value = min(30, len(all_embeddings)-1)\n",
    "\n",
    "#Apply t-SNE for dimensionality reduction\n",
    "tsne = TSNE(n_components=2,random_state=42,perplexity=perplexity_value)\n",
    "embeddings_2d = tsne.fit_transform(all_embeddings)\n",
    "\n",
    "# Visualise the embeddings\n",
    "num_concrete = len(concrete_embeddings)\n",
    "# Plotting\n",
    "plt.figure(figsize=(10,6))\n",
    "plt.scatter(embeddings_2d[:num_concrete,0],embeddings_2d[:num_concrete,1],color='b',label='Accept')\n",
    "plt.scatter(embeddings_2d[num_concrete:,0],embeddings_2d[num_concrete:,1],color='r',label='Reject')\n",
    "\n",
    "plt.title(\"2D t-SNE of Title Embeddings\")\n",
    "\n",
    "plt.xlabel('t-SNE Dimension 1')\n",
    "plt.ylabel('t-SNE Dimension 2')\n",
    "plt.legend()\n",
    "plt.grid(True)\n",
    "plt.show()"
   ]
  },
  {
   "cell_type": "code",
   "execution_count": null,
   "id": "5c5f1d49-55ec-4fc4-b52a-caf58e1a5b33",
   "metadata": {},
   "outputs": [],
   "source": [
    "# Improve my code to use the BioBERT word embeddings"
   ]
  }
 ],
 "metadata": {
  "kernelspec": {
   "display_name": "Python 3 (ipykernel)",
   "language": "python",
   "name": "python3"
  },
  "language_info": {
   "codemirror_mode": {
    "name": "ipython",
    "version": 3
   },
   "file_extension": ".py",
   "mimetype": "text/x-python",
   "name": "python",
   "nbconvert_exporter": "python",
   "pygments_lexer": "ipython3",
   "version": "3.12.4"
  }
 },
 "nbformat": 4,
 "nbformat_minor": 5
}
