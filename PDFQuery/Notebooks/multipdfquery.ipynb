{
 "cells": [
  {
   "cell_type": "markdown",
   "id": "43edd6b3-e4f4-4197-a8de-936802cb29bb",
   "metadata": {},
   "source": [
    "# Load necessary libraries"
   ]
  },
  {
   "cell_type": "code",
   "execution_count": 6,
   "id": "67c14df0-82dd-4339-9d3f-c953d8263c85",
   "metadata": {},
   "outputs": [
    {
     "data": {
      "text/plain": [
       "True"
      ]
     },
     "execution_count": 6,
     "metadata": {},
     "output_type": "execute_result"
    }
   ],
   "source": [
    "from langchain.document_loaders import PyMuPDFLoader\n",
    "import pprint # pretty printing\n",
    "import os\n",
    "from dotenv import load_dotenv\n",
    "load_dotenv() #load the openai key"
   ]
  },
  {
   "cell_type": "markdown",
   "id": "26e1a221-93b9-4a98-94d8-dd71801c1a6a",
   "metadata": {},
   "source": [
    "# Parse multiple files uisng PyMuPDFLmoader"
   ]
  },
  {
   "cell_type": "code",
   "execution_count": 13,
   "id": "2243f160-7b95-4c9a-adc8-902814f86f8e",
   "metadata": {},
   "outputs": [],
   "source": [
    "# Load the files\n",
    "# Name of files or file path\n",
    "pdf_files = ['../Data/Raw/vitDandCaonbirthweightMRvsRCT.pdf', '../Data/Raw/IVanalysisViandaStel.pdf']\n",
    "# Set an empty list to hold the documents once parsed\n",
    "documents = [] # This empty list will be populated with the parsed pdf files\n",
    "\n",
    "for file in pdf_files:\n",
    "    #pprint.pp(file)\n",
    "    loader = PyMuPDFLoader(file)\n",
    "    documents.extend(loader.load())\n",
    "\n",
    "'View the content of the multiple files'\n",
    "for item in documents:\n",
    "    pprint.pp(item.page_content)"
   ]
  },
  {
   "cell_type": "markdown",
   "id": "de231f85-f259-4e06-897e-f3d757d936c4",
   "metadata": {},
   "source": [
    " # Split text into chunks and set overlaps"
   ]
  },
  {
   "cell_type": "code",
   "execution_count": 17,
   "id": "71fe09a0-18ca-44be-877c-d6b804b3a3fc",
   "metadata": {},
   "outputs": [],
   "source": [
    "from langchain.text_splitter import RecursiveCharacterTextSplitter\n",
    "\n",
    "text_splitter = RecursiveCharacterTextSplitter(chunk_size=1000,chunk_overlap=200)\n",
    "docs = text_splitter.split_documents(documents)"
   ]
  },
  {
   "cell_type": "markdown",
   "id": "79d39463-6e5d-4698-bf55-f56f6eb0dcb0",
   "metadata": {},
   "source": [
    "# Create embeddings and store in a vector DB"
   ]
  },
  {
   "cell_type": "code",
   "execution_count": 22,
   "id": "db1d150d-9d8f-48ac-bdec-4f5e9c19b238",
   "metadata": {},
   "outputs": [],
   "source": [
    "from langchain_openai import OpenAIEmbeddings #Creation fo embeddings\n",
    "from langchain.vectorstores import FAISS # vector stores\n",
    "\n",
    "embeddings = OpenAIEmbeddings()\n",
    "vectorstore = FAISS.from_documents(docs,embeddings)"
   ]
  },
  {
   "cell_type": "markdown",
   "id": "7eb8ef3e-07b6-49bd-af64-6bfe15e3a0c3",
   "metadata": {},
   "source": [
    "# Create a retriever and LLM chain"
   ]
  },
  {
   "cell_type": "code",
   "execution_count": 27,
   "id": "46c5a2e6-a1c4-4bc9-b739-c09af4895861",
   "metadata": {},
   "outputs": [],
   "source": [
    "from langchain.chains import RetrievalQA\n",
    "from langchain_openai import ChatOpenAI\n",
    "llm = ChatOpenAI(model_name='gpt-4-turbo')\n",
    "retriever = vectorstore.as_retriever(search_kwargs={\"k\": 7})\n",
    "qa_chain = RetrievalQA.from_chain_type(\n",
    "    llm=llm,\n",
    "    retriever=retriever,\n",
    "    chain_type='stuff'\n",
    ")"
   ]
  },
  {
   "cell_type": "markdown",
   "id": "c0648a8f-a734-44ce-b665-18eda88be9fb",
   "metadata": {},
   "source": [
    "# Query the PDFs\n"
   ]
  },
  {
   "cell_type": "code",
   "execution_count": 28,
   "id": "3c8fce6d-2b21-4eae-a75a-11996aadf1af",
   "metadata": {},
   "outputs": [
    {
     "name": "stdout",
     "output_type": "stream",
     "text": [
      "{'query': 'What is the aim of this study', 'result': 'The aim of the study is to explore whether there are causal effects of maternal circulating 25(OH)D (vitamin D) and calcium on birth weight (BW), and to quantify what the magnitude of these effects are if present. The study utilizes data from recent systematic reviews, meta-analyses, and includes new data from the UK Biobank. It employs multiple analytical methods including two-sample summary data Mendelian randomization (MR) and instrumental variables applied to randomized controlled trials (RCTs), aiming to triangulate the results from these different methods to compare and validate the findings. This approach is designed to address the potential biases specific to each method and ensure a robust examination of the causative impact of 25(OH)D and calcium on birth weight.'}\n"
     ]
    }
   ],
   "source": [
    "query = \"What is the aim of this study\"\n",
    "result = qa_chain.invoke(query)\n",
    "print(result)"
   ]
  },
  {
   "cell_type": "code",
   "execution_count": 31,
   "id": "e6ee229d-a33e-4894-9bb7-d74f5eae4bed",
   "metadata": {},
   "outputs": [
    {
     "name": "stdout",
     "output_type": "stream",
     "text": [
      "\n",
      "Retrieved Documents:\n",
      "('Source: ../Data/Raw/vitDandCaonbirthweightMRvsRCT.pdf, Content: here we used '\n",
      " 'RCTs of randomisation to vitamin D supplements to quantify the effect of '\n",
      " 'cir-\\n'\n",
      " 'culating 25(OH)D on BW. This differs from the original aim and analyses of '\n",
      " 'these RCTs,\\n'\n",
      " 'which was to determine...')\n",
      "('Source: ../Data/Raw/vitDandCaonbirthweightMRvsRCT.pdf, Content: use MR to '\n",
      " 'explore whether there are causal effects of maternal circulating 25(OH)D and '\n",
      " 'cal-\\n'\n",
      " 'cium on BW and, if so, what the magnitude those effects are. With the '\n",
      " 'release of new UK Bio-\\n'\n",
      " 'bank (UKB) data...')\n",
      "('Source: ../Data/Raw/IVanalysisViandaStel.pdf, Content: ogy when '\n",
      " 'investigating the effect of therapy on the outcome\\n'\n",
      " '[6, 16–22]. In addition, the method can be used for other\\n'\n",
      " 'ORIGINAL ARTICLE\\n'\n",
      " 'V.S. Stel et al.\\n'\n",
      " '1696\\n'\n",
      " 'Downloaded from https://academic.oup.com/nd...')\n",
      "('Source: ../Data/Raw/vitDandCaonbirthweightMRvsRCT.pdf, Content: main results '\n",
      " 'and all other leave-one-out analyses. Although we aimed to use '\n",
      " 'randomisation\\n'\n",
      " 'to use supplementation with vitamin D or calcium as an instrumental variable '\n",
      " 'for RCTs,\\n'\n",
      " 'some studies did not pr...')\n",
      "('Source: ../Data/Raw/vitDandCaonbirthweightMRvsRCT.pdf, Content: S8 Table '\n",
      " 'summarises the results of this risk-of-bias assessment. Most studies were '\n",
      " 'small, with\\n'\n",
      " 'the numbers randomised being between 16 and 1,134 and only three of the 24 '\n",
      " 'RCTs including\\n'\n",
      " 'more than 200 p...')\n",
      "('Source: ../Data/Raw/vitDandCaonbirthweightMRvsRCT.pdf, Content: The study '\n",
      " 'design and different data sources are summarised in Fig 1, with Table 1, S1, '\n",
      " 'S2,\\n'\n",
      " 'S3 and S4 Text, S1, S2, S3 and S4 Tables, S1, S2 and S3 Figs providing more '\n",
      " 'data on each study\\n'\n",
      " 'that has contr...')\n",
      "('Source: ../Data/Raw/IVanalysisViandaStel.pdf, Content: Several analytical '\n",
      " 'methods for removing the effects of selec-\\n'\n",
      " 'tion bias in observational studies have been proposed. The ﬁrst\\n'\n",
      " 'aim of this paper is to compare three of those methods: the\\n'\n",
      " 'multivariable ...')\n"
     ]
    }
   ],
   "source": [
    "retrieved_docs = retriever.invoke(query)\n",
    "print(\"\\nRetrieved Documents:\")\n",
    "for doc in retrieved_docs:\n",
    "    pprint.pp(f\"Source: {doc.metadata.get('source', 'Unknown')}, Content: {doc.page_content[:200]}...\")"
   ]
  },
  {
   "cell_type": "code",
   "execution_count": null,
   "id": "569d1321-224f-43ef-ae46-d2448c178a31",
   "metadata": {},
   "outputs": [],
   "source": []
  }
 ],
 "metadata": {
  "kernelspec": {
   "display_name": "Python 3 (ipykernel)",
   "language": "python",
   "name": "python3"
  },
  "language_info": {
   "codemirror_mode": {
    "name": "ipython",
    "version": 3
   },
   "file_extension": ".py",
   "mimetype": "text/x-python",
   "name": "python",
   "nbconvert_exporter": "python",
   "pygments_lexer": "ipython3",
   "version": "3.13.3"
  }
 },
 "nbformat": 4,
 "nbformat_minor": 5
}
